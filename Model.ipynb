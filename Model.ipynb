{
  "nbformat": 4,
  "nbformat_minor": 0,
  "metadata": {
    "colab": {
      "name": "Proyect.ipynb",
      "provenance": []
    },
    "kernelspec": {
      "name": "python3",
      "display_name": "Python 3"
    },
    "language_info": {
      "name": "python"
    },
    "accelerator": "GPU",
    "widgets": {
      "application/vnd.jupyter.widget-state+json": {
        "2eb713457a96476bb11acc001955e3f5": {
          "model_module": "@jupyter-widgets/controls",
          "model_name": "HBoxModel",
          "state": {
            "_view_name": "HBoxView",
            "_dom_classes": [],
            "_model_name": "HBoxModel",
            "_view_module": "@jupyter-widgets/controls",
            "_model_module_version": "1.5.0",
            "_view_count": null,
            "_view_module_version": "1.5.0",
            "box_style": "",
            "layout": "IPY_MODEL_7fed045a663f43558519bb0c3bb8d2a8",
            "_model_module": "@jupyter-widgets/controls",
            "children": [
              "IPY_MODEL_6ea9d391dc054d0782de2964d2b3bd19",
              "IPY_MODEL_54d69bc566dc445da163044e6d33ea3c"
            ]
          }
        },
        "7fed045a663f43558519bb0c3bb8d2a8": {
          "model_module": "@jupyter-widgets/base",
          "model_name": "LayoutModel",
          "state": {
            "_view_name": "LayoutView",
            "grid_template_rows": null,
            "right": null,
            "justify_content": null,
            "_view_module": "@jupyter-widgets/base",
            "overflow": null,
            "_model_module_version": "1.2.0",
            "_view_count": null,
            "flex_flow": null,
            "width": null,
            "min_width": null,
            "border": null,
            "align_items": null,
            "bottom": null,
            "_model_module": "@jupyter-widgets/base",
            "top": null,
            "grid_column": null,
            "overflow_y": null,
            "overflow_x": null,
            "grid_auto_flow": null,
            "grid_area": null,
            "grid_template_columns": null,
            "flex": null,
            "_model_name": "LayoutModel",
            "justify_items": null,
            "grid_row": null,
            "max_height": null,
            "align_content": null,
            "visibility": null,
            "align_self": null,
            "height": null,
            "min_height": null,
            "padding": null,
            "grid_auto_rows": null,
            "grid_gap": null,
            "max_width": null,
            "order": null,
            "_view_module_version": "1.2.0",
            "grid_template_areas": null,
            "object_position": null,
            "object_fit": null,
            "grid_auto_columns": null,
            "margin": null,
            "display": null,
            "left": null
          }
        },
        "6ea9d391dc054d0782de2964d2b3bd19": {
          "model_module": "@jupyter-widgets/controls",
          "model_name": "FloatProgressModel",
          "state": {
            "_view_name": "ProgressView",
            "style": "IPY_MODEL_55c4f82fdd204de9856888a086347725",
            "_dom_classes": [],
            "description": "100%",
            "_model_name": "FloatProgressModel",
            "bar_style": "success",
            "max": 108949747,
            "_view_module": "@jupyter-widgets/controls",
            "_model_module_version": "1.5.0",
            "value": 108949747,
            "_view_count": null,
            "_view_module_version": "1.5.0",
            "orientation": "horizontal",
            "min": 0,
            "description_tooltip": null,
            "_model_module": "@jupyter-widgets/controls",
            "layout": "IPY_MODEL_e708cdd63a1a4f958c7834ea3c525f04"
          }
        },
        "54d69bc566dc445da163044e6d33ea3c": {
          "model_module": "@jupyter-widgets/controls",
          "model_name": "HTMLModel",
          "state": {
            "_view_name": "HTMLView",
            "style": "IPY_MODEL_6b975a4956c6405f94948fae412e1ad4",
            "_dom_classes": [],
            "description": "",
            "_model_name": "HTMLModel",
            "placeholder": "​",
            "_view_module": "@jupyter-widgets/controls",
            "_model_module_version": "1.5.0",
            "value": " 104M/104M [00:01&lt;00:00, 66.2MB/s]",
            "_view_count": null,
            "_view_module_version": "1.5.0",
            "description_tooltip": null,
            "_model_module": "@jupyter-widgets/controls",
            "layout": "IPY_MODEL_63aeb127f5d24a6eaba55c9fb2c08503"
          }
        },
        "55c4f82fdd204de9856888a086347725": {
          "model_module": "@jupyter-widgets/controls",
          "model_name": "ProgressStyleModel",
          "state": {
            "_view_name": "StyleView",
            "_model_name": "ProgressStyleModel",
            "description_width": "initial",
            "_view_module": "@jupyter-widgets/base",
            "_model_module_version": "1.5.0",
            "_view_count": null,
            "_view_module_version": "1.2.0",
            "bar_color": null,
            "_model_module": "@jupyter-widgets/controls"
          }
        },
        "e708cdd63a1a4f958c7834ea3c525f04": {
          "model_module": "@jupyter-widgets/base",
          "model_name": "LayoutModel",
          "state": {
            "_view_name": "LayoutView",
            "grid_template_rows": null,
            "right": null,
            "justify_content": null,
            "_view_module": "@jupyter-widgets/base",
            "overflow": null,
            "_model_module_version": "1.2.0",
            "_view_count": null,
            "flex_flow": null,
            "width": null,
            "min_width": null,
            "border": null,
            "align_items": null,
            "bottom": null,
            "_model_module": "@jupyter-widgets/base",
            "top": null,
            "grid_column": null,
            "overflow_y": null,
            "overflow_x": null,
            "grid_auto_flow": null,
            "grid_area": null,
            "grid_template_columns": null,
            "flex": null,
            "_model_name": "LayoutModel",
            "justify_items": null,
            "grid_row": null,
            "max_height": null,
            "align_content": null,
            "visibility": null,
            "align_self": null,
            "height": null,
            "min_height": null,
            "padding": null,
            "grid_auto_rows": null,
            "grid_gap": null,
            "max_width": null,
            "order": null,
            "_view_module_version": "1.2.0",
            "grid_template_areas": null,
            "object_position": null,
            "object_fit": null,
            "grid_auto_columns": null,
            "margin": null,
            "display": null,
            "left": null
          }
        },
        "6b975a4956c6405f94948fae412e1ad4": {
          "model_module": "@jupyter-widgets/controls",
          "model_name": "DescriptionStyleModel",
          "state": {
            "_view_name": "StyleView",
            "_model_name": "DescriptionStyleModel",
            "description_width": "",
            "_view_module": "@jupyter-widgets/base",
            "_model_module_version": "1.5.0",
            "_view_count": null,
            "_view_module_version": "1.2.0",
            "_model_module": "@jupyter-widgets/controls"
          }
        },
        "63aeb127f5d24a6eaba55c9fb2c08503": {
          "model_module": "@jupyter-widgets/base",
          "model_name": "LayoutModel",
          "state": {
            "_view_name": "LayoutView",
            "grid_template_rows": null,
            "right": null,
            "justify_content": null,
            "_view_module": "@jupyter-widgets/base",
            "overflow": null,
            "_model_module_version": "1.2.0",
            "_view_count": null,
            "flex_flow": null,
            "width": null,
            "min_width": null,
            "border": null,
            "align_items": null,
            "bottom": null,
            "_model_module": "@jupyter-widgets/base",
            "top": null,
            "grid_column": null,
            "overflow_y": null,
            "overflow_x": null,
            "grid_auto_flow": null,
            "grid_area": null,
            "grid_template_columns": null,
            "flex": null,
            "_model_name": "LayoutModel",
            "justify_items": null,
            "grid_row": null,
            "max_height": null,
            "align_content": null,
            "visibility": null,
            "align_self": null,
            "height": null,
            "min_height": null,
            "padding": null,
            "grid_auto_rows": null,
            "grid_gap": null,
            "max_width": null,
            "order": null,
            "_view_module_version": "1.2.0",
            "grid_template_areas": null,
            "object_position": null,
            "object_fit": null,
            "grid_auto_columns": null,
            "margin": null,
            "display": null,
            "left": null
          }
        }
      }
    }
  },
  "cells": [
    {
      "cell_type": "markdown",
      "metadata": {
        "id": "BoVsWADhbvl5"
      },
      "source": [
        "Dataset:\n",
        "[https://drive.google.com/file/d/1yL_fysiQE9KZYP8YrRhuRx6RY1LtL14u/view?usp=sharing](Dataset)"
      ]
    },
    {
      "cell_type": "markdown",
      "metadata": {
        "id": "MMqcaKH6FMpS"
      },
      "source": [
        "# Model"
      ]
    },
    {
      "cell_type": "code",
      "metadata": {
        "id": "1s-imZEASVZL"
      },
      "source": [
        "import torch\n",
        "import torch.nn as nn"
      ],
      "execution_count": 1,
      "outputs": []
    },
    {
      "cell_type": "code",
      "metadata": {
        "id": "8P38R3ZSFK0j"
      },
      "source": [
        "class Discriminator(nn.Module):\n",
        "    def __init__(self, input_dimension, features_d):\n",
        "        super(Discriminator, self).__init__()\n",
        "        self.disc = nn.Sequential(\n",
        "            # input: N x input_dimention x 64 x 64\n",
        "            nn.Conv2d(\n",
        "                input_dimension, features_d, kernel_size=4, stride=2, padding=1\n",
        "            ),\n",
        "            nn.LeakyReLU(0.2),\n",
        "            # _block(in_channels, out_channels, kernel_size, stride, padding)\n",
        "            self._block(features_d, features_d * 2, 4, 2, 1),\n",
        "            self._block(features_d * 2, features_d * 4,4, 2, 1),\n",
        "            self._block(features_d * 4, features_d * 8, 4, 2, 1),\n",
        "            # After all _block output is 4x4 (Conv2d below makes into 1x1)\n",
        "            nn.Conv2d(features_d * 8, 1, kernel_size=4, stride=2, padding=0),\n",
        "            nn.Sigmoid(),\n",
        "        )\n",
        "\n",
        "    def _block(self, in_channels, out_channels, kernel_size, stride, padding):\n",
        "        return nn.Sequential(\n",
        "            nn.Conv2d(\n",
        "                in_channels,\n",
        "                out_channels,\n",
        "                kernel_size,\n",
        "                stride,\n",
        "                padding,\n",
        "                bias=False,\n",
        "            ),\n",
        "            #nn.BatchNorm2d(out_channels),\n",
        "            nn.LeakyReLU(0.2),\n",
        "        )\n",
        "\n",
        "    def forward(self, x):\n",
        "      return self.disc(x)"
      ],
      "execution_count": 2,
      "outputs": []
    },
    {
      "cell_type": "code",
      "metadata": {
        "id": "2Yuihf-gFK38"
      },
      "source": [
        "class Generator(nn.Module):\n",
        "  def __init__(self, channels_noise, input_dimension, features_g):\n",
        "    super(Generator, self).__init__()\n",
        "    self.dropout = nn.Dropout(p=0.5) #Valor por default\n",
        "    self.net = nn.Sequential(\n",
        "        # Input: N x channels_noise x 1 x 1\n",
        "        self._block(channels_noise, features_g * 16, 4, 1, 0),\n",
        "        self._block(features_g * 16, features_g * 8, 4, 2, 1), #1024\n",
        "        self._block(features_g * 8, features_g * 4, 4, 2, 1),\n",
        "        self._block(features_g * 4, features_g * 2, 4, 2, 1),\n",
        "        nn.ConvTranspose2d(\n",
        "            features_g * 2, input_dimension, kernel_size=4, stride=2, padding=1\n",
        "        ),\n",
        "        nn.Tanh(),\n",
        "    )\n",
        "  def _block(self, in_channels, out_channels, kernel_size, stride, padding):\n",
        "    return nn.Sequential(\n",
        "        nn.ConvTranspose2d(\n",
        "            in_channels,\n",
        "            out_channels,\n",
        "            kernel_size,\n",
        "            stride,\n",
        "            padding,\n",
        "            bias=False,\n",
        "        ),\n",
        "        nn.ReLU(),\n",
        "    )\n",
        "  def forward(self, x):\n",
        "    x = self.dropout(x)\n",
        "    return self.net(x)"
      ],
      "execution_count": 3,
      "outputs": []
    },
    {
      "cell_type": "code",
      "metadata": {
        "id": "YsXRGye0Fd90"
      },
      "source": [
        "def initialize_weights(model):\n",
        "    # Initializes weights according to the DCGAN paper\n",
        "    for m in model.modules():\n",
        "        if isinstance(m, (nn.Conv2d, nn.ConvTranspose2d, nn.BatchNorm2d)):\n",
        "            nn.init.normal_(m.weight.data, 0.0, 0.02)"
      ],
      "execution_count": 4,
      "outputs": []
    },
    {
      "cell_type": "code",
      "metadata": {
        "colab": {
          "base_uri": "https://localhost:8080/"
        },
        "id": "Y1gLehk1FeA_",
        "outputId": "1ce107af-ae73-45fb-cb6c-adb5ad5aca97"
      },
      "source": [
        "device = torch.device(\"cuda\" if torch.cuda.is_available() else \"cpu\")\n",
        "def test():\n",
        "  #Batch, channels, height, width\n",
        "  x = torch.randn((8, 1, 64, 64)).to(device)\n",
        "  # Discriminador(input_dimention, features_d)\n",
        "  disc = Discriminator(1,8).to(device)\n",
        "  print(\"disc.shape = \", disc(x).shape)\n",
        "  gen = Generator(100, 1, 8).to(device)\n",
        "  z = torch.randn((8, 100, 1, 1)).to(device)\n",
        "  print(\"gen.shape = \", gen(z).shape) #(N, in_channels, H, W)\n",
        "\n",
        "test()"
      ],
      "execution_count": null,
      "outputs": [
        {
          "output_type": "stream",
          "text": [
            "disc.shape =  torch.Size([8, 1, 1, 1])\n",
            "gen.shape =  torch.Size([8, 1, 64, 64])\n"
          ],
          "name": "stdout"
        }
      ]
    },
    {
      "cell_type": "markdown",
      "metadata": {
        "id": "c3JUJV9AFpoO"
      },
      "source": [
        "# Preprocessing"
      ]
    },
    {
      "cell_type": "code",
      "metadata": {
        "colab": {
          "base_uri": "https://localhost:8080/"
        },
        "id": "pp85bcS2FeEY",
        "outputId": "c1471bc2-079b-4827-c07d-02d2f9aa8a84"
      },
      "source": [
        "from google.colab import drive\n",
        "drive.mount('/content/drive')"
      ],
      "execution_count": 5,
      "outputs": [
        {
          "output_type": "stream",
          "text": [
            "Mounted at /content/drive\n"
          ],
          "name": "stdout"
        }
      ]
    },
    {
      "cell_type": "code",
      "metadata": {
        "colab": {
          "base_uri": "https://localhost:8080/"
        },
        "id": "SlmDLO-MF7kn",
        "outputId": "acb28490-47ef-4673-df2e-d499ce7bfc06"
      },
      "source": [
        "import os\n",
        "\n",
        "#Descomprimir\n",
        "import tarfile\n",
        "tar = tarfile.open('/content/drive/MyDrive/midi.tar', 'r:')\n",
        "tar.extractall()\n",
        "tar.close()\n",
        "\n",
        "#Comprobar las carpetas\n",
        "os.listdir()"
      ],
      "execution_count": 6,
      "outputs": [
        {
          "output_type": "execute_result",
          "data": {
            "text/plain": [
              "['.config', 'drive', 'midi', 'sample_data']"
            ]
          },
          "metadata": {
            "tags": []
          },
          "execution_count": 6
        }
      ]
    },
    {
      "cell_type": "code",
      "metadata": {
        "id": "aGvQ0Ga7F7oo"
      },
      "source": [
        "from music21 import *\n",
        "import glob"
      ],
      "execution_count": 7,
      "outputs": []
    },
    {
      "cell_type": "code",
      "metadata": {
        "id": "88an7MbZF7sz"
      },
      "source": [
        "class MidiDataset(torch.utils.data.Dataset):\n",
        "  def __init__(self, transform=None):\n",
        "    self.transform = transform\n",
        "    self.midi = []\n",
        "    self.diccionario = self.all_notes()\n",
        "    for file in glob.glob(\"/content/midi/*.mid\"):\n",
        "      self.midi.append(converter.parse(file))\n",
        "        \n",
        "  def __len__(self):\n",
        "    return len(self.midi)\n",
        "\n",
        "  def __getitem__(self, idx):\n",
        "    notes = []\n",
        "    val = self.midi[idx]\n",
        "    for element in val.recurse():\n",
        "      if isinstance(element, note.Note):\n",
        "        notes.append(str(element.pitch)) #Obtiene el tono de la nota\n",
        "      elif isinstance(element, chord.Chord):\n",
        "        notes.append('.'.join(str(n) for n in element.normalOrder))\n",
        "    \n",
        "    notes = self.get_notes(notes)\n",
        "    #notes = notes[notes != np.array(None)]   notes = np.asarray(notes)\n",
        "    notes = [x for x in notes if x != None]\n",
        "    if len(notes) < 4097:\n",
        "      for i in range(4096-len(notes)):\n",
        "        notes.append(notes[i])\n",
        "    notes = notes[:4096]\n",
        "\n",
        "    notes = np.asarray(notes)\n",
        "    notes = notes.reshape(64,64)\n",
        "    #print(\"dtype\", notes.dtype)\n",
        "\n",
        "    if self.transform:\n",
        "      notes = self.transform(notes)\n",
        "\n",
        "    return notes\n",
        "\n",
        "  def all_notes(self):\n",
        "    #Obtiene las notas de los archivos midi\n",
        "    dicc = []\n",
        "    for file in glob.glob(\"/content/midi/*.mid\"):\n",
        "      midi = converter.parse(file)\n",
        "    for element in midi.recurse():\n",
        "        if isinstance(element, note.Note):\n",
        "          dicc.append(str(element.pitch)) #Obtiene el tono de la nota\n",
        "        elif isinstance(element, chord.Chord):\n",
        "          dicc.append('.'.join(str(n) for n in element.normalOrder))\n",
        "    # Obtiene el nombre de los tonos\n",
        "    pitchnames = sorted(set(item for item in dicc))\n",
        "    # Crea un diccionario de tonos y numeros enteros\n",
        "    note_to_int = dict((note, number) for number, note in enumerate(pitchnames))\n",
        "    print(\"note_to_int all_notes\", note_to_int)\n",
        "    return note_to_int\n",
        "\n",
        "  def get_notes(self, tonos):\n",
        "    notes = []\n",
        "    for char in tonos:\n",
        "      notes.append(self.diccionario.get(char))\n",
        "    return notes\n"
      ],
      "execution_count": 35,
      "outputs": []
    },
    {
      "cell_type": "markdown",
      "metadata": {
        "id": "oqJbeG6IGEje"
      },
      "source": [
        "# Métrica"
      ]
    },
    {
      "cell_type": "code",
      "metadata": {
        "id": "SsUsJz8JNoJu"
      },
      "source": [
        "import torchvision.models as models\n",
        "import torch.nn.functional as F"
      ],
      "execution_count": 9,
      "outputs": []
    },
    {
      "cell_type": "code",
      "metadata": {
        "id": "Kl18mOiWGG_Q"
      },
      "source": [
        "class InceptionV3(nn.Module):\n",
        "    \"\"\"Pretrained InceptionV3 network returning feature maps\"\"\"\n",
        "\n",
        "    # Index of default block of inception to return,\n",
        "    # corresponds to output of final average pooling\n",
        "    DEFAULT_BLOCK_INDEX = 3\n",
        "\n",
        "    # Maps feature dimensionality to their output blocks indices\n",
        "    BLOCK_INDEX_BY_DIM = {\n",
        "        64: 0,   # First max pooling features\n",
        "        192: 1,  # Second max pooling featurs\n",
        "        768: 2,  # Pre-aux classifier features\n",
        "        2048: 3  # Final average pooling features\n",
        "    }\n",
        "\n",
        "    def __init__(self,\n",
        "                 output_blocks=[DEFAULT_BLOCK_INDEX],\n",
        "                 resize_input=True,\n",
        "                 normalize_input=True,\n",
        "                 requires_grad=False):\n",
        "        \n",
        "        super(InceptionV3, self).__init__()\n",
        "\n",
        "        self.resize_input = resize_input\n",
        "        self.normalize_input = normalize_input\n",
        "        self.output_blocks = sorted(output_blocks)\n",
        "        self.last_needed_block = max(output_blocks)\n",
        "\n",
        "        assert self.last_needed_block <= 3, \\\n",
        "            'Last possible output block index is 3'\n",
        "\n",
        "        self.blocks = nn.ModuleList()\n",
        "\n",
        "        \n",
        "        inception = models.inception_v3(pretrained=True)\n",
        "\n",
        "        # Block 0: input to maxpool1\n",
        "        block0 = [\n",
        "            inception.Conv2d_1a_3x3,\n",
        "            inception.Conv2d_2a_3x3,\n",
        "            inception.Conv2d_2b_3x3,\n",
        "            nn.MaxPool2d(kernel_size=3, stride=2)\n",
        "        ]\n",
        "        self.blocks.append(nn.Sequential(*block0))\n",
        "\n",
        "        # Block 1: maxpool1 to maxpool2\n",
        "        if self.last_needed_block >= 1:\n",
        "            block1 = [\n",
        "                inception.Conv2d_3b_1x1,\n",
        "                inception.Conv2d_4a_3x3,\n",
        "                nn.MaxPool2d(kernel_size=3, stride=2)\n",
        "            ]\n",
        "            self.blocks.append(nn.Sequential(*block1))\n",
        "\n",
        "        # Block 2: maxpool2 to aux classifier\n",
        "        if self.last_needed_block >= 2:\n",
        "            block2 = [\n",
        "                inception.Mixed_5b,\n",
        "                inception.Mixed_5c,\n",
        "                inception.Mixed_5d,\n",
        "                inception.Mixed_6a,\n",
        "                inception.Mixed_6b,\n",
        "                inception.Mixed_6c,\n",
        "                inception.Mixed_6d,\n",
        "                inception.Mixed_6e,\n",
        "            ]\n",
        "            self.blocks.append(nn.Sequential(*block2))\n",
        "\n",
        "        # Block 3: aux classifier to final avgpool\n",
        "        if self.last_needed_block >= 3:\n",
        "            block3 = [\n",
        "                inception.Mixed_7a,\n",
        "                inception.Mixed_7b,\n",
        "                inception.Mixed_7c,\n",
        "                nn.AdaptiveAvgPool2d(output_size=(1, 1))\n",
        "            ]\n",
        "            self.blocks.append(nn.Sequential(*block3))\n",
        "\n",
        "        for param in self.parameters():\n",
        "            param.requires_grad = requires_grad\n",
        "\n",
        "    def forward(self, inp):\n",
        "        \"\"\"Get Inception feature maps\n",
        "        Parameters\n",
        "        ----------\n",
        "        inp : torch.autograd.Variable\n",
        "            Input tensor of shape Bx3xHxW. Values are expected to be in\n",
        "            range (0, 1)\n",
        "        Returns\n",
        "        -------\n",
        "        List of torch.autograd.Variable, corresponding to the selected output\n",
        "        block, sorted ascending by index\n",
        "        \"\"\"\n",
        "        outp = []\n",
        "        x = inp\n",
        "\n",
        "        if self.resize_input:\n",
        "            x = F.interpolate(x,\n",
        "                              size=(299, 299),\n",
        "                              mode='bilinear',\n",
        "                              align_corners=False)\n",
        "\n",
        "        if self.normalize_input:\n",
        "            x = 2 * x - 1  # Scale from range (0, 1) to range (-1, 1)\n",
        "\n",
        "        for idx, block in enumerate(self.blocks):\n",
        "            x = block(x)\n",
        "            if idx in self.output_blocks:\n",
        "                outp.append(x)\n",
        "\n",
        "            if idx == self.last_needed_block:\n",
        "                break\n",
        "\n",
        "        return outp\n"
      ],
      "execution_count": 10,
      "outputs": []
    },
    {
      "cell_type": "code",
      "metadata": {
        "id": "Bc3AU-jWkBYp",
        "colab": {
          "base_uri": "https://localhost:8080/",
          "height": 102,
          "referenced_widgets": [
            "2eb713457a96476bb11acc001955e3f5",
            "7fed045a663f43558519bb0c3bb8d2a8",
            "6ea9d391dc054d0782de2964d2b3bd19",
            "54d69bc566dc445da163044e6d33ea3c",
            "55c4f82fdd204de9856888a086347725",
            "e708cdd63a1a4f958c7834ea3c525f04",
            "6b975a4956c6405f94948fae412e1ad4",
            "63aeb127f5d24a6eaba55c9fb2c08503"
          ]
        },
        "outputId": "9795d962-49fd-4438-aee8-dd071925a10e"
      },
      "source": [
        "block_idx = InceptionV3.BLOCK_INDEX_BY_DIM[2048]\n",
        "model = InceptionV3([block_idx])\n",
        "model=model.cuda()"
      ],
      "execution_count": 11,
      "outputs": [
        {
          "output_type": "stream",
          "text": [
            "Downloading: \"https://download.pytorch.org/models/inception_v3_google-0cc3c7bd.pth\" to /root/.cache/torch/hub/checkpoints/inception_v3_google-0cc3c7bd.pth\n"
          ],
          "name": "stderr"
        },
        {
          "output_type": "display_data",
          "data": {
            "application/vnd.jupyter.widget-view+json": {
              "model_id": "2eb713457a96476bb11acc001955e3f5",
              "version_minor": 0,
              "version_major": 2
            },
            "text/plain": [
              "HBox(children=(FloatProgress(value=0.0, max=108949747.0), HTML(value='')))"
            ]
          },
          "metadata": {
            "tags": []
          }
        },
        {
          "output_type": "stream",
          "text": [
            "\n"
          ],
          "name": "stdout"
        }
      ]
    },
    {
      "cell_type": "code",
      "metadata": {
        "id": "34HWo5YkGN6v"
      },
      "source": [
        "import numpy as np\n",
        "def calculate_activation_statistics(images,model,batch_size=128, dims=2048,\n",
        "                    cuda=False):\n",
        "    model.eval()\n",
        "    act=np.empty((len(images), dims))\n",
        "    \n",
        "    if cuda:\n",
        "        batch=images.cuda()\n",
        "    else:\n",
        "        batch=images\n",
        "    pred = model(batch)[0]\n",
        "\n",
        "        # If model output is not scalar, apply global spatial average pooling.\n",
        "        # This happens if you choose a dimensionality not equal 2048.\n",
        "    if pred.size(2) != 1 or pred.size(3) != 1:\n",
        "        pred = adaptive_avg_pool2d(pred, output_size=(1, 1))\n",
        "\n",
        "    act= pred.cpu().data.numpy().reshape(pred.size(0), -1)\n",
        "    mu = np.mean(act, axis=0)\n",
        "    sigma = np.cov(act, rowvar=False)\n",
        "    return mu, sigma"
      ],
      "execution_count": 12,
      "outputs": []
    },
    {
      "cell_type": "code",
      "metadata": {
        "id": "zgvnrcPmGQ9a"
      },
      "source": [
        "from scipy import linalg\n",
        "def calculate_frechet_distance(mu1, sigma1, mu2, sigma2, eps=1e-6):\n",
        "    \"\"\"Numpy implementation of the Frechet Distance.\n",
        "    The Frechet distance between two multivariate Gaussians X_1 ~ N(mu_1, C_1)\n",
        "    and X_2 ~ N(mu_2, C_2) is\n",
        "            d^2 = ||mu_1 - mu_2||^2 + Tr(C_1 + C_2 - 2*sqrt(C_1*C_2)).\n",
        "    \"\"\"\n",
        "\n",
        "    mu1 = np.atleast_1d(mu1)\n",
        "    mu2 = np.atleast_1d(mu2)\n",
        "\n",
        "    sigma1 = np.atleast_2d(sigma1)\n",
        "    sigma2 = np.atleast_2d(sigma2)\n",
        "\n",
        "    assert mu1.shape == mu2.shape, \\\n",
        "        'Training and test mean vectors have different lengths'\n",
        "    assert sigma1.shape == sigma2.shape, \\\n",
        "        'Training and test covariances have different dimensions'\n",
        "\n",
        "    diff = mu1 - mu2\n",
        "\n",
        "    \n",
        "    covmean, _ = linalg.sqrtm(sigma1.dot(sigma2), disp=False)\n",
        "    if not np.isfinite(covmean).all():\n",
        "        msg = ('fid calculation produces singular product; '\n",
        "               'adding %s to diagonal of cov estimates') % eps\n",
        "        print(msg)\n",
        "        offset = np.eye(sigma1.shape[0]) * eps\n",
        "        covmean = linalg.sqrtm((sigma1 + offset).dot(sigma2 + offset))\n",
        "\n",
        "    \n",
        "    if np.iscomplexobj(covmean):\n",
        "        if not np.allclose(np.diagonal(covmean).imag, 0, atol=1e-3):\n",
        "            m = np.max(np.abs(covmean.imag))\n",
        "            raise ValueError('Imaginary component {}'.format(m))\n",
        "        covmean = covmean.real\n",
        "\n",
        "    tr_covmean = np.trace(covmean)\n",
        "\n",
        "    return (diff.dot(diff) + np.trace(sigma1) +\n",
        "            np.trace(sigma2) - 2 * tr_covmean)"
      ],
      "execution_count": 26,
      "outputs": []
    },
    {
      "cell_type": "code",
      "metadata": {
        "id": "XBceiVgkGRAR"
      },
      "source": [
        "def calculate_fretchet(images_real,images_fake,model):\n",
        "     mu_1,std_1=calculate_activation_statistics(images_real,model,cuda=True)\n",
        "     mu_2,std_2=calculate_activation_statistics(images_fake,model,cuda=True)\n",
        "    \n",
        "     \"\"\"get fretched distance\"\"\"\n",
        "     fid_value = calculate_frechet_distance(mu_1, std_1, mu_2, std_2)\n",
        "     return fid_value"
      ],
      "execution_count": 14,
      "outputs": []
    },
    {
      "cell_type": "markdown",
      "metadata": {
        "id": "pALeXbQqG_ia"
      },
      "source": [
        "# Training"
      ]
    },
    {
      "cell_type": "code",
      "metadata": {
        "id": "aRbw0mchHFjj"
      },
      "source": [
        "import torch.optim as optim\n",
        "import torchvision\n",
        "import torchvision.transforms as transforms\n",
        "from torch.utils.data import DataLoader\n",
        "import numpy as np"
      ],
      "execution_count": 15,
      "outputs": []
    },
    {
      "cell_type": "code",
      "metadata": {
        "id": "HgNbv3fPlobS"
      },
      "source": [
        "torch.cuda.empty_cache()"
      ],
      "execution_count": 37,
      "outputs": []
    },
    {
      "cell_type": "code",
      "metadata": {
        "id": "UYHQeDVaHcBj"
      },
      "source": [
        "# Hyperparameters etc.\n",
        "device = torch.device(\"cuda\" if torch.cuda.is_available() else \"cpu\")\n",
        "learning_rate = 2e-4\n",
        "batch_size = 128\n",
        "dimension = 1\n",
        "noise_dim = 100\n",
        "num_epochs = 5\n",
        "features_dic = 64\n",
        "features_gen = 64"
      ],
      "execution_count": 17,
      "outputs": []
    },
    {
      "cell_type": "code",
      "metadata": {
        "id": "MNawp_AmHcE6"
      },
      "source": [
        "def get_transform():\n",
        "    transforms_midi = []\n",
        "    transforms_midi.append(transforms.ToTensor())\n",
        "    return transforms.Compose(transforms_midi)"
      ],
      "execution_count": 18,
      "outputs": []
    },
    {
      "cell_type": "code",
      "metadata": {
        "id": "Y0ExE5bE72If",
        "colab": {
          "base_uri": "https://localhost:8080/"
        },
        "outputId": "6a03cd19-0615-40db-dd5b-0421a559f623"
      },
      "source": [
        "dataset = MidiDataset(transform=get_transform())\n",
        "print(\"len dataset\", len(dataset))"
      ],
      "execution_count": 36,
      "outputs": [
        {
          "output_type": "stream",
          "text": [
            "note_to_int all_notes {'0.3': 0, '1.3': 1, '1.4': 2, '1.6': 3, '1.7': 4, '10.1': 5, '11.3': 6, '3.6': 7, '6.10': 8, '9.2': 9, 'A2': 10, 'A3': 11, 'A4': 12, 'A5': 13, 'A6': 14, 'A7': 15, 'B-2': 16, 'B-3': 17, 'B-4': 18, 'B-5': 19, 'B-6': 20, 'B3': 21, 'B4': 22, 'B6': 23, 'C#3': 24, 'C#4': 25, 'C#5': 26, 'C#6': 27, 'C2': 28, 'C3': 29, 'C4': 30, 'C5': 31, 'C6': 32, 'D3': 33, 'D4': 34, 'D5': 35, 'D6': 36, 'D7': 37, 'E-3': 38, 'E-4': 39, 'E-5': 40, 'E-6': 41, 'E3': 42, 'E4': 43, 'E5': 44, 'E6': 45, 'F#2': 46, 'F#3': 47, 'F#4': 48, 'F#5': 49, 'F#6': 50, 'F3': 51, 'F4': 52, 'F5': 53, 'F6': 54, 'G#4': 55, 'G#6': 56, 'G2': 57, 'G3': 58, 'G4': 59, 'G5': 60}\n",
            "len dataset 328\n"
          ],
          "name": "stdout"
        }
      ]
    },
    {
      "cell_type": "code",
      "metadata": {
        "id": "U9rG7M6c75cE"
      },
      "source": [
        "dataloader = torch.utils.data.DataLoader(dataset, batch_size=batch_size, shuffle=True)\n",
        "gen = Generator(noise_dim, dimension, features_gen).to(device)\n",
        "disc = Discriminator(dimension, features_dic).to(device)\n",
        "initialize_weights(gen)\n",
        "initialize_weights(disc)"
      ],
      "execution_count": 20,
      "outputs": []
    },
    {
      "cell_type": "code",
      "metadata": {
        "id": "kPxwtM0UHjgx"
      },
      "source": [
        "opt_gen = optim.Adam(gen.parameters(), lr=learning_rate, betas=(0.5, 0.999))\n",
        "opt_disc = optim.Adam(disc.parameters(), lr=learning_rate, betas=(0.5, 0.999))\n",
        "criterion = nn.BCELoss()\n",
        "\n",
        "fixed_noise = torch.randn(32, noise_dim, 1, 1).to(device)\n",
        "step = 0"
      ],
      "execution_count": 21,
      "outputs": []
    },
    {
      "cell_type": "code",
      "metadata": {
        "colab": {
          "base_uri": "https://localhost:8080/"
        },
        "id": "5UQv7ylTHt5N",
        "outputId": "c8e36255-10ca-4242-f7a5-ed0bb0eb505d"
      },
      "source": [
        "disc.train()"
      ],
      "execution_count": 22,
      "outputs": [
        {
          "output_type": "execute_result",
          "data": {
            "text/plain": [
              "Discriminator(\n",
              "  (disc): Sequential(\n",
              "    (0): Conv2d(1, 64, kernel_size=(4, 4), stride=(2, 2), padding=(1, 1))\n",
              "    (1): LeakyReLU(negative_slope=0.2)\n",
              "    (2): Sequential(\n",
              "      (0): Conv2d(64, 128, kernel_size=(4, 4), stride=(2, 2), padding=(1, 1), bias=False)\n",
              "      (1): LeakyReLU(negative_slope=0.2)\n",
              "    )\n",
              "    (3): Sequential(\n",
              "      (0): Conv2d(128, 256, kernel_size=(4, 4), stride=(2, 2), padding=(1, 1), bias=False)\n",
              "      (1): LeakyReLU(negative_slope=0.2)\n",
              "    )\n",
              "    (4): Sequential(\n",
              "      (0): Conv2d(256, 512, kernel_size=(4, 4), stride=(2, 2), padding=(1, 1), bias=False)\n",
              "      (1): LeakyReLU(negative_slope=0.2)\n",
              "    )\n",
              "    (5): Conv2d(512, 1, kernel_size=(4, 4), stride=(2, 2))\n",
              "    (6): Sigmoid()\n",
              "  )\n",
              ")"
            ]
          },
          "metadata": {
            "tags": []
          },
          "execution_count": 22
        }
      ]
    },
    {
      "cell_type": "code",
      "metadata": {
        "colab": {
          "base_uri": "https://localhost:8080/"
        },
        "id": "GxXy_FRYHjj_",
        "outputId": "5a3e0df8-3606-47a5-b187-c85931f3b64d"
      },
      "source": [
        "gen.train()"
      ],
      "execution_count": 23,
      "outputs": [
        {
          "output_type": "execute_result",
          "data": {
            "text/plain": [
              "Generator(\n",
              "  (dropout): Dropout(p=0.5, inplace=False)\n",
              "  (net): Sequential(\n",
              "    (0): Sequential(\n",
              "      (0): ConvTranspose2d(100, 1024, kernel_size=(4, 4), stride=(1, 1), bias=False)\n",
              "      (1): ReLU()\n",
              "    )\n",
              "    (1): Sequential(\n",
              "      (0): ConvTranspose2d(1024, 512, kernel_size=(4, 4), stride=(2, 2), padding=(1, 1), bias=False)\n",
              "      (1): ReLU()\n",
              "    )\n",
              "    (2): Sequential(\n",
              "      (0): ConvTranspose2d(512, 256, kernel_size=(4, 4), stride=(2, 2), padding=(1, 1), bias=False)\n",
              "      (1): ReLU()\n",
              "    )\n",
              "    (3): Sequential(\n",
              "      (0): ConvTranspose2d(256, 128, kernel_size=(4, 4), stride=(2, 2), padding=(1, 1), bias=False)\n",
              "      (1): ReLU()\n",
              "    )\n",
              "    (4): ConvTranspose2d(128, 1, kernel_size=(4, 4), stride=(2, 2), padding=(1, 1))\n",
              "    (5): Tanh()\n",
              "  )\n",
              ")"
            ]
          },
          "metadata": {
            "tags": []
          },
          "execution_count": 23
        }
      ]
    },
    {
      "cell_type": "code",
      "metadata": {
        "colab": {
          "base_uri": "https://localhost:8080/"
        },
        "id": "LQZcDhlvHt8a",
        "outputId": "ba7dd2aa-97a7-4eb0-8255-0c6f571d6bb6"
      },
      "source": [
        "list_loss_disc = []\n",
        "list_loss_gen = []\n",
        "for epoch in range(num_epochs):\n",
        "  for batch_idx, real in enumerate(dataloader):\n",
        "    #print(\"real dtype\", real.dtype)\n",
        "    real = real.to(device)\n",
        "    noise = torch.randn(batch_size, noise_dim, 1, 1).to(device)\n",
        "    fake = gen(noise)\n",
        "\n",
        "    #El modelo Inception está entrenado para manejar 3 canales\n",
        "    real_inception = torch.cat((real.float(), real.float(), real.float()),1)\n",
        "    fake_inception = torch.cat((fake.float(), fake.float(), fake.float()),1)\n",
        "\n",
        "    ### Train Discriminator: max log(D(x)) + log(1 - D(G(z)))\n",
        "    disc_real = disc(real.float()).reshape(-1)\n",
        "    loss_disc_real = criterion(disc_real, torch.ones_like(disc_real))\n",
        "    disc_fake = disc(fake.detach()).reshape(-1)\n",
        "    loss_disc_fake = criterion(disc_fake, torch.zeros_like(disc_fake))\n",
        "    loss_disc = (loss_disc_real + loss_disc_fake) / 2\n",
        "    disc.zero_grad()\n",
        "    loss_disc.backward()\n",
        "    opt_disc.step()\n",
        "\n",
        "    ### Train Generator: min log(1 - D(G(z))) <-> max log(D(G(z))\n",
        "    output = disc(fake).reshape(-1)\n",
        "    loss_gen = criterion(output, torch.ones_like(output))\n",
        "    gen.zero_grad()\n",
        "    loss_gen.backward()\n",
        "    opt_gen.step()\n",
        "\n",
        "    # Print losses occasionally and print to tensorboard\n",
        "    if batch_idx % 10 == 0:\n",
        "      list_loss_disc.append(loss_disc)\n",
        "      list_loss_gen.append(loss_gen)\n",
        "      fretchet_dist=calculate_fretchet(real_inception,fake_inception,model)   #Calcula la métrica\n",
        "      print(\n",
        "        f\"Epoch [{epoch}/{num_epochs}] Batch {batch_idx}/{len(dataloader)} \\\n",
        "        Loss D: {loss_disc:.4f}, loss G: {loss_gen:.4f}, Fretchet_Distance: {fretchet_dist:.4f}\"\n",
        "        )\n",
        "\n",
        "      with torch.no_grad():\n",
        "        new = gen(fixed_noise)\n",
        "        #generate(dicc, epoch)\n",
        "      step += 1"
      ],
      "execution_count": 27,
      "outputs": [
        {
          "output_type": "stream",
          "text": [
            "Epoch [0/5] Batch 0/3         Loss D: 0.2766, loss G: 1.0931, Fretchet_Distance: 41875.6311\n",
            "Epoch [1/5] Batch 0/3         Loss D: 0.0792, loss G: 2.8295, Fretchet_Distance: 41700.8436\n",
            "Epoch [2/5] Batch 0/3         Loss D: 0.0047, loss G: 5.4764, Fretchet_Distance: 42458.3580\n",
            "Epoch [3/5] Batch 0/3         Loss D: 0.0011, loss G: 6.5133, Fretchet_Distance: 41481.6896\n",
            "Epoch [4/5] Batch 0/3         Loss D: 0.0006, loss G: 6.8775, Fretchet_Distance: 41095.1685\n"
          ],
          "name": "stdout"
        }
      ]
    },
    {
      "cell_type": "code",
      "metadata": {
        "colab": {
          "base_uri": "https://localhost:8080/",
          "height": 294
        },
        "id": "obOQBt3HHt-_",
        "outputId": "2ff1bc6a-35eb-482f-d100-8278eb2809df"
      },
      "source": [
        "import numpy as np\n",
        "import matplotlib.pyplot as plt\n",
        "def plot_loss():\n",
        "        plt.plot(list_loss_disc, c='red')\n",
        "        plt.plot(list_loss_gen, c='blue')\n",
        "        plt.title(\"GAN Loss per Epoch\")\n",
        "        plt.legend(['Discriminator', 'Generator'])\n",
        "        plt.xlabel('Epoch')\n",
        "        plt.ylabel('Loss')\n",
        "        #plt.savefig('GAN_Loss_per_Epoch_final.png', transparent=True)\n",
        "        plt.show()\n",
        "        #plt.close()\n",
        "plot_loss()"
      ],
      "execution_count": 28,
      "outputs": [
        {
          "output_type": "display_data",
          "data": {
            "image/png": "[encoded data removed]",
            "text/plain": [
              "<Figure size 432x288 with 1 Axes>"
            ]
          },
          "metadata": {
            "tags": [],
            "image/png": {
              "width": 376,
              "height": 277
            },
            "needs_background": "light"
          }
        }
      ]
    },
    {
      "cell_type": "markdown",
      "metadata": {
        "id": "U2dBhYn-IBkq"
      },
      "source": [
        "# Generate"
      ]
    },
    {
      "cell_type": "code",
      "metadata": {
        "id": "zPteo-7pIDRc"
      },
      "source": [
        "def create_midi(prediction_output, filename):\n",
        "    offset = 0\n",
        "    output_notes = []\n",
        "\n",
        "    for item in prediction_output:\n",
        "        pattern = item[0]\n",
        "        if ('.' in pattern) or pattern.isdigit():\n",
        "            notes_in_chord = pattern.split('.')\n",
        "            notes = []\n",
        "            for current_note in notes_in_chord:\n",
        "                new_note = note.Note(int(current_note))\n",
        "                new_note.storedInstrument = instrument.Piano()\n",
        "                notes.append(new_note)\n",
        "            new_chord = chord.Chord(notes)\n",
        "            new_chord.offset = offset\n",
        "            output_notes.append(new_chord)\n",
        "        else:\n",
        "            new_note = note.Note(pattern)\n",
        "            new_note.offset = offset\n",
        "            new_note.storedInstrument = instrument.Piano()\n",
        "            output_notes.append(new_note)\n",
        "\n",
        "        offset += 0.5\n",
        "\n",
        "    midi_stream = stream.Stream(output_notes)\n",
        "    midi_stream.write('midi', fp='{}.mid'.format(filename))"
      ],
      "execution_count": 32,
      "outputs": []
    },
    {
      "cell_type": "code",
      "metadata": {
        "id": "IU2Lcj7p8uFs"
      },
      "source": [
        "def generate(dicc):\n",
        "  pitchnames = dicc.keys()\n",
        "  print(\"len pitchnames\", len(pitchnames))\n",
        "  norm = int(len(pitchnames)/2)\n",
        "  int_to_note = dict((number, note) for number, note in enumerate(pitchnames))\n",
        "  fixed_noise = torch.randn(1, 100, 1, 1).to(device)\n",
        "  fake = gen(fixed_noise)\n",
        "  print(\"fake shape: \", fake.shape)\n",
        "  fake = fake[0].resize(1, 64*64)\n",
        "  print(\"fake\", fake[0,100:200])\n",
        "  pred_notes = fake[0]*norm+norm\n",
        "  print(\"pred desnorm\", pred_notes[100:200])\n",
        "  pred_notes = [int_to_note[int(x)] for x in pred_notes]\n",
        "  print(\"pred int\", pred_notes)\n",
        "      \n",
        "  create_midi(pred_notes[:700], 'gan_final')"
      ],
      "execution_count": 42,
      "outputs": []
    },
    {
      "cell_type": "code",
      "metadata": {
        "id": "03GX44Ad8xQm",
        "colab": {
          "base_uri": "https://localhost:8080/"
        },
        "outputId": "cc592a58-ec63-401a-9f6b-74b3e13f5465"
      },
      "source": [
        "dicc = dataset.diccionario\n",
        "print(dicc)\n",
        "generate(dicc)"
      ],
      "execution_count": 43,
      "outputs": [
        {
          "output_type": "stream",
          "text": [
            "{'0.3': 0, '1.3': 1, '1.4': 2, '1.6': 3, '1.7': 4, '10.1': 5, '11.3': 6, '3.6': 7, '6.10': 8, '9.2': 9, 'A2': 10, 'A3': 11, 'A4': 12, 'A5': 13, 'A6': 14, 'A7': 15, 'B-2': 16, 'B-3': 17, 'B-4': 18, 'B-5': 19, 'B-6': 20, 'B3': 21, 'B4': 22, 'B6': 23, 'C#3': 24, 'C#4': 25, 'C#5': 26, 'C#6': 27, 'C2': 28, 'C3': 29, 'C4': 30, 'C5': 31, 'C6': 32, 'D3': 33, 'D4': 34, 'D5': 35, 'D6': 36, 'D7': 37, 'E-3': 38, 'E-4': 39, 'E-5': 40, 'E-6': 41, 'E3': 42, 'E4': 43, 'E5': 44, 'E6': 45, 'F#2': 46, 'F#3': 47, 'F#4': 48, 'F#5': 49, 'F#6': 50, 'F3': 51, 'F4': 52, 'F5': 53, 'F6': 54, 'G#4': 55, 'G#6': 56, 'G2': 57, 'G3': 58, 'G4': 59, 'G5': 60}\n",
            "len pitchnames 61\n",
            "fake shape:  torch.Size([1, 1, 64, 64])\n",
            "fake tensor([ 0.9959,  0.6282,  0.7790,  0.9492,  0.9936, -0.1445,  0.9241,  0.9026,\n",
            "         0.9944,  0.5813,  0.7992,  0.9451,  0.9937, -0.0585,  0.9380,  0.8646,\n",
            "         0.9907,  0.5916,  0.7596,  0.8927,  0.9808,  0.0928,  0.8914,  0.6412,\n",
            "         0.9189,  0.4280,  0.6961,  0.1602,  0.0889,  0.7553,  0.6962,  0.9223,\n",
            "         0.4661,  0.9499,  0.9048,  0.9857,  0.8314,  0.9829,  0.9349,  0.9921,\n",
            "         0.7079,  0.9906,  0.9481,  0.9966,  0.8867,  0.9951,  0.9552,  0.9958,\n",
            "         0.8393,  0.9929,  0.9497,  0.9969,  0.9113,  0.9939,  0.9649,  0.9958,\n",
            "         0.7799,  0.9921,  0.9400,  0.9963,  0.8890,  0.9948,  0.9566,  0.9954,\n",
            "         0.8364,  0.9925,  0.9442,  0.9962,  0.9138,  0.9941,  0.9619,  0.9959,\n",
            "         0.7802,  0.9927,  0.9416,  0.9964,  0.8891,  0.9930,  0.9433,  0.9913,\n",
            "         0.7848,  0.9816,  0.8642,  0.9855,  0.8408,  0.9583,  0.8302,  0.9360,\n",
            "         0.6222,  0.7544,  0.0552,  0.2668,  0.2275,  0.8872,  0.9166, -0.0786,\n",
            "         0.9692,  0.9770,  0.9986, -0.6973], device='cuda:0',\n",
            "       grad_fn=<SliceBackward>)\n",
            "pred desnorm tensor([59.8758, 48.8457, 53.3713, 58.4754, 59.8078, 25.6648, 57.7229, 57.0765,\n",
            "        59.8309, 47.4380, 53.9752, 58.3532, 59.8100, 28.2437, 58.1413, 55.9393,\n",
            "        59.7206, 47.7480, 52.7873, 56.7799, 59.4245, 32.7843, 56.7418, 49.2357,\n",
            "        57.5660, 42.8411, 50.8828, 34.8068, 32.6661, 52.6580, 50.8852, 57.6696,\n",
            "        43.9828, 58.4984, 57.1426, 59.5706, 54.9409, 59.4885, 58.0463, 59.7642,\n",
            "        51.2383, 59.7192, 58.4443, 59.8992, 56.6002, 59.8520, 58.6566, 59.8736,\n",
            "        55.1794, 59.7869, 58.4895, 59.9077, 57.3385, 59.8176, 58.9470, 59.8752,\n",
            "        53.3955, 59.7623, 58.1991, 59.8884, 56.6706, 59.8455, 58.6972, 59.8628,\n",
            "        55.0908, 59.7744, 58.3252, 59.8864, 57.4147, 59.8238, 58.8585, 59.8761,\n",
            "        53.4063, 59.7801, 58.2477, 59.8927, 56.6740, 59.7885, 58.2981, 59.7401,\n",
            "        53.5440, 59.4473, 55.9263, 59.5637, 55.2236, 58.7505, 54.9055, 58.0808,\n",
            "        48.6656, 52.6329, 31.6546, 38.0035, 36.8253, 56.6173, 57.4980, 27.6429,\n",
            "        59.0755, 59.3114, 59.9574,  9.0814], device='cuda:0',\n",
            "       grad_fn=<SliceBackward>)\n",
            "pred int ['C4', 'E-3', 'C#5', 'E-4', 'D7', 'E6', 'B3', 'E-6', 'C3', 'F#6', 'A6', 'E6', 'E3', 'F#6', 'B-4', 'E5', 'C2', 'F3', 'A4', 'F#4', 'E3', 'F3', 'B-2', 'E5', 'C#6', 'F4', 'A3', 'F#3', 'E4', 'F#6', 'B-3', 'E5', 'C2', 'F3', 'A4', 'F#4', 'E3', 'F3', 'B-2', 'E4', 'C2', 'F4', 'A3', 'F#4', 'E4', 'F3', 'B-3', 'E6', 'C2', 'F#6', 'A4', 'F#2', 'E-6', 'F#4', 'B-4', 'E-6', 'C2', 'F#3', 'A7', 'E-6', 'E-3', 'E-3', 'C#3', 'C6', 'D5', 'B4', 'C4', 'F3', 'G2', 'E-4', 'E-6', 'G#6', 'G4', 'C#3', 'G#4', 'G#6', 'G4', 'E6', 'F3', 'G3', 'G4', 'C#3', 'G2', 'G2', 'G4', 'F#5', 'F5', 'G3', 'G4', 'C#6', 'G3', 'G#6', 'G4', 'F#2', 'F5', 'G3', 'G4', 'C#3', 'G2', 'G2', 'G4', 'F#4', 'F5', 'G3', 'G4', 'C#4', 'G2', 'G2', 'G4', 'F#3', 'F5', 'G3', 'G4', 'C2', 'G3', 'G#4', 'G4', 'F#3', 'F4', 'G#6', 'G4', 'C6', 'G#6', 'F#5', 'G2', 'E3', 'F#6', 'D4', 'C6', 'F4', 'F#6', 'G2', 'E4', 'G3', 'G2', 'G4', 'F6', 'G4', 'G3', 'G4', 'F3', 'G4', 'G3', 'G4', 'G#6', 'G4', 'G3', 'G4', 'G#4', 'G4', 'G3', 'G4', 'G2', 'G4', 'G3', 'G4', 'F5', 'G4', 'G3', 'G4', 'G#6', 'G4', 'G3', 'G4', 'G#4', 'G4', 'G3', 'G4', 'G2', 'G4', 'G3', 'G4', 'F5', 'G4', 'G3', 'G4', 'G#6', 'G4', 'G3', 'G4', 'F5', 'G4', 'G#4', 'G4', 'G#4', 'G3', 'F6', 'G3', 'F#4', 'F4', 'C5', 'E-3', 'D6', 'G#6', 'G2', 'C#6', 'G4', 'G4', 'G4', '9.2', 'G4', 'G4', 'G4', 'A5', 'G4', 'G4', 'G4', '11.3', 'G4', 'G4', 'G4', 'A2', 'G4', 'G4', 'G4', '1.7', 'G4', 'G4', 'G4', '6.10', 'G4', 'G4', 'G4', '11.3', 'G4', 'G4', 'G4', 'A2', 'G4', 'G4', 'G4', '10.1', 'G4', 'G4', 'G4', '9.2', 'G4', 'G4', 'G4', '11.3', 'G4', 'G4', 'G4', 'A2', 'G4', 'G4', 'G4', '6.10', 'G4', 'G4', 'G4', 'A3', 'G4', 'F6', 'G4', 'C#5', 'C#4', 'G2', '1.3', 'G4', '1.3', 'G4', '0.3', 'G4', '1.3', 'G4', '0.3', 'G4', '0.3', 'G4', '0.3', 'G4', '0.3', 'G4', '0.3', 'G4', '0.3', 'G4', '0.3', 'G4', '0.3', 'G4', '0.3', 'G4', '0.3', 'G4', '0.3', 'G4', '0.3', 'G4', '0.3', 'G4', '0.3', 'G4', '0.3', 'G4', '0.3', 'G4', '0.3', 'G4', '0.3', 'G4', '0.3', 'G4', '0.3', 'G4', '0.3', 'G4', '0.3', 'G4', '0.3', 'G4', '1.3', 'G4', '0.3', 'G4', '1.6', 'G2', '1.3', 'E3', 'D5', 'C2', 'C#5', 'G2', 'G4', '1.4', 'B-6', 'F4', 'G4', 'C5', 'G2', 'G4', 'G4', '0.3', 'F3', 'F4', 'G4', 'G2', 'G4', 'G4', 'G4', '0.3', 'F#6', 'F6', 'G4', 'E5', 'G4', 'G4', 'G4', '0.3', 'G#6', 'F4', 'G4', 'G2', 'G4', 'G4', 'G4', '0.3', 'F#5', 'F6', 'G4', 'E5', 'G4', 'G4', 'G4', '0.3', 'G#6', 'F4', 'G4', 'G2', 'G4', 'G4', 'G4', '1.3', 'F5', 'F#6', 'G4', 'F4', 'G4', 'F6', 'G4', 'A2', 'G2', 'C5', 'D3', 'G3', 'G#6', 'G4', 'F5', 'G4', 'G4', 'G4', 'F6', 'G4', 'G4', 'G4', 'G4', 'G4', 'G4', 'G4', 'G3', 'G4', 'G4', 'G4', 'G4', 'G4', 'G4', 'G4', 'G2', 'G4', 'G4', 'G4', 'G4', 'G4', 'G4', 'G4', 'G2', 'G4', 'G4', 'G4', 'G4', 'G4', 'G4', 'G4', 'G2', 'G4', 'G4', 'G4', 'G4', 'G4', 'G4', 'G4', 'G2', 'G4', 'G4', 'G4', 'G4', 'G4', 'G4', 'G4', 'G#6', 'G4', 'G2', 'G4', 'G#6', 'G3', 'F#4', 'E3', 'D7', 'G2', 'G4', '10.1', 'G4', 'G3', 'G4', 'G3', 'G4', 'G4', 'G4', '0.3', 'G4', 'F#5', 'G4', 'G4', 'G4', 'G4', 'G5', '0.3', 'G4', 'G4', 'G4', 'G4', 'G4', 'G4', 'G5', '0.3', 'G4', 'E5', 'G4', 'G4', 'G4', 'G4', 'G5', '0.3', 'G4', 'G4', 'G4', 'G4', 'G4', 'G4', 'G5', '0.3', 'G4', 'F#2', 'G5', 'G4', 'G4', 'G4', 'G4', '0.3', 'G4', 'G2', 'G4', 'G3', 'G4', 'G4', 'G4', '1.3', 'G4', 'B-6', 'G4', 'C5', 'C#4', 'G4', '0.3', 'G4', 'G#6', 'G4', '0.3', 'G4', '0.3', 'G4', '0.3', 'G4', 'G4', 'G4', '0.3', 'G4', '0.3', 'G4', '0.3', 'G5', 'G4', 'G4', '0.3', 'G4', '0.3', 'G5', '0.3', 'G5', 'G4', 'G4', '0.3', 'G4', '0.3', 'G4', '0.3', 'G5', 'G4', 'G4', '0.3', 'G4', '0.3', 'G5', '0.3', 'G5', 'G4', 'G4', '0.3', 'G4', '0.3', 'G4', '0.3', 'G4', 'G4', 'G4', '0.3', 'G4', '0.3', 'G4', '0.3', 'G4', 'F6', 'G4', '0.3', 'E3', 'E-6', '11.3', 'C4', 'G4', 'G4', '11.3', 'G2', 'G4', 'G4', '0.3', 'G4', 'G4', 'G4', '1.4', 'G4', 'G4', 'G4', '0.3', 'G4', 'G4', 'G4', '1.7', 'G4', 'G4', 'G4', '0.3', 'G4', 'G4', 'G4', '1.4', 'G4', 'G4', 'G4', '0.3', 'G4', 'G4', 'G4', '1.7', 'G4', 'G4', 'G4', '0.3', 'G4', 'G4', 'G4', '1.4', 'G4', 'G4', 'G4', '0.3', 'G4', 'G4', 'G4', '3.6', 'G4', 'G4', 'G4', '1.3', 'G4', 'G4', 'G4', 'C4', 'G4', 'E-4', 'D4', 'G4', 'G2', 'G4', 'E6', 'G4', 'G3', 'G4', 'G3', 'G4', 'G4', 'G4', 'G2', 'G4', 'G3', 'G4', 'G4', 'G4', 'G4', 'G4', 'G2', 'G4', 'G2', 'G4', 'G4', 'G4', 'G4', 'G4', 'G3', 'G4', 'G2', 'G4', 'G4', 'G4', 'G4', 'G4', 'G2', 'G4', 'G2', 'G4', 'G4', 'G4', 'G4', 'G4', 'G3', 'G4', 'G2', 'G4', 'G4', 'G4', 'G4', 'G4', 'G2', 'G4', 'F4', 'G4', 'G3', 'G4', 'G#4', 'G4', 'G#6', 'G4', 'A3', 'F#3', 'E-6', 'G4', 'G4', 'A5', 'G4', 'G4', 'G4', '1.3', 'G4', 'G4', 'G4', '1.4', 'G4', 'G4', 'G5', '0.3', 'G4', 'G4', 'G5', '0.3', 'G4', 'G4', 'G5', '0.3', 'G4', 'G4', 'G5', '1.3', 'G4', 'G4', 'G5', '0.3', 'G4', 'G4', 'G5', '1.3', 'G4', 'G4', 'G5', '0.3', 'G4', 'G4', 'G5', '1.3', 'G4', 'G4', 'G5', '0.3', 'G4', 'G4', 'G5', '1.3', 'G4', 'G4', 'G4', '0.3', 'G4', 'G4', 'G4', '1.7', 'G4', 'G3', 'G4', 'B6', 'B4', 'G4', '0.3', 'G4', '0.3', 'G4', '0.3', 'G4', '0.3', 'G4', '0.3', 'G4', '0.3', 'G4', '0.3', 'G4', '0.3', 'G4', '0.3', 'G5', '0.3', 'G4', '0.3', 'G4', '0.3', 'G4', '0.3', 'G5', '0.3', 'G4', '0.3', 'G4', '0.3', 'G4', '0.3', 'G5', '0.3', 'G4', '0.3', 'G4', '0.3', 'G4', '0.3', 'G5', '0.3', 'G4', '0.3', 'G4', '0.3', 'G4', '0.3', 'G4', '0.3', 'G4', '0.3', 'G4', '0.3', 'G4', '0.3', 'G4', '0.3', 'G4', '0.3', 'F#3', 'E-3', '6.10', 'B-2', 'G4', 'G4', '0.3', 'C4', 'G#6', 'G4', 'E-6', 'G4', 'G4', 'G5', '0.3', 'F#6', 'G3', 'G4', 'C4', 'G4', 'G4', 'G5', '0.3', 'G2', 'G3', 'G4', 'F5', 'G4', 'G4', 'G5', '0.3', 'G#6', 'G4', 'G4', 'C5', 'G4', 'G4', 'G5', '0.3', 'G2', 'G3', 'G4', 'F5', 'G4', 'G4', 'G5', '0.3', 'G#6', 'G4', 'G4', 'D7', 'G4', 'G4', 'G5', '0.3', 'G3', 'G#4', 'G4', 'G#4', 'G4', 'G2', 'G4', '1.4', 'G3', 'C3', 'C5', 'G4', 'G3', 'G4', 'G#6', 'G4', 'G4', 'G4', 'G#4', 'G4', 'G4', 'G4', 'G4', 'G4', 'G4', 'G4', 'G2', 'G5', 'G4', 'G4', 'G4', 'G4', 'G4', 'G4', 'G2', 'G5', 'G4', 'G4', 'G4', 'G4', 'G4', 'G4', 'G2', 'G5', 'G4', 'G4', 'G4', 'G4', 'G4', 'G4', 'G3', 'G5', 'G4', 'G4', 'G4', 'G4', 'G4', 'G4', 'G2', 'G5', 'G4', 'G4', 'G4', 'G4', 'G4', 'G4', 'G#6', 'G4', 'G3', 'G4', 'G2', 'G4', 'F#5', 'F#2', 'E-5', 'G3', 'G4', '1.7', 'G4', 'G2', 'G4', 'G4', 'G4', 'G4', 'G5', '0.3', 'G4', 'G4', 'G5', 'G4', 'G4', 'G4', 'G5', '0.3', 'G4', 'G2', 'G5', 'G4', 'G4', 'G4', 'G5', '0.3', 'G4', 'G3', 'G5', 'G4', 'G4', 'G4', 'G5', '0.3', 'G4', 'G2', 'G5', 'G4', 'G4', 'G4', 'G5', '0.3', 'G4', 'G4', 'G5', 'G4', 'G4', 'G4', 'G5', '0.3', 'G4', 'F5', 'G5', 'G4', 'G4', 'G4', 'G4', '0.3', 'G4', 'C#5', 'G4', 'C4', 'C#3', 'G4', '0.3', 'G4', 'G3', 'G4', '0.3', 'G4', '0.3', 'G5', '0.3', 'G5', 'G4', 'G5', '0.3', 'G5', '0.3', 'G5', '0.3', 'G5', 'G4', 'G5', '0.3', 'G5', '0.3', 'G5', '0.3', 'G5', 'G4', 'G5', '0.3', 'G5', '0.3', 'G5', '0.3', 'G5', 'G4', 'G5', '0.3', 'G5', '0.3', 'G5', '0.3', 'G5', 'G4', 'G5', '0.3', 'G5', '0.3', 'G5', '0.3', 'G5', 'G4', 'G4', '0.3', 'G4', '0.3', 'G4', '0.3', 'G4', 'G3', 'G4', '0.3', 'E6', 'E5', '1.3', 'C2', 'G4', 'G4', '1.3', 'G3', 'G4', 'G4', '0.3', 'G4', 'G4', 'G4', '0.3', 'G4', 'G4', 'G5', '0.3', 'G4', 'G4', 'G5', '0.3', 'G4', 'G4', 'G4', '0.3', 'G4', 'G4', 'G4', '0.3', 'G4', 'G4', 'G5', '0.3', 'G4', 'G4', 'G5', '0.3', 'G4', 'G4', 'G5', '0.3', 'G4', 'G4', 'G4', '0.3', 'G4', 'G4', 'G5', '0.3', 'G4', 'G4', 'G4', '1.4', 'G4', 'G4', 'G4', '0.3', 'G4', 'G4', 'G4', 'C#5', 'G4', 'E-5', 'D4', 'G4', 'G3', 'G4', 'F3', 'G4', 'G#4', 'G4', 'G3', 'G4', 'G4', 'G4', 'G#6', 'G5', 'F5', 'G4', 'G4', 'G5', 'G4', 'G4', 'G4', 'G5', 'E6', 'G4', 'G4', 'G5', 'G4', 'G4', 'G3', 'G5', 'F#5', 'G4', 'G4', 'G5', 'G4', 'G4', 'G4', 'G5', 'F#4', 'G5', 'G4', 'G5', 'G4', 'G4', 'G3', 'G5', 'F#4', 'G5', 'G4', 'G5', 'G4', 'G4', 'G4', 'G4', 'C4', 'G4', 'G4', 'G4', 'G#4', 'G4', 'G#6', 'G4', '10.1', 'F#5', 'E-6', 'G4', 'G4', 'A5', 'G4', 'G4', 'G4', '0.3', 'G4', 'G4', 'G5', '1.3', 'G4', 'G4', 'G5', '0.3', 'G4', 'G4', 'G5', '1.3', 'G4', 'G4', 'G5', '0.3', 'G4', 'G4', 'G5', '0.3', 'G4', 'G4', 'G5', '0.3', 'G4', 'G4', 'G5', '1.3', 'G4', 'G4', 'G5', '0.3', 'G4', 'G4', 'G5', '0.3', 'G4', 'G4', 'G5', '0.3', 'G4', 'G4', 'G5', '1.3', 'G4', 'G4', 'G5', '0.3', 'G4', 'G4', 'G4', '1.6', 'G4', 'G4', 'G4', 'B3', 'B3', 'G4', '0.3', 'G4', '0.3', 'G4', '0.3', 'G4', '0.3', 'G4', '0.3', 'G5', '0.3', 'G4', '0.3', 'G5', '0.3', 'G4', '0.3', 'G5', '0.3', 'G5', '0.3', 'G5', '0.3', 'G4', '0.3', 'G5', '0.3', 'G5', '0.3', 'G5', '0.3', 'G4', '0.3', 'G5', '0.3', 'G5', '0.3', 'G5', '0.3', 'G4', '0.3', 'G5', '0.3', 'G5', '0.3', 'G5', '0.3', 'G4', '0.3', 'G5', '0.3', 'G4', '0.3', 'G4', '0.3', 'G4', '0.3', 'G4', '0.3', 'G4', '0.3', 'F#4', 'E-3', 'B-2', 'B-4', 'G4', 'G4', '0.3', 'B3', 'G2', 'G4', 'A4', 'G4', 'G4', 'G5', '0.3', 'G2', 'G3', 'G4', 'G#6', 'G4', 'G4', 'G5', '0.3', 'G#6', 'G4', 'G4', 'C#6', 'G4', 'G4', 'G5', '0.3', 'G4', 'G3', 'G4', 'G#6', 'G4', 'G4', 'G5', '0.3', 'G#6', 'G3', 'G4', 'C#6', 'G4', 'G4', 'G5', '0.3', 'G4', 'G3', 'G4', 'G2', 'G4', 'G4', 'G5', '0.3', 'G3', 'G2', 'G4', 'F#6', 'G4', 'G3', 'G4', '1.4', 'G4', 'C3', 'C6', 'G4', 'G3', 'G4', 'F6', 'G4', 'G4', 'G4', 'F6', 'G4', 'G4', 'G4', 'G4', 'G4', 'G4', 'G4', 'G2', 'G5', 'G4', 'G4', 'G4', 'G4', 'G4', 'G4', 'G2', 'G5', 'G4', 'G4', 'G4', 'G4', 'G4', 'G4', 'G2', 'G5', 'G4', 'G4', 'G4', 'G4', 'G4', 'G4', 'G2', 'G5', 'G4', 'G4', 'G4', 'G4', 'G4', 'G4', 'G2', 'G5', 'G4', 'G4', 'G4', 'G4', 'G4', 'G4', 'G#6', 'G4', 'G3', 'G4', 'G2', 'G4', 'F4', 'F#2', 'E-4', 'G3', 'G4', '1.4', 'G4', 'G3', 'G4', 'G4', 'G4', 'G4', 'G5', '0.3', 'G4', 'F#4', 'G5', 'G4', 'G4', 'G4', 'G5', '0.3', 'G4', 'G4', 'G5', 'G4', 'G4', 'G4', 'G5', '0.3', 'G4', 'E4', 'G5', 'G4', 'G4', 'G4', 'G5', '0.3', 'G4', 'G4', 'G5', 'G4', 'G4', 'G4', 'G5', '0.3', 'G4', 'E4', 'G5', 'G4', 'G4', 'G4', 'G5', '0.3', 'G4', 'G3', 'G5', 'G4', 'G4', 'G4', 'G4', '0.3', 'G4', 'A7', 'G4', 'C5', 'C#3', 'G4', '0.3', 'G4', 'G4', 'G4', '0.3', 'G4', '0.3', 'G5', '0.3', 'G5', 'G4', 'G5', '0.3', 'G4', '0.3', 'G5', '0.3', 'G5', 'G4', 'G5', '0.3', 'G5', '0.3', 'G5', '0.3', 'G5', 'G4', 'G5', '0.3', 'G4', '0.3', 'G5', '0.3', 'G5', 'G4', 'G5', '0.3', 'G5', '0.3', 'G5', '0.3', 'G5', 'G4', 'G5', '0.3', 'G4', '0.3', 'G5', '0.3', 'G5', 'G4', 'G4', '0.3', 'G4', '0.3', 'G4', '0.3', 'G4', 'G2', 'G4', '0.3', 'E6', 'E5', '1.6', 'C4', 'G4', 'G4', '1.4', 'G3', 'G4', 'G4', '0.3', 'G4', 'G4', 'G4', '0.3', 'G4', 'G4', 'G4', '0.3', 'G4', 'G4', 'G4', '0.3', 'G4', 'G4', 'G4', '0.3', 'G4', 'G4', 'G5', '0.3', 'G4', 'G4', 'G5', '0.3', 'G4', 'G4', 'G4', '0.3', 'G4', 'G4', 'G5', '0.3', 'G4', 'G4', 'G5', '0.3', 'G4', 'G4', 'G5', '0.3', 'G4', 'G4', 'G4', '1.4', 'G4', 'G4', 'G4', '0.3', 'G4', 'G4', 'G4', 'B6', 'G4', 'E-5', 'D5', 'G4', 'G3', 'G4', 'E6', 'G4', 'G2', 'G4', 'G3', 'G4', 'G4', 'G4', 'G2', 'G5', 'G#4', 'G4', 'G4', 'G5', 'G4', 'G4', 'G3', 'G5', 'G#4', 'G4', 'G4', 'G5', 'G4', 'G4', 'G4', 'G5', 'F5', 'G5', 'G4', 'G5', 'G4', 'G4', 'G3', 'G5', 'G#6', 'G4', 'G4', 'G5', 'G4', 'G4', 'G4', 'G5', 'F5', 'G5', 'G4', 'G5', 'G4', 'G4', 'G3', 'G4', 'E6', 'G4', 'G3', 'G4', 'G#4', 'G4', 'G2', 'G4', '10.1', 'F#5', 'E3', 'G4', 'G4', 'A2', 'G4', 'G4', 'G4', '0.3', 'G4', 'G4', 'G4', '1.3', 'G4', 'G4', 'G5', '0.3', 'G4', 'G4', 'G5', '0.3', 'G4', 'G4', 'G5', '0.3', 'G4', 'G4', 'G5', '0.3', 'G4', 'G4', 'G5', '0.3', 'G4', 'G4', 'G5', '0.3', 'G4', 'G4', 'G5', '0.3', 'G5', 'G4', 'G5', '0.3', 'G5', 'G4', 'G5', '0.3', 'G5', 'G4', 'G5', '0.3', 'G4', 'G4', 'G5', '0.3', 'G4', 'G4', 'G4', '1.4', 'G4', 'G4', 'G4', 'B4', 'B-6', 'G4', '0.3', 'G4', '0.3', 'G4', '0.3', 'G4', '0.3', 'G4', '0.3', 'G5', '0.3', 'G4', '0.3', 'G5', '0.3', 'G4', '0.3', 'G5', '0.3', 'G5', '0.3', 'G5', '0.3', 'G4', '0.3', 'G5', '0.3', 'G5', '0.3', 'G5', '0.3', 'G4', '0.3', 'G5', '0.3', 'G5', '0.3', 'G5', '0.3', 'G4', '0.3', 'G5', '0.3', 'G5', '0.3', 'G5', '0.3', 'G4', '0.3', 'G5', '0.3', 'G4', '0.3', 'G4', '0.3', 'G4', '0.3', 'G4', '0.3', 'G4', '0.3', 'F#4', 'E-4', '11.3', 'A6', 'G4', 'G4', '0.3', 'C5', 'G2', 'G4', 'C5', 'G4', 'G4', 'G5', '0.3', 'F3', 'G4', 'G4', 'B-5', 'G4', 'G4', 'G5', '0.3', 'G3', 'G3', 'G4', 'F#3', 'G4', 'G4', 'G5', '0.3', 'G2', 'G4', 'G4', 'B-3', 'G4', 'G4', 'G5', '0.3', 'G3', 'G3', 'G4', 'F#5', 'G4', 'G4', 'G5', '0.3', 'G2', 'G4', 'G4', 'C#4', 'G4', 'G4', 'G5', '0.3', 'G4', 'G2', 'G4', 'F6', 'G4', 'G2', 'G4', '1.3', 'G4', 'C4', 'C5', 'G4', 'G3', 'G4', 'G#4', 'G4', 'G4', 'G4', 'F4', 'G4', 'G4', 'G4', 'G4', 'G4', 'G4', 'G4', 'G#4', 'G5', 'G4', 'G4', 'G4', 'G4', 'G4', 'G4', 'G#6', 'G5', 'G4', 'G4', 'G4', 'G4', 'G4', 'G4', 'G#6', 'G5', 'G4', 'G4', 'G4', 'G4', 'G4', 'G4', 'G2', 'G5', 'G4', 'G4', 'G4', 'G4', 'G4', 'G4', 'G#6', 'G5', 'G4', 'G4', 'G4', 'G4', 'G4', 'G4', 'G#4', 'G4', 'G3', 'G4', 'G#6', 'G4', 'F#5', 'F#2', 'E-4', 'G3', 'G4', '1.7', 'G4', 'G2', 'G4', 'G4', 'G4', 'G4', 'G5', '0.3', 'G4', 'G3', 'G5', 'G4', 'G4', 'G4', 'G5', '0.3', 'G4', 'G2', 'G5', 'G4', 'G4', 'G4', 'G5', '0.3', 'G4', 'G3', 'G5', 'G4', 'G4', 'G4', 'G5', '0.3', 'G4', 'G2', 'G5', 'G4', 'G4', 'G4', 'G5', '0.3', 'G4', 'G3', 'G5', 'G4', 'G4', 'G4', 'G5', '0.3', 'G4', 'F5', 'G5', 'G4', 'G4', 'G4', 'G4', '0.3', 'G4', 'C#5', 'G4', 'C5', 'C#3', 'G4', '0.3', 'G4', 'G3', 'G4', '0.3', 'G4', '0.3', 'G5', '0.3', 'G5', 'G4', 'G5', '0.3', 'G4', '0.3', 'G5', '0.3', 'G5', 'G4', 'G5', '0.3', 'G4', '0.3', 'G5', '0.3', 'G5', 'G4', 'G5', '0.3', 'G4', '0.3', 'G5', '0.3', 'G5', 'G4', 'G5', '0.3', 'G5', '0.3', 'G5', '0.3', 'G5', 'G4', 'G5', '0.3', 'G5', '0.3', 'G5', '0.3', 'G5', 'G4', 'G4', '0.3', 'G4', '0.3', 'G4', '0.3', 'G4', 'G3', 'G4', '0.3', 'E6', 'E4', '1.4', 'C#5', 'G4', 'G4', '1.4', 'G3', 'G4', 'G4', '0.3', 'G4', 'G4', 'G4', '0.3', 'G4', 'G4', 'G4', '0.3', 'G4', 'G4', 'G4', '1.3', 'G4', 'G4', 'G4', '0.3', 'G4', 'G4', 'G4', '0.3', 'G4', 'G4', 'G4', '0.3', 'G4', 'G4', 'G5', '0.3', 'G4', 'G4', 'G5', '0.3', 'G4', 'G4', 'G5', '0.3', 'G4', 'G4', 'G5', '0.3', 'G4', 'G4', 'G4', '1.4', 'G4', 'G4', 'G4', '0.3', 'G4', 'G4', 'G4', 'C#6', 'G4', 'E-5', 'D4', 'G4', 'G3', 'G4', 'F#6', 'G4', 'G#4', 'G4', 'G3', 'G4', 'G4', 'G4', 'G#6', 'G5', 'F5', 'G4', 'G4', 'G5', 'G4', 'G4', 'G4', 'G5', 'E6', 'G4', 'G4', 'G5', 'G4', 'G4', 'G3', 'G5', 'F#5', 'G4', 'G4', 'G5', 'G4', 'G4', 'G4', 'G5', 'F#2', 'G5', 'G4', 'G5', 'G4', 'G4', 'G3', 'G5', 'F#4', 'G5', 'G4', 'G5', 'G4', 'G4', 'G4', 'G4', 'C4', 'G4', 'G4', 'G4', 'G#4', 'G4', 'G#6', 'G4', '1.7', 'F#5', 'E-6', 'G4', 'G4', 'A6', 'G4', 'G4', 'G4', '0.3', 'G4', 'G4', 'G4', '1.3', 'G4', 'G4', 'G5', '0.3', 'G4', 'G4', 'G5', '1.3', 'G4', 'G4', 'G5', '0.3', 'G4', 'G4', 'G5', '0.3', 'G4', 'G4', 'G5', '0.3', 'G4', 'G4', 'G5', '1.3', 'G4', 'G4', 'G5', '0.3', 'G4', 'G4', 'G5', '0.3', 'G4', 'G4', 'G5', '0.3', 'G4', 'G4', 'G5', '1.3', 'G4', 'G4', 'G5', '0.3', 'G4', 'G4', 'G4', '1.4', 'G4', 'G4', 'G4', 'B-6', 'B3', 'G4', '0.3', 'G4', '0.3', 'G4', '0.3', 'G4', '0.3', 'G4', '0.3', 'G5', '0.3', 'G4', '0.3', 'G5', '0.3', 'G4', '0.3', 'G5', '0.3', 'G5', '0.3', 'G5', '0.3', 'G4', '0.3', 'G5', '0.3', 'G5', '0.3', 'G5', '0.3', 'G4', '0.3', 'G5', '0.3', 'G5', '0.3', 'G5', '0.3', 'G4', '0.3', 'G5', '0.3', 'G5', '0.3', 'G5', '0.3', 'G4', '0.3', 'G5', '0.3', 'G4', '0.3', 'G4', '0.3', 'G4', '0.3', 'G4', '0.3', 'G4', '0.3', 'F#5', 'E-3', 'B-3', 'B-5', 'G4', 'G4', '0.3', 'B3', 'G2', 'G4', 'A6', 'G3', 'G4', 'G5', '0.3', 'G#6', 'G3', 'G4', 'G#4', 'G4', 'G4', 'G5', '0.3', 'G#6', 'G4', 'G4', 'C#3', 'G4', 'G4', 'G5', '0.3', 'G4', 'G3', 'G4', 'G#6', 'G4', 'G4', 'G5', '0.3', 'G#6', 'G4', 'G4', 'C#5', 'G4', 'G4', 'G5', '0.3', 'G4', 'G3', 'G4', 'G2', 'G4', 'G4', 'G5', '0.3', 'G2', 'G2', 'G4', 'F#6', 'G4', 'G3', 'G4', '1.4', 'G4', 'C3', 'C6', 'G4', 'G3', 'G4', 'F6', 'G4', 'G4', 'G4', 'F6', 'G4', 'G4', 'G4', 'G4', 'G4', 'G4', 'G4', 'G2', 'G5', 'G4', 'G4', 'G4', 'G4', 'G4', 'G4', 'G2', 'G5', 'G4', 'G4', 'G4', 'G4', 'G4', 'G4', 'G2', 'G5', 'G4', 'G4', 'G4', 'G4', 'G4', 'G4', 'G2', 'G5', 'G4', 'G4', 'G4', 'G4', 'G4', 'G4', 'G2', 'G5', 'G4', 'G4', 'G4', 'G4', 'G4', 'G4', 'G#6', 'G4', 'G3', 'G4', 'G2', 'G4', 'F4', 'F#2', 'E-4', 'G3', 'G4', '1.6', 'G4', 'G3', 'G4', 'G4', 'G4', 'G4', 'G5', '0.3', 'G4', 'F#4', 'G5', 'G4', 'G4', 'G4', 'G5', '0.3', 'G4', 'G4', 'G5', 'G4', 'G4', 'G4', 'G5', '0.3', 'G4', 'E4', 'G5', 'G4', 'G4', 'G4', 'G5', '0.3', 'G4', 'G4', 'G5', 'G4', 'G4', 'G4', 'G5', '0.3', 'G4', 'E3', 'G5', 'G4', 'G4', 'G4', 'G5', '0.3', 'G4', 'G3', 'G5', 'G4', 'G4', 'G4', 'G4', '0.3', 'G4', 'A6', 'G4', 'C5', 'C#3', 'G4', '0.3', 'G4', 'G3', 'G4', '0.3', 'G4', '0.3', 'G5', '0.3', 'G5', 'G4', 'G5', '0.3', 'G4', '0.3', 'G5', '0.3', 'G5', 'G4', 'G5', '0.3', 'G5', '0.3', 'G5', '0.3', 'G5', 'G4', 'G5', '0.3', 'G4', '0.3', 'G5', '0.3', 'G5', 'G4', 'G5', '0.3', 'G5', '0.3', 'G5', '0.3', 'G5', 'G4', 'G5', '0.3', 'G4', '0.3', 'G5', '0.3', 'G5', 'G4', 'G4', '0.3', 'G4', '0.3', 'G4', '0.3', 'G4', 'G3', 'G4', '0.3', 'F#2', 'E4', '1.4', 'C4', 'G4', 'G4', '1.4', 'G3', 'G4', 'G4', '0.3', 'G4', 'G4', 'G4', '0.3', 'G4', 'G4', 'G4', '0.3', 'G4', 'G4', 'G4', '1.3', 'G4', 'G4', 'G4', '0.3', 'G4', 'G4', 'G5', '0.3', 'G4', 'G4', 'G5', '0.3', 'G4', 'G4', 'G4', '0.3', 'G4', 'G4', 'G5', '0.3', 'G4', 'G4', 'G5', '0.3', 'G4', 'G4', 'G5', '0.3', 'G4', 'G4', 'G4', '1.3', 'G4', 'G4', 'G4', '0.3', 'G4', 'G4', 'G4', 'C#3', 'G4', 'E-4', 'D5', 'G4', 'G3', 'G4', 'F#3', 'G4', 'G2', 'G4', 'G3', 'G4', 'G4', 'G4', 'G2', 'G4', 'G#4', 'G4', 'G4', 'G5', 'G4', 'G4', 'G2', 'G5', 'G#4', 'G4', 'G4', 'G5', 'G4', 'G4', 'G4', 'G5', 'F4', 'G4', 'G4', 'G5', 'G4', 'G4', 'G3', 'G5', 'G#6', 'G4', 'G4', 'G5', 'G4', 'G4', 'G4', 'G5', 'F5', 'G5', 'G4', 'G5', 'G4', 'G4', 'G2', 'G4', 'E6', 'G4', 'G3', 'G4', 'G#4', 'G4', 'G2', 'G4', '10.1', 'F#5', 'E3', 'G4', 'G4', 'A3', 'G4', 'G4', 'G4', '0.3', 'G4', 'G4', 'G4', '1.3', 'G4', 'G4', 'G5', '0.3', 'G4', 'G4', 'G5', '0.3', 'G4', 'G4', 'G5', '0.3', 'G4', 'G4', 'G5', '0.3', 'G4', 'G4', 'G5', '0.3', 'G4', 'G4', 'G5', '0.3', 'G4', 'G4', 'G5', '0.3', 'G5', 'G4', 'G5', '0.3', 'G5', 'G4', 'G5', '0.3', 'G5', 'G4', 'G5', '0.3', 'G4', 'G4', 'G5', '0.3', 'G4', 'G4', 'G4', '1.4', 'G4', 'G4', 'G4', 'B4', 'B-6', 'G4', '0.3', 'G4', '0.3', 'G4', '0.3', 'G4', '0.3', 'G4', '0.3', 'G5', '0.3', 'G4', '0.3', 'G5', '0.3', 'G4', '0.3', 'G5', '0.3', 'G5', '0.3', 'G5', '0.3', 'G4', '0.3', 'G5', '0.3', 'G5', '0.3', 'G5', '0.3', 'G4', '0.3', 'G5', '0.3', 'G5', '0.3', 'G5', '0.3', 'G4', '0.3', 'G5', '0.3', 'G5', '0.3', 'G5', '0.3', 'G4', '0.3', 'G5', '0.3', 'G4', '0.3', 'G4', '0.3', 'G4', '0.3', 'G4', '0.3', 'G4', '0.3', 'F#4', 'E-4', '3.6', 'A7', 'G4', 'G4', '0.3', 'C5', 'G#6', 'G4', 'C6', 'G4', 'G4', 'G5', '0.3', 'F3', 'G4', 'G4', 'B-4', 'G4', 'G4', 'G5', '0.3', 'G3', 'G3', 'G4', 'F#4', 'G4', 'G4', 'G5', '0.3', 'G2', 'G4', 'G4', 'B-3', 'G4', 'G4', 'G5', '0.3', 'G3', 'G3', 'G4', 'F#5', 'G4', 'G4', 'G5', '0.3', 'G2', 'G4', 'G4', 'C#3', 'G4', 'G4', 'G5', '0.3', 'G3', 'G#6', 'G4', 'G#4', 'G4', 'G2', 'G4', '1.3', 'G4', 'C4', 'C4', 'G4', 'G3', 'G4', 'G#4', 'G4', 'G4', 'G4', 'F4', 'G4', 'G4', 'G4', 'G4', 'G4', 'G4', 'G4', 'G#4', 'G5', 'G4', 'G4', 'G4', 'G4', 'G4', 'G4', 'G#6', 'G5', 'G4', 'G4', 'G4', 'G4', 'G4', 'G4', 'G#6', 'G5', 'G4', 'G4', 'G4', 'G4', 'G4', 'G4', 'G#6', 'G5', 'G4', 'G4', 'G4', 'G4', 'G4', 'G4', 'G#4', 'G5', 'G4', 'G4', 'G4', 'G4', 'G4', 'G4', 'G#4', 'G4', 'G3', 'G4', 'G#6', 'G4', 'F#5', 'F#3', 'E-4', 'G3', 'G4', '1.7', 'G4', 'G#6', 'G4', 'G4', 'G4', 'G4', 'G5', '0.3', 'G4', 'G3', 'G5', 'G4', 'G4', 'G4', 'G5', '0.3', 'G4', 'G2', 'G5', 'G4', 'G4', 'G4', 'G5', '0.3', 'G4', 'G3', 'G5', 'G4', 'G4', 'G4', 'G5', '0.3', 'G4', 'G2', 'G5', 'G4', 'G4', 'G4', 'G5', '0.3', 'G4', 'G3', 'G5', 'G4', 'G4', 'G4', 'G5', '0.3', 'G4', 'F5', 'G5', 'G4', 'G4', 'G4', 'G4', '0.3', 'G4', 'C#5', 'G4', 'C5', 'C#3', 'G4', '0.3', 'G4', 'G3', 'G4', '0.3', 'G4', '0.3', 'G5', '0.3', 'G5', 'G4', 'G5', '0.3', 'G4', '0.3', 'G5', '0.3', 'G5', 'G4', 'G5', '0.3', 'G4', '0.3', 'G5', '0.3', 'G5', 'G4', 'G5', '0.3', 'G4', '0.3', 'G5', '0.3', 'G5', 'G4', 'G5', '0.3', 'G4', '0.3', 'G5', '0.3', 'G5', 'G4', 'G5', '0.3', 'G5', '0.3', 'G5', '0.3', 'G5', 'G4', 'G4', '0.3', 'G4', '0.3', 'G4', '0.3', 'G4', 'G3', 'G4', '0.3', 'F#2', 'E4', '1.4', 'C#6', 'G4', 'G4', '1.3', 'G3', 'G4', 'G4', '0.3', 'G4', 'G4', 'G4', '0.3', 'G4', 'G4', 'G4', '0.3', 'G4', 'G4', 'G4', '0.3', 'G4', 'G4', 'G4', '0.3', 'G4', 'G4', 'G4', '0.3', 'G4', 'G4', 'G4', '0.3', 'G4', 'G4', 'G4', '0.3', 'G4', 'G4', 'G4', '0.3', 'G4', 'G4', 'G4', '0.3', 'G4', 'G4', 'G4', '0.3', 'G4', 'G4', 'G4', '1.3', 'G4', 'G4', 'G4', '0.3', 'G4', 'G4', 'G4', 'B4', 'G4', 'E-5', 'D4', 'G4', 'G2', 'G4', 'F#5', 'G4', 'F#5', 'G4', 'G3', 'G4', 'G4', 'G4', 'F6', 'G4', 'E6', 'G4', 'G4', 'G4', 'G4', 'G4', 'G3', 'G5', 'C4', 'G4', 'G4', 'G4', 'G4', 'G4', 'G2', 'G5', 'D5', 'G4', 'G4', 'G4', 'G4', 'G4', 'G3', 'G5', 'C2', 'G4', 'G4', 'G4', 'G4', 'G4', 'G2', 'G5', 'C5', 'G4', 'G4', 'G4', 'G3', 'G4', 'G3', 'G4', 'B-4', 'G4', 'G3', 'G4', 'F3', 'G4', 'G#4', 'G4', '1.7', 'F#4', 'E-5', 'G4', 'G4', 'A4', 'G4', 'G4', 'G4', '1.3', 'G4', 'G4', 'G4', '1.3', 'G4', 'G4', 'G5', '0.3', 'G4', 'G4', 'G5', '1.3', 'G4', 'G4', 'G5', '0.3', 'G4', 'G4', 'G5', '0.3', 'G4', 'G4', 'G5', '0.3', 'G4', 'G4', 'G5', '1.3', 'G4', 'G4', 'G5', '0.3', 'G4', 'G4', 'G5', '0.3', 'G4', 'G4', 'G5', '0.3', 'G4', 'G4', 'G5', '1.3', 'G4', 'G4', 'G5', '0.3', 'G4', 'G4', 'G4', '1.7', 'G4', 'G3', 'G4', 'B4', 'B4', 'G4', '0.3', 'G4', '0.3', 'G4', '0.3', 'G4', '0.3', 'G4', '0.3', 'G4', '0.3', 'G4', '0.3', 'G4', '0.3', 'G4', '0.3', 'G5', '0.3', 'G4', '0.3', 'G4', '0.3', 'G4', '0.3', 'G5', '0.3', 'G4', '0.3', 'G4', '0.3', 'G4', '0.3', 'G5', '0.3', 'G4', '0.3', 'G4', '0.3', 'G4', '0.3', 'G5', '0.3', 'G4', '0.3', 'G4', '0.3', 'G4', '0.3', 'G4', '0.3', 'G4', '0.3', 'G4', '0.3', 'G4', '0.3', 'G4', '0.3', 'G4', '0.3', 'F#3', 'D7', 'A7', 'B-6', 'G3', 'G4', '0.3', 'C#4', 'G#4', 'G4', 'A4', 'G2', 'G4', 'G4', '0.3', 'G#4', 'G3', 'G4', 'F#4', 'G4', 'G4', 'G4', '0.3', 'F5', 'G3', 'G4', 'B-6', 'G4', 'G4', 'G4', '0.3', 'G3', 'G3', 'G4', 'F#5', 'G4', 'G4', 'G4', '0.3', 'F6', 'G3', 'G4', 'B-6', 'G4', 'G4', 'G4', '0.3', 'G3', 'G3', 'G4', 'F3', 'G4', 'G4', 'G4', '0.3', 'G#6', 'G#6', 'G4', 'E4', 'G4', 'G2', 'G4', '1.6', 'G3', 'C3', 'C5', 'G4', 'G#6', 'G4', 'F#6', 'G4', 'G4', 'G4', 'F#3', 'G4', 'G4', 'G4', 'G3', 'G4', 'G4', 'G4', 'F3', 'G4', 'G4', 'G4', 'G3', 'G4', 'G4', 'G4', 'F4', 'G4', 'G4', 'G4', 'G4', 'G4', 'G4', 'G4', 'F4', 'G4', 'G4', 'G4', 'G3', 'G4', 'G4', 'G4', 'F3', 'G4', 'G4', 'G4', 'G4', 'G4', 'G4', 'G4', 'F3', 'G4', 'G3', 'G4', 'G2', 'G4', 'G4', 'G4', 'F#5', 'G4', 'G#6', 'G4', 'F6', 'G4', 'F#3', 'E4', 'D7', 'G#6', 'G4', '10.1', 'G4', 'G#4', 'G4', 'G4', 'G4', 'G4', 'G4', '0.3', 'G4', 'E-4', 'G4', 'G4', 'G4', 'G4', 'G4', '0.3', 'G4', 'G#6', 'G4', 'G4', 'G4', 'G4', 'G5', '0.3', 'G4', 'D4', 'G4', 'G4', 'G4', 'G4', 'G5', '0.3', 'G4', 'G#6', 'G4', 'G4', 'G4', 'G4', 'G5', '0.3', 'G4', 'D5', 'G4', 'G4', 'G4', 'G4', 'G4', '0.3', 'G4', 'F5', 'G4', 'G3', 'G4', 'G4', 'G4', '1.3', 'G4', 'B-2', 'G4', 'C6', 'C#4', 'G4', '0.3', 'G4', 'G2', 'G4', '0.3', 'G4', '0.3', 'G4', '0.3', 'G4', 'G4', 'G4', '0.3', 'G4', '0.3', 'G4', '0.3', 'G4', 'G4', 'G4', '0.3', 'G4', '0.3', 'G4', '0.3', 'G5', 'G4', 'G4', '0.3', 'G4', '0.3', 'G4', '0.3', 'G5', 'G4', 'G4', '0.3', 'G4', '0.3', 'G4', '0.3', 'G5', 'G4', 'G4', '0.3', 'G4', '0.3', 'G4', '0.3', 'G4', 'G4', 'G4', '0.3', 'G4', '0.3', 'G4', '0.3', 'G4', 'G#6', 'G4', '0.3', 'E3', 'E-5', '10.1', 'C3', 'G2', 'G4', '1.4', 'G2', 'G4', 'G4', '0.3', 'G3', 'G4', 'G4', '0.3', 'G4', 'G4', 'G4', '0.3', 'G4', 'G4', 'G4', '0.3', 'G4', 'G4', 'G4', '0.3', 'G4', 'G4', 'G4', '0.3', 'G4', 'G4', 'G4', '0.3', 'G4', 'G4', 'G4', '0.3', 'G4', 'G4', 'G4', '0.3', 'G4', 'G4', 'G4', '0.3', 'G4', 'G4', 'G4', '0.3', 'G4', 'G4', 'G4', '1.3', 'G4', 'G4', 'G4', '0.3', 'G4', 'G3', 'G4', 'A7', 'G2', 'D5', 'D3', 'G3', 'F3', 'G4', 'D6', 'G4', 'D5', 'G4', 'F5', 'G4', 'G#4', 'G4', 'F#3', 'G4', 'B-4', 'G4', 'G#4', 'G4', 'G#4', 'G4', 'F#5', 'G4', 'B-2', 'G4', 'G#4', 'G4', 'G#4', 'G4', 'F4', 'G4', 'A3', 'G4', 'G#4', 'G4', 'G#4', 'G4', 'F#5', 'G4', 'B-2', 'G4', 'G#4', 'G4', 'G#4', 'G4', 'F4', 'G4', 'A2', 'G4', 'G#4', 'G4', 'F5', 'G4', 'F#4', 'G4', 'A4', 'G4', 'F4', 'G4', 'E-3', 'G4', 'F#5', 'G3', '10.1', 'E4', 'D6', 'G#6', 'G3', 'A4', 'G3', 'G3', 'G4', '1.4', 'G4', 'G4', 'G4', '1.6', 'G4', 'G4', 'G4', '1.3', 'G4', 'G4', 'G4', '1.4', 'G4', 'G4', 'G4', '1.3', 'G4', 'G4', 'G4', '1.4', 'G4', 'G4', 'G4', '1.3', 'G4', 'G4', 'G4', '1.4', 'G4', 'G4', 'G4', '1.3', 'G4', 'G4', 'G4', '1.4', 'G4', 'G4', 'G4', '1.3', 'G4', 'G4', 'G4', '1.4', 'G4', 'G4', 'G4', '1.4', 'G4', 'G4', 'G4', '6.10', 'G4', 'F6', 'G3', 'C#4', 'C#4', 'G#4', '1.4', 'G4', '1.6', 'G4', '0.3', 'G4', '0.3', 'G4', '0.3', 'G4', '0.3', 'G4', '0.3', 'G4', '0.3', 'G4', '0.3', 'G4', '0.3', 'G4', '0.3', 'G4', '0.3', 'G4', '0.3', 'G4', '0.3', 'G4', '0.3', 'G4', '0.3', 'G4', '0.3', 'G4', '0.3', 'G4', '0.3', 'G4', '0.3', 'G4', '0.3', 'G4', '0.3', 'G4', '0.3', 'G4', '0.3', 'G4', '0.3', 'G4', '0.3', 'G4', '0.3', 'G4', '0.3', 'G4', '0.3', 'G4', '1.4', 'G2', '1.4', 'E-4', 'D5', 'A5', 'B4', 'F#6', 'G2', '1.4', 'D5', 'F#5', 'G3', '3.6', 'E4', 'G#4', 'G4', '0.3', 'E5', 'G#6', 'G4', '1.7', 'F#4', 'G#4', 'G4', '0.3', 'F#3', 'F6', 'G4', '3.6', 'F#5', 'G#6', 'G4', '0.3', 'F#3', 'G#4', 'G4', '1.7', 'F#5', 'G#4', 'G4', '0.3', 'F#4', 'F5', 'G4', '3.6', 'F#5', 'G#6', 'G4', '0.3', 'F#2', 'G#6', 'G4', '1.7', 'F#6', 'F6', 'G4', '0.3', 'F#4', 'F#6', 'G3', 'B-3', 'F3', 'F#2', 'G3', '6.10', 'F#2', 'C4', 'C2', 'F5', 'D7', 'F#4', 'C2', 'G#6', 'E-3', 'G#6', 'B-2', 'G4', 'D4', 'G2', 'B4', 'G4', 'E-4', 'G3', '9.2', 'G4', 'C#6', 'G2', 'C#5', 'G4', 'E-4', 'G3', 'A4', 'G4', 'C4', 'G3', 'B3', 'G4', 'D7', 'G3', '9.2', 'G4', 'C2', 'G2', 'C#5', 'G4', 'E-3', 'G3', 'A4', 'G4', 'C3', 'G3', 'B3', 'G4', 'E-3', 'G3', '6.10', 'G4', 'C#4', 'G2', 'C#5', 'G3', 'E-3', 'G2', 'A7', 'G3', 'C#3', 'F6', 'C#6', 'F#4', 'C3', 'D5', 'C4', 'C6', 'D7', 'C#3', 'D5', 'C6', 'E-6', 'C4', 'C6', 'D6', 'E5', 'B-4', 'E-3', 'D3', 'E5', 'C4', 'D4', 'D6', 'F#3', 'B-3', 'E-5', 'C6', 'F#2', 'C3', 'D3', 'D7', 'F#2', 'B-2', 'E-4', 'D3', 'E6', 'C3', 'D5', 'D7', 'F#2', 'B-3', 'E-4', 'C6', 'E6', 'C3', 'C6', 'D7', 'E6', 'B-2', 'E-4', 'D3', 'E5', 'C4', 'D4', 'D6', 'E6', 'B-4', 'E-3', 'C6', 'E4', 'C4', 'C6', 'D5', 'E-5', 'B4', 'D5', 'C4', 'D4', 'C3']\n"
          ],
          "name": "stdout"
        },
        {
          "output_type": "stream",
          "text": [
            "/usr/local/lib/python3.7/dist-packages/torch/_tensor.py:490: UserWarning: non-inplace resize is deprecated\n",
            "  warnings.warn(\"non-inplace resize is deprecated\")\n"
          ],
          "name": "stderr"
        }
      ]
    },
    {
      "cell_type": "markdown",
      "metadata": {
        "id": "rHnde72CLQ9B"
      },
      "source": [
        "# Export"
      ]
    },
    {
      "cell_type": "code",
      "metadata": {
        "id": "otbtkSAeR9ho"
      },
      "source": [
        "# exportando el diccionario\n",
        "import json\n",
        "\n",
        "# json\n",
        "tf = open(\"diccionario.json\", \"w\")\n",
        "json.dump(dicc,tf)\n",
        "tf.close()"
      ],
      "execution_count": 41,
      "outputs": []
    },
    {
      "cell_type": "code",
      "metadata": {
        "id": "6zovNZmXLV5Q",
        "colab": {
          "base_uri": "https://localhost:8080/"
        },
        "outputId": "fa5f76d8-8e85-447d-d350-260104481082"
      },
      "source": [
        "#tracing\n",
        "\n",
        "traced_model = torch.jit.trace(gen.cuda(), fixed_noise)\n",
        "traced_model.save('gen.zip')"
      ],
      "execution_count": null,
      "outputs": [
        {
          "output_type": "stream",
          "text": [
            "/usr/local/lib/python3.7/dist-packages/torch/jit/_trace.py:966: TracerWarning: Output nr 1. of the traced function does not match the corresponding output of the Python function. Detailed error:\n",
            "With rtol=1e-05 and atol=1e-05, found 118703 element(s) (out of 131072) whose difference(s) exceeded the margin of error (including 0 nan comparisons). The greatest difference was 0.20057490468025208 (0.6767550706863403 vs. 0.47618016600608826), which occurred at index (18, 0, 39, 13).\n",
            "  _module_class,\n"
          ],
          "name": "stderr"
        }
      ]
    },
    {
      "cell_type": "code",
      "metadata": {
        "id": "JCKGC7whLiLf",
        "colab": {
          "base_uri": "https://localhost:8080/"
        },
        "outputId": "1e0aa3ee-d40e-4007-d0e2-e82e6fefb33e"
      },
      "source": [
        "loaded_model = torch.jit.load('gen.zip')\n",
        "loaded_model.eval()"
      ],
      "execution_count": null,
      "outputs": [
        {
          "output_type": "execute_result",
          "data": {
            "text/plain": [
              "RecursiveScriptModule(\n",
              "  original_name=Generator\n",
              "  (dropout): RecursiveScriptModule(original_name=Dropout)\n",
              "  (net): RecursiveScriptModule(\n",
              "    original_name=Sequential\n",
              "    (0): RecursiveScriptModule(\n",
              "      original_name=Sequential\n",
              "      (0): RecursiveScriptModule(original_name=ConvTranspose2d)\n",
              "      (1): RecursiveScriptModule(original_name=ReLU)\n",
              "    )\n",
              "    (1): RecursiveScriptModule(\n",
              "      original_name=Sequential\n",
              "      (0): RecursiveScriptModule(original_name=ConvTranspose2d)\n",
              "      (1): RecursiveScriptModule(original_name=ReLU)\n",
              "    )\n",
              "    (2): RecursiveScriptModule(\n",
              "      original_name=Sequential\n",
              "      (0): RecursiveScriptModule(original_name=ConvTranspose2d)\n",
              "      (1): RecursiveScriptModule(original_name=ReLU)\n",
              "    )\n",
              "    (3): RecursiveScriptModule(\n",
              "      original_name=Sequential\n",
              "      (0): RecursiveScriptModule(original_name=ConvTranspose2d)\n",
              "      (1): RecursiveScriptModule(original_name=ReLU)\n",
              "    )\n",
              "    (4): RecursiveScriptModule(original_name=ConvTranspose2d)\n",
              "    (5): RecursiveScriptModule(original_name=Tanh)\n",
              "  )\n",
              ")"
            ]
          },
          "metadata": {
            "tags": []
          },
          "execution_count": 32
        }
      ]
    }
  ]
}