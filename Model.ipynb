{
  "nbformat": 4,
  "nbformat_minor": 0,
  "metadata": {
    "colab": {
      "name": "Proyect.ipynb",
      "provenance": []
    },
    "kernelspec": {
      "name": "python3",
      "display_name": "Python 3"
    },
    "language_info": {
      "name": "python"
    },
    "accelerator": "GPU"
  },
  "cells": [
    {
      "cell_type": "markdown",
      "metadata": {
        "id": "BoVsWADhbvl5"
      },
      "source": [
        "Dataset:\n",
        "[https://drive.google.com/file/d/1yL_fysiQE9KZYP8YrRhuRx6RY1LtL14u/view?usp=sharing](Dataset)"
      ]
    },
    {
      "cell_type": "markdown",
      "metadata": {
        "id": "MMqcaKH6FMpS"
      },
      "source": [
        "# Model"
      ]
    },
    {
      "cell_type": "code",
      "metadata": {
        "id": "1s-imZEASVZL"
      },
      "source": [
        "import torch\n",
        "import torch.nn as nn"
      ],
      "execution_count": 1,
      "outputs": []
    },
    {
      "cell_type": "code",
      "metadata": {
        "id": "8P38R3ZSFK0j"
      },
      "source": [
        "class Discriminator(nn.Module):\n",
        "    def __init__(self, input_dimension, features_d):\n",
        "        super(Discriminator, self).__init__()\n",
        "        self.disc = nn.Sequential(\n",
        "            # input: N x input_dimention x 64 x 64\n",
        "            nn.Conv2d(\n",
        "                input_dimension, features_d, kernel_size=4, stride=2, padding=1\n",
        "            ),\n",
        "            nn.LeakyReLU(0.2),\n",
        "            # _block(in_channels, out_channels, kernel_size, stride, padding)\n",
        "            self._block(features_d, features_d * 2, 4, 2, 1),\n",
        "            self._block(features_d * 2, features_d * 4,4, 2, 1),\n",
        "            self._block(features_d * 4, features_d * 8, 4, 2, 1),\n",
        "            # After all _block output is 4x4 (Conv2d below makes into 1x1)\n",
        "            nn.Conv2d(features_d * 8, 1, kernel_size=4, stride=2, padding=0),\n",
        "            nn.Sigmoid(),\n",
        "        )\n",
        "\n",
        "    def _block(self, in_channels, out_channels, kernel_size, stride, padding):\n",
        "        return nn.Sequential(\n",
        "            nn.Conv2d(\n",
        "                in_channels,\n",
        "                out_channels,\n",
        "                kernel_size,\n",
        "                stride,\n",
        "                padding,\n",
        "                bias=False,\n",
        "            ),\n",
        "            #nn.BatchNorm2d(out_channels),\n",
        "            nn.LeakyReLU(0.2),\n",
        "        )\n",
        "\n",
        "    def forward(self, x):\n",
        "      return self.disc(x)"
      ],
      "execution_count": 2,
      "outputs": []
    },
    {
      "cell_type": "code",
      "metadata": {
        "id": "2Yuihf-gFK38"
      },
      "source": [
        "class Generator(nn.Module):\n",
        "  def __init__(self, channels_noise, input_dimension, features_g):\n",
        "    super(Generator, self).__init__()\n",
        "    self.dropout = nn.Dropout(p=0.5) #Valor por default\n",
        "    self.net = nn.Sequential(\n",
        "        # Input: N x channels_noise x 1 x 1\n",
        "        self._block(channels_noise, features_g * 16, 4, 1, 0),\n",
        "        self._block(features_g * 16, features_g * 8, 4, 2, 1), #1024\n",
        "        self._block(features_g * 8, features_g * 4, 4, 2, 1),\n",
        "        self._block(features_g * 4, features_g * 2, 4, 2, 1),\n",
        "        nn.ConvTranspose2d(\n",
        "            features_g * 2, input_dimension, kernel_size=4, stride=2, padding=1\n",
        "        ),\n",
        "        nn.Tanh(),\n",
        "    )\n",
        "  def _block(self, in_channels, out_channels, kernel_size, stride, padding):\n",
        "    return nn.Sequential(\n",
        "        nn.ConvTranspose2d(\n",
        "            in_channels,\n",
        "            out_channels,\n",
        "            kernel_size,\n",
        "            stride,\n",
        "            padding,\n",
        "            bias=False,\n",
        "        ),\n",
        "        nn.ReLU(),\n",
        "    )\n",
        "  def forward(self, x):\n",
        "    x = self.dropout(x)\n",
        "    return self.net(x)"
      ],
      "execution_count": 3,
      "outputs": []
    },
    {
      "cell_type": "code",
      "metadata": {
        "id": "YsXRGye0Fd90"
      },
      "source": [
        "def initialize_weights(model):\n",
        "    # Initializes weights according to the DCGAN paper\n",
        "    for m in model.modules():\n",
        "        if isinstance(m, (nn.Conv2d, nn.ConvTranspose2d, nn.BatchNorm2d)):\n",
        "            nn.init.normal_(m.weight.data, 0.0, 0.02)"
      ],
      "execution_count": 4,
      "outputs": []
    },
    {
      "cell_type": "code",
      "metadata": {
        "colab": {
          "base_uri": "https://localhost:8080/"
        },
        "id": "Y1gLehk1FeA_",
        "outputId": "1ce107af-ae73-45fb-cb6c-adb5ad5aca97"
      },
      "source": [
        "device = torch.device(\"cuda\" if torch.cuda.is_available() else \"cpu\")\n",
        "def test():\n",
        "  #Batch, channels, height, width\n",
        "  x = torch.randn((8, 1, 64, 64)).to(device)\n",
        "  # Discriminador(input_dimention, features_d)\n",
        "  disc = Discriminator(1,8).to(device)\n",
        "  print(\"disc.shape = \", disc(x).shape)\n",
        "  gen = Generator(100, 1, 8).to(device)\n",
        "  z = torch.randn((8, 100, 1, 1)).to(device)\n",
        "  print(\"gen.shape = \", gen(z).shape) #(N, in_channels, H, W)\n",
        "\n",
        "test()"
      ],
      "execution_count": 5,
      "outputs": [
        {
          "output_type": "stream",
          "text": [
            "disc.shape =  torch.Size([8, 1, 1, 1])\n",
            "gen.shape =  torch.Size([8, 1, 64, 64])\n"
          ],
          "name": "stdout"
        }
      ]
    },
    {
      "cell_type": "markdown",
      "metadata": {
        "id": "c3JUJV9AFpoO"
      },
      "source": [
        "# Preprocessing"
      ]
    },
    {
      "cell_type": "code",
      "metadata": {
        "colab": {
          "base_uri": "https://localhost:8080/"
        },
        "id": "pp85bcS2FeEY",
        "outputId": "c2d61031-9994-4cde-c984-67b96a5a55a4"
      },
      "source": [
        "from google.colab import drive\n",
        "drive.mount('/content/drive')"
      ],
      "execution_count": 6,
      "outputs": [
        {
          "output_type": "stream",
          "text": [
            "Mounted at /content/drive\n"
          ],
          "name": "stdout"
        }
      ]
    },
    {
      "cell_type": "code",
      "metadata": {
        "colab": {
          "base_uri": "https://localhost:8080/"
        },
        "id": "SlmDLO-MF7kn",
        "outputId": "ac0e94f4-7192-4711-edb1-8ec2d58ce874"
      },
      "source": [
        "import os\n",
        "\n",
        "#Descomprimir\n",
        "import tarfile\n",
        "tar = tarfile.open('/content/drive/MyDrive/midi.tar', 'r:')\n",
        "tar.extractall()\n",
        "tar.close()\n",
        "\n",
        "#Comprobar las carpetas\n",
        "os.listdir()"
      ],
      "execution_count": 7,
      "outputs": [
        {
          "output_type": "execute_result",
          "data": {
            "text/plain": [
              "['.config', 'midi', 'drive', 'sample_data']"
            ]
          },
          "metadata": {
            "tags": []
          },
          "execution_count": 7
        }
      ]
    },
    {
      "cell_type": "code",
      "metadata": {
        "id": "aGvQ0Ga7F7oo"
      },
      "source": [
        "from music21 import *\n",
        "import glob"
      ],
      "execution_count": 8,
      "outputs": []
    },
    {
      "cell_type": "code",
      "metadata": {
        "id": "88an7MbZF7sz"
      },
      "source": [
        "class MidiDataset(torch.utils.data.Dataset):\n",
        "  def __init__(self, transform=None):\n",
        "    self.transform = transform\n",
        "    self.midi = []\n",
        "    self.diccionario = self.all_notes()\n",
        "    for file in glob.glob(\"/content/midi/*.mid\"):\n",
        "      self.midi.append(converter.parse(file))\n",
        "        \n",
        "  def __len__(self):\n",
        "    return len(self.midi)\n",
        "\n",
        "  def __getitem__(self, idx):\n",
        "    notes = []\n",
        "    val = self.midi[idx]\n",
        "    for element in val.recurse():\n",
        "      if isinstance(element, note.Note):\n",
        "        notes.append(str(element.pitch)) #Obtiene el tono de la nota\n",
        "      elif isinstance(element, chord.Chord):\n",
        "        notes.append('.'.join(str(n) for n in element.normalOrder))\n",
        "    \n",
        "    notes = self.get_notes(notes)\n",
        "    #notes = notes[notes != np.array(None)]   notes = np.asarray(notes)\n",
        "    notes = [x for x in notes if x != None]\n",
        "    if len(notes) < 4097:\n",
        "      for i in range(4096-len(notes)):\n",
        "        notes.append(notes[i])\n",
        "    notes = notes[:4096]\n",
        "\n",
        "    notes = np.asarray(notes)\n",
        "    notes = notes.reshape(64,64)\n",
        "    #print(\"dtype\", notes.dtype)\n",
        "\n",
        "    if self.transform:\n",
        "      notes = self.transform(notes)\n",
        "\n",
        "    return notes\n",
        "\n",
        "  def all_notes(self):\n",
        "    #Obtiene las notas de los archivos midi\n",
        "    dicc = []\n",
        "    for file in glob.glob(\"/content/midi/*.mid\"):\n",
        "      midi = converter.parse(file)\n",
        "    for element in midi.recurse():\n",
        "        if isinstance(element, note.Note):\n",
        "          dicc.append(str(element.pitch)) #Obtiene el tono de la nota\n",
        "        elif isinstance(element, chord.Chord):\n",
        "          dicc.append('.'.join(str(n) for n in element.normalOrder))\n",
        "    # Obtiene el nombre de los tonos\n",
        "    pitchnames = sorted(set(item for item in dicc))\n",
        "    # Crea un diccionario de tonos y numeros enteros\n",
        "    note_to_int = dict((note, number) for number, note in enumerate(pitchnames))\n",
        "    print(\"note_to_int all_notes\", note_to_int)\n",
        "    return note_to_int\n",
        "\n",
        "  def get_notes(self, tonos):\n",
        "    notes = []\n",
        "    for char in tonos:\n",
        "      notes.append(self.diccionario.get(char))\n",
        "    return notes\n"
      ],
      "execution_count": 15,
      "outputs": []
    },
    {
      "cell_type": "markdown",
      "metadata": {
        "id": "oqJbeG6IGEje"
      },
      "source": [
        "# Métrica"
      ]
    },
    {
      "cell_type": "code",
      "metadata": {
        "id": "SsUsJz8JNoJu"
      },
      "source": [
        "import torchvision.models as models\n",
        "import torch.nn.functional as F"
      ],
      "execution_count": null,
      "outputs": []
    },
    {
      "cell_type": "code",
      "metadata": {
        "id": "Kl18mOiWGG_Q"
      },
      "source": [
        "class InceptionV3(nn.Module):\n",
        "    \"\"\"Pretrained InceptionV3 network returning feature maps\"\"\"\n",
        "\n",
        "    # Index of default block of inception to return,\n",
        "    # corresponds to output of final average pooling\n",
        "    DEFAULT_BLOCK_INDEX = 3\n",
        "\n",
        "    # Maps feature dimensionality to their output blocks indices\n",
        "    BLOCK_INDEX_BY_DIM = {\n",
        "        64: 0,   # First max pooling features\n",
        "        192: 1,  # Second max pooling featurs\n",
        "        768: 2,  # Pre-aux classifier features\n",
        "        2048: 3  # Final average pooling features\n",
        "    }\n",
        "\n",
        "    def __init__(self,\n",
        "                 output_blocks=[DEFAULT_BLOCK_INDEX],\n",
        "                 resize_input=True,\n",
        "                 normalize_input=True,\n",
        "                 requires_grad=False):\n",
        "        \n",
        "        super(InceptionV3, self).__init__()\n",
        "\n",
        "        self.resize_input = resize_input\n",
        "        self.normalize_input = normalize_input\n",
        "        self.output_blocks = sorted(output_blocks)\n",
        "        self.last_needed_block = max(output_blocks)\n",
        "\n",
        "        assert self.last_needed_block <= 3, \\\n",
        "            'Last possible output block index is 3'\n",
        "\n",
        "        self.blocks = nn.ModuleList()\n",
        "\n",
        "        \n",
        "        inception = models.inception_v3(pretrained=True)\n",
        "\n",
        "        # Block 0: input to maxpool1\n",
        "        block0 = [\n",
        "            inception.Conv2d_1a_3x3,\n",
        "            inception.Conv2d_2a_3x3,\n",
        "            inception.Conv2d_2b_3x3,\n",
        "            nn.MaxPool2d(kernel_size=3, stride=2)\n",
        "        ]\n",
        "        self.blocks.append(nn.Sequential(*block0))\n",
        "\n",
        "        # Block 1: maxpool1 to maxpool2\n",
        "        if self.last_needed_block >= 1:\n",
        "            block1 = [\n",
        "                inception.Conv2d_3b_1x1,\n",
        "                inception.Conv2d_4a_3x3,\n",
        "                nn.MaxPool2d(kernel_size=3, stride=2)\n",
        "            ]\n",
        "            self.blocks.append(nn.Sequential(*block1))\n",
        "\n",
        "        # Block 2: maxpool2 to aux classifier\n",
        "        if self.last_needed_block >= 2:\n",
        "            block2 = [\n",
        "                inception.Mixed_5b,\n",
        "                inception.Mixed_5c,\n",
        "                inception.Mixed_5d,\n",
        "                inception.Mixed_6a,\n",
        "                inception.Mixed_6b,\n",
        "                inception.Mixed_6c,\n",
        "                inception.Mixed_6d,\n",
        "                inception.Mixed_6e,\n",
        "            ]\n",
        "            self.blocks.append(nn.Sequential(*block2))\n",
        "\n",
        "        # Block 3: aux classifier to final avgpool\n",
        "        if self.last_needed_block >= 3:\n",
        "            block3 = [\n",
        "                inception.Mixed_7a,\n",
        "                inception.Mixed_7b,\n",
        "                inception.Mixed_7c,\n",
        "                nn.AdaptiveAvgPool2d(output_size=(1, 1))\n",
        "            ]\n",
        "            self.blocks.append(nn.Sequential(*block3))\n",
        "\n",
        "        for param in self.parameters():\n",
        "            param.requires_grad = requires_grad\n",
        "\n",
        "    def forward(self, inp):\n",
        "        \"\"\"Get Inception feature maps\n",
        "        Parameters\n",
        "        ----------\n",
        "        inp : torch.autograd.Variable\n",
        "            Input tensor of shape Bx3xHxW. Values are expected to be in\n",
        "            range (0, 1)\n",
        "        Returns\n",
        "        -------\n",
        "        List of torch.autograd.Variable, corresponding to the selected output\n",
        "        block, sorted ascending by index\n",
        "        \"\"\"\n",
        "        outp = []\n",
        "        x = inp\n",
        "\n",
        "        if self.resize_input:\n",
        "            x = F.interpolate(x,\n",
        "                              size=(299, 299),\n",
        "                              mode='bilinear',\n",
        "                              align_corners=False)\n",
        "\n",
        "        if self.normalize_input:\n",
        "            x = 2 * x - 1  # Scale from range (0, 1) to range (-1, 1)\n",
        "\n",
        "        for idx, block in enumerate(self.blocks):\n",
        "            x = block(x)\n",
        "            if idx in self.output_blocks:\n",
        "                outp.append(x)\n",
        "\n",
        "            if idx == self.last_needed_block:\n",
        "                break\n",
        "\n",
        "        return outp\n"
      ],
      "execution_count": null,
      "outputs": []
    },
    {
      "cell_type": "code",
      "metadata": {
        "id": "Bc3AU-jWkBYp"
      },
      "source": [
        "block_idx = InceptionV3.BLOCK_INDEX_BY_DIM[2048]\n",
        "model = InceptionV3([block_idx])\n",
        "model=model.cuda()"
      ],
      "execution_count": null,
      "outputs": []
    },
    {
      "cell_type": "code",
      "metadata": {
        "id": "34HWo5YkGN6v"
      },
      "source": [
        "import numpy as np\n",
        "def calculate_activation_statistics(images,model,batch_size=128, dims=2048,\n",
        "                    cuda=False):\n",
        "    model.eval()\n",
        "    act=np.empty((len(images), dims))\n",
        "    \n",
        "    if cuda:\n",
        "        batch=images.cuda()\n",
        "    else:\n",
        "        batch=images\n",
        "    pred = model(batch)[0]\n",
        "\n",
        "        # If model output is not scalar, apply global spatial average pooling.\n",
        "        # This happens if you choose a dimensionality not equal 2048.\n",
        "    if pred.size(2) != 1 or pred.size(3) != 1:\n",
        "        pred = adaptive_avg_pool2d(pred, output_size=(1, 1))\n",
        "\n",
        "    act= pred.cpu().data.numpy().reshape(pred.size(0), -1)\n",
        "    mu = np.mean(act, axis=0)\n",
        "    sigma = np.cov(act, rowvar=False)\n",
        "    return mu, sigma"
      ],
      "execution_count": null,
      "outputs": []
    },
    {
      "cell_type": "code",
      "metadata": {
        "id": "zgvnrcPmGQ9a"
      },
      "source": [
        "def calculate_frechet_distance(mu1, sigma1, mu2, sigma2, eps=1e-6):\n",
        "    \"\"\"Numpy implementation of the Frechet Distance.\n",
        "    The Frechet distance between two multivariate Gaussians X_1 ~ N(mu_1, C_1)\n",
        "    and X_2 ~ N(mu_2, C_2) is\n",
        "            d^2 = ||mu_1 - mu_2||^2 + Tr(C_1 + C_2 - 2*sqrt(C_1*C_2)).\n",
        "    \"\"\"\n",
        "\n",
        "    mu1 = np.atleast_1d(mu1)\n",
        "    mu2 = np.atleast_1d(mu2)\n",
        "\n",
        "    sigma1 = np.atleast_2d(sigma1)\n",
        "    sigma2 = np.atleast_2d(sigma2)\n",
        "\n",
        "    assert mu1.shape == mu2.shape, \\\n",
        "        'Training and test mean vectors have different lengths'\n",
        "    assert sigma1.shape == sigma2.shape, \\\n",
        "        'Training and test covariances have different dimensions'\n",
        "\n",
        "    diff = mu1 - mu2\n",
        "\n",
        "    \n",
        "    covmean, _ = linalg.sqrtm(sigma1.dot(sigma2), disp=False)\n",
        "    if not np.isfinite(covmean).all():\n",
        "        msg = ('fid calculation produces singular product; '\n",
        "               'adding %s to diagonal of cov estimates') % eps\n",
        "        print(msg)\n",
        "        offset = np.eye(sigma1.shape[0]) * eps\n",
        "        covmean = linalg.sqrtm((sigma1 + offset).dot(sigma2 + offset))\n",
        "\n",
        "    \n",
        "    if np.iscomplexobj(covmean):\n",
        "        if not np.allclose(np.diagonal(covmean).imag, 0, atol=1e-3):\n",
        "            m = np.max(np.abs(covmean.imag))\n",
        "            raise ValueError('Imaginary component {}'.format(m))\n",
        "        covmean = covmean.real\n",
        "\n",
        "    tr_covmean = np.trace(covmean)\n",
        "\n",
        "    return (diff.dot(diff) + np.trace(sigma1) +\n",
        "            np.trace(sigma2) - 2 * tr_covmean)"
      ],
      "execution_count": null,
      "outputs": []
    },
    {
      "cell_type": "code",
      "metadata": {
        "id": "XBceiVgkGRAR"
      },
      "source": [
        "def calculate_fretchet(images_real,images_fake,model):\n",
        "     mu_1,std_1=calculate_activation_statistics(images_real,model,cuda=True)\n",
        "     mu_2,std_2=calculate_activation_statistics(images_fake,model,cuda=True)\n",
        "    \n",
        "     \"\"\"get fretched distance\"\"\"\n",
        "     fid_value = calculate_frechet_distance(mu_1, std_1, mu_2, std_2)\n",
        "     return fid_value"
      ],
      "execution_count": null,
      "outputs": []
    },
    {
      "cell_type": "markdown",
      "metadata": {
        "id": "pALeXbQqG_ia"
      },
      "source": [
        "# Training"
      ]
    },
    {
      "cell_type": "code",
      "metadata": {
        "id": "aRbw0mchHFjj"
      },
      "source": [
        "import torch.optim as optim\n",
        "import torchvision\n",
        "import torchvision.transforms as transforms\n",
        "from torch.utils.data import DataLoader\n",
        "import numpy as np"
      ],
      "execution_count": 19,
      "outputs": []
    },
    {
      "cell_type": "code",
      "metadata": {
        "id": "HgNbv3fPlobS"
      },
      "source": [
        "torch.cuda.empty_cache()"
      ],
      "execution_count": 16,
      "outputs": []
    },
    {
      "cell_type": "code",
      "metadata": {
        "id": "UYHQeDVaHcBj"
      },
      "source": [
        "# Hyperparameters etc.\n",
        "device = torch.device(\"cuda\" if torch.cuda.is_available() else \"cpu\")\n",
        "learning_rate = 2e-4\n",
        "batch_size = 128\n",
        "dimension = 1\n",
        "noise_dim = 100\n",
        "num_epochs = 5\n",
        "features_dic = 64\n",
        "features_gen = 64"
      ],
      "execution_count": 12,
      "outputs": []
    },
    {
      "cell_type": "code",
      "metadata": {
        "id": "MNawp_AmHcE6"
      },
      "source": [
        "def get_transform():\n",
        "    transforms_midi = []\n",
        "    transforms_midi.append(transforms.ToTensor())\n",
        "    return transforms.Compose(transforms_midi)"
      ],
      "execution_count": 17,
      "outputs": []
    },
    {
      "cell_type": "code",
      "metadata": {
        "id": "Y0ExE5bE72If",
        "outputId": "290d96ed-17c5-441c-b943-17ba0c526de1",
        "colab": {
          "base_uri": "https://localhost:8080/"
        }
      },
      "source": [
        "dataset = MidiDataset(transform=get_transform())\n",
        "print(\"len dataset\", len(dataset))"
      ],
      "execution_count": 20,
      "outputs": [
        {
          "output_type": "stream",
          "text": [
            "note_to_int all_notes {'0': 0, '0.3': 1, '0.3.5': 2, '0.4': 3, '0.5': 4, '1': 5, '1.5': 6, '10': 7, '10.0': 8, '10.0.4': 9, '10.1': 10, '10.1.5': 11, '10.2': 12, '10.2.5': 13, '10.3': 14, '11': 15, '11.0': 16, '11.2': 17, '2': 18, '2.4': 19, '2.5': 20, '2.8': 21, '3': 22, '3.5': 23, '3.5.9': 24, '3.6': 25, '3.7': 26, '3.7.10': 27, '3.9': 28, '4': 29, '4.5.7.10.0': 30, '4.7': 31, '5': 32, '5.10': 33, '5.11': 34, '5.7': 35, '5.8': 36, '5.8.0': 37, '5.8.10': 38, '5.9': 39, '5.9.0': 40, '6': 41, '6.10': 42, '7': 43, '7.0': 44, '7.10': 45, '7.10.2': 46, '8': 47, '8.0': 48, '8.11': 49, '9': 50, '9.0': 51, '9.0.3': 52, '9.1': 53, '9.10.0.3.5': 54, '9.11': 55, '9.2': 56, 'A2': 57, 'A3': 58, 'A4': 59, 'A5': 60, 'B-1': 61, 'B-2': 62, 'B-3': 63, 'B-4': 64, 'B-5': 65, 'B2': 66, 'B3': 67, 'B4': 68, 'B5': 69, 'C#2': 70, 'C#3': 71, 'C#4': 72, 'C#5': 73, 'C#6': 74, 'C2': 75, 'C3': 76, 'C4': 77, 'C5': 78, 'C6': 79, 'D2': 80, 'D3': 81, 'D4': 82, 'D5': 83, 'D6': 84, 'E-2': 85, 'E-3': 86, 'E-4': 87, 'E-5': 88, 'E-6': 89, 'E2': 90, 'E3': 91, 'E4': 92, 'E5': 93, 'E6': 94, 'F#1': 95, 'F#2': 96, 'F#3': 97, 'F#4': 98, 'F#5': 99, 'F1': 100, 'F2': 101, 'F3': 102, 'F4': 103, 'F5': 104, 'F6': 105, 'G#1': 106, 'G#2': 107, 'G#3': 108, 'G#4': 109, 'G#5': 110, 'G1': 111, 'G2': 112, 'G3': 113, 'G4': 114, 'G5': 115}\n",
            "len dataset 328\n"
          ],
          "name": "stdout"
        }
      ]
    },
    {
      "cell_type": "code",
      "metadata": {
        "id": "U9rG7M6c75cE"
      },
      "source": [
        "dataloader = torch.utils.data.DataLoader(dataset, batch_size=batch_size, shuffle=True)\n",
        "gen = Generator(noise_dim, dimension, features_gen).to(device)\n",
        "disc = Discriminator(dimension, features_dic).to(device)\n",
        "initialize_weights(gen)\n",
        "initialize_weights(disc)"
      ],
      "execution_count": 21,
      "outputs": []
    },
    {
      "cell_type": "code",
      "metadata": {
        "id": "kPxwtM0UHjgx"
      },
      "source": [
        "opt_gen = optim.Adam(gen.parameters(), lr=learning_rate, betas=(0.5, 0.999))\n",
        "opt_disc = optim.Adam(disc.parameters(), lr=learning_rate, betas=(0.5, 0.999))\n",
        "criterion = nn.BCELoss()\n",
        "\n",
        "fixed_noise = torch.randn(32, noise_dim, 1, 1).to(device)\n",
        "step = 0"
      ],
      "execution_count": 22,
      "outputs": []
    },
    {
      "cell_type": "code",
      "metadata": {
        "colab": {
          "base_uri": "https://localhost:8080/"
        },
        "id": "5UQv7ylTHt5N",
        "outputId": "672e4e92-8871-4284-91e4-f4ca1491595c"
      },
      "source": [
        "disc.train()"
      ],
      "execution_count": 23,
      "outputs": [
        {
          "output_type": "execute_result",
          "data": {
            "text/plain": [
              "Discriminator(\n",
              "  (disc): Sequential(\n",
              "    (0): Conv2d(1, 64, kernel_size=(4, 4), stride=(2, 2), padding=(1, 1))\n",
              "    (1): LeakyReLU(negative_slope=0.2)\n",
              "    (2): Sequential(\n",
              "      (0): Conv2d(64, 128, kernel_size=(4, 4), stride=(2, 2), padding=(1, 1), bias=False)\n",
              "      (1): LeakyReLU(negative_slope=0.2)\n",
              "    )\n",
              "    (3): Sequential(\n",
              "      (0): Conv2d(128, 256, kernel_size=(4, 4), stride=(2, 2), padding=(1, 1), bias=False)\n",
              "      (1): LeakyReLU(negative_slope=0.2)\n",
              "    )\n",
              "    (4): Sequential(\n",
              "      (0): Conv2d(256, 512, kernel_size=(4, 4), stride=(2, 2), padding=(1, 1), bias=False)\n",
              "      (1): LeakyReLU(negative_slope=0.2)\n",
              "    )\n",
              "    (5): Conv2d(512, 1, kernel_size=(4, 4), stride=(2, 2))\n",
              "    (6): Sigmoid()\n",
              "  )\n",
              ")"
            ]
          },
          "metadata": {
            "tags": []
          },
          "execution_count": 23
        }
      ]
    },
    {
      "cell_type": "code",
      "metadata": {
        "colab": {
          "base_uri": "https://localhost:8080/"
        },
        "id": "GxXy_FRYHjj_",
        "outputId": "4b5001c7-7691-4c37-d927-2ae7bac7eb84"
      },
      "source": [
        "gen.train()"
      ],
      "execution_count": 24,
      "outputs": [
        {
          "output_type": "execute_result",
          "data": {
            "text/plain": [
              "Generator(\n",
              "  (dropout): Dropout(p=0.5, inplace=False)\n",
              "  (net): Sequential(\n",
              "    (0): Sequential(\n",
              "      (0): ConvTranspose2d(100, 1024, kernel_size=(4, 4), stride=(1, 1), bias=False)\n",
              "      (1): ReLU()\n",
              "    )\n",
              "    (1): Sequential(\n",
              "      (0): ConvTranspose2d(1024, 512, kernel_size=(4, 4), stride=(2, 2), padding=(1, 1), bias=False)\n",
              "      (1): ReLU()\n",
              "    )\n",
              "    (2): Sequential(\n",
              "      (0): ConvTranspose2d(512, 256, kernel_size=(4, 4), stride=(2, 2), padding=(1, 1), bias=False)\n",
              "      (1): ReLU()\n",
              "    )\n",
              "    (3): Sequential(\n",
              "      (0): ConvTranspose2d(256, 128, kernel_size=(4, 4), stride=(2, 2), padding=(1, 1), bias=False)\n",
              "      (1): ReLU()\n",
              "    )\n",
              "    (4): ConvTranspose2d(128, 1, kernel_size=(4, 4), stride=(2, 2), padding=(1, 1))\n",
              "    (5): Tanh()\n",
              "  )\n",
              ")"
            ]
          },
          "metadata": {
            "tags": []
          },
          "execution_count": 24
        }
      ]
    },
    {
      "cell_type": "code",
      "metadata": {
        "colab": {
          "base_uri": "https://localhost:8080/"
        },
        "id": "LQZcDhlvHt8a",
        "outputId": "6c185b23-7683-4ca6-a58b-daba970f1417"
      },
      "source": [
        "list_loss_disc = []\n",
        "list_loss_gen = []\n",
        "for epoch in range(num_epochs):\n",
        "  for batch_idx, real in enumerate(dataloader):\n",
        "    #print(\"real dtype\", real.dtype)\n",
        "    real = real.to(device)\n",
        "    noise = torch.randn(batch_size, noise_dim, 1, 1).to(device)\n",
        "    fake = gen(noise)\n",
        "\n",
        "    #El modelo Inception está entrenado para manejar 3 canales\n",
        "    #real_inception = torch.cat((real, real, real),1)\n",
        "    #fake_inception = torch.cat((fake, fake, fake),1)\n",
        "\n",
        "    ### Train Discriminator: max log(D(x)) + log(1 - D(G(z)))\n",
        "    disc_real = disc(real.float()).reshape(-1)\n",
        "    loss_disc_real = criterion(disc_real, torch.ones_like(disc_real))\n",
        "    disc_fake = disc(fake.detach()).reshape(-1)\n",
        "    loss_disc_fake = criterion(disc_fake, torch.zeros_like(disc_fake))\n",
        "    loss_disc = (loss_disc_real + loss_disc_fake) / 2\n",
        "    disc.zero_grad()\n",
        "    loss_disc.backward()\n",
        "    opt_disc.step()\n",
        "\n",
        "    ### Train Generator: min log(1 - D(G(z))) <-> max log(D(G(z))\n",
        "    output = disc(fake).reshape(-1)\n",
        "    loss_gen = criterion(output, torch.ones_like(output))\n",
        "    gen.zero_grad()\n",
        "    loss_gen.backward()\n",
        "    opt_gen.step()\n",
        "\n",
        "    # Print losses occasionally and print to tensorboard\n",
        "    if batch_idx % 10 == 0:\n",
        "      list_loss_disc.append(loss_disc)\n",
        "      list_loss_gen.append(loss_gen)\n",
        "      #fretchet_dist=calculate_fretchet(real_inception,fake_inception,model)   #Calcula la métrica\n",
        "      print(\n",
        "        f\"Epoch [{epoch}/{num_epochs}] Batch {batch_idx}/{len(dataloader)} \\\n",
        "        Loss D: {loss_disc:.4f}, loss G: {loss_gen:.4f}\"\n",
        "        )\n",
        "      #, Fretchet_Distance: {fretchet_dist:.4f}\n",
        "\n",
        "      with torch.no_grad():\n",
        "        new = gen(fixed_noise)\n",
        "        #generate(dicc, epoch)\n",
        "      step += 1"
      ],
      "execution_count": 25,
      "outputs": [
        {
          "output_type": "stream",
          "text": [
            "Epoch [0/5] Batch 0/3         Loss D: 0.6354, loss G: 0.6036\n",
            "Epoch [1/5] Batch 0/3         Loss D: 0.3347, loss G: 0.8636\n",
            "Epoch [2/5] Batch 0/3         Loss D: 0.1647, loss G: 1.7241\n",
            "Epoch [3/5] Batch 0/3         Loss D: 0.0355, loss G: 3.4070\n",
            "Epoch [4/5] Batch 0/3         Loss D: 0.0057, loss G: 4.8898\n"
          ],
          "name": "stdout"
        }
      ]
    },
    {
      "cell_type": "code",
      "metadata": {
        "id": "vGmZPhIRs8nV"
      },
      "source": [
        "#fretchet_dist=calculate_fretchet(real_inception,fake_inception,model)"
      ],
      "execution_count": null,
      "outputs": []
    },
    {
      "cell_type": "code",
      "metadata": {
        "colab": {
          "base_uri": "https://localhost:8080/",
          "height": 294
        },
        "id": "obOQBt3HHt-_",
        "outputId": "a8456f1c-8429-42fe-d46a-5ce144abb8a7"
      },
      "source": [
        "import numpy as np\n",
        "import matplotlib.pyplot as plt\n",
        "def plot_loss():\n",
        "        plt.plot(list_loss_disc, c='red')\n",
        "        plt.plot(list_loss_gen, c='blue')\n",
        "        plt.title(\"GAN Loss per Epoch\")\n",
        "        plt.legend(['Discriminator', 'Generator'])\n",
        "        plt.xlabel('Epoch')\n",
        "        plt.ylabel('Loss')\n",
        "        #plt.savefig('GAN_Loss_per_Epoch_final.png', transparent=True)\n",
        "        plt.show()\n",
        "        #plt.close()\n",
        "plot_loss()"
      ],
      "execution_count": 26,
      "outputs": [
        {
          "output_type": "display_data",
          "data": {
            "image/png": "[encoded data removed]",
            "text/plain": [
              "<Figure size 432x288 with 1 Axes>"
            ]
          },
          "metadata": {
            "tags": [],
            "image/png": {
              "width": 376,
              "height": 277
            },
            "needs_background": "light"
          }
        }
      ]
    },
    {
      "cell_type": "markdown",
      "metadata": {
        "id": "U2dBhYn-IBkq"
      },
      "source": [
        "# Generate"
      ]
    },
    {
      "cell_type": "code",
      "metadata": {
        "id": "zPteo-7pIDRc"
      },
      "source": [
        "def create_midi(prediction_output, filename):\n",
        "    offset = 0\n",
        "    output_notes = []\n",
        "\n",
        "    for item in prediction_output:\n",
        "        pattern = item[0]\n",
        "        if ('.' in pattern) or pattern.isdigit():\n",
        "            notes_in_chord = pattern.split('.')\n",
        "            notes = []\n",
        "            for current_note in notes_in_chord:\n",
        "                new_note = note.Note(int(current_note))\n",
        "                new_note.storedInstrument = instrument.Piano()\n",
        "                notes.append(new_note)\n",
        "            new_chord = chord.Chord(notes)\n",
        "            new_chord.offset = offset\n",
        "            output_notes.append(new_chord)\n",
        "        else:\n",
        "            new_note = note.Note(pattern)\n",
        "            new_note.offset = offset\n",
        "            new_note.storedInstrument = instrument.Piano()\n",
        "            output_notes.append(new_note)\n",
        "\n",
        "        offset += 0.5\n",
        "\n",
        "    midi_stream = stream.Stream(output_notes)\n",
        "    midi_stream.write('midi', fp='{}.mid'.format(filename))"
      ],
      "execution_count": 27,
      "outputs": []
    },
    {
      "cell_type": "code",
      "metadata": {
        "id": "IU2Lcj7p8uFs"
      },
      "source": [
        "def generate(dicc):\n",
        "  pitchnames = dicc.keys()\n",
        "  print(\"len pitchnames\", len(pitchnames))\n",
        "  int_to_note = dict((number, note) for number, note in enumerate(pitchnames))\n",
        "  fixed_noise = torch.randn(32, noise_dim, 1, 1).to(device)\n",
        "  fake = gen(fixed_noise)\n",
        "  print(\"fake shape: \", fake.shape)\n",
        "  fake = fake[0].resize(1, 64*64)\n",
        "  print(\"fake\", fake[0,100:200])\n",
        "  pred_notes = fake[0]*34+34\n",
        "  print(\"pred desnorm\", pred_notes[100:200])\n",
        "  pred_notes = [int_to_note[int(x)] for x in pred_notes]\n",
        "  print(\"pred int\", pred_notes)\n",
        "      \n",
        "  create_midi(pred_notes, 'gan_final')"
      ],
      "execution_count": 28,
      "outputs": []
    },
    {
      "cell_type": "code",
      "metadata": {
        "id": "03GX44Ad8xQm",
        "outputId": "9605d10d-a7e0-47bf-890e-b0670d1b62c0",
        "colab": {
          "base_uri": "https://localhost:8080/"
        }
      },
      "source": [
        "dicc = dataset.diccionario\n",
        "generate(dicc)"
      ],
      "execution_count": 29,
      "outputs": [
        {
          "output_type": "stream",
          "text": [
            "len pitchnames 116\n",
            "fake shape:  torch.Size([32, 1, 64, 64])\n",
            "fake tensor([ 0.9232,  0.9811, -0.9327,  0.9779, -0.1319,  0.9360, -0.9811,  0.9880,\n",
            "         0.9265,  0.9864, -0.9258,  0.9748, -0.3815,  0.9210, -0.9763,  0.9724,\n",
            "         0.8833,  0.9520, -0.8691,  0.9374, -0.1048,  0.8391, -0.8965,  0.8574,\n",
            "         0.6420,  0.6255, -0.3872,  0.1521, -0.1273,  0.6225,  0.4147, -0.8948,\n",
            "        -0.2025,  0.8226,  0.7639,  0.1970, -0.9284,  0.8882,  0.9168, -0.9888,\n",
            "        -0.4454,  0.9260,  0.8350,  0.0350, -0.9803,  0.9366,  0.9298, -0.9960,\n",
            "        -0.4301,  0.9191,  0.8888,  0.1904, -0.9770,  0.9318,  0.9581, -0.9942,\n",
            "        -0.4950,  0.9296,  0.8450,  0.0021, -0.9793,  0.9365,  0.9292, -0.9963,\n",
            "        -0.4631,  0.9145,  0.8921,  0.1808, -0.9761,  0.9295,  0.9554, -0.9945,\n",
            "        -0.5005,  0.9252,  0.8598,  0.0470, -0.9789,  0.9158,  0.9209, -0.9918,\n",
            "        -0.3755,  0.8429,  0.8072,  0.1109, -0.9296,  0.7535,  0.8512, -0.9171,\n",
            "        -0.3665,  0.2992,  0.3455, -0.0471,  0.0678,  0.8235, -0.0107,  0.9569,\n",
            "         0.8015,  0.9635, -0.9642,  0.9969], device='cuda:0',\n",
            "       grad_fn=<SliceBackward>)\n",
            "pred desnorm tensor([65.3894, 67.3570,  2.2883, 67.2480, 29.5162, 65.8230,  0.6412, 67.5932,\n",
            "        65.5000, 67.5389,  2.5211, 67.1417, 21.0278, 65.3129,  0.8063, 67.0619,\n",
            "        64.0325, 66.3681,  4.4501, 65.8712, 30.4361, 62.5284,  3.5198, 63.1529,\n",
            "        55.8281, 55.2672, 20.8364, 39.1702, 29.6718, 55.1647, 48.0986,  3.5767,\n",
            "        27.1152, 61.9699, 59.9710, 40.6995,  2.4339, 64.1989, 65.1702,  0.3823,\n",
            "        18.8549, 65.4854, 62.3890, 35.1904,  0.6715, 65.8454, 65.6134,  0.1357,\n",
            "        19.3754, 65.2499, 64.2206, 40.4739,  0.7816, 65.6798, 66.5765,  0.1970,\n",
            "        17.1703, 65.6053, 62.7297, 34.0699,  0.7037, 65.8406, 65.5914,  0.1274,\n",
            "        18.2548, 65.0919, 64.3324, 40.1477,  0.8127, 65.6042, 66.4848,  0.1886,\n",
            "        16.9841, 65.4578, 63.2331, 35.5983,  0.7173, 65.1385, 65.3117,  0.2777,\n",
            "        21.2342, 62.6576, 61.4434, 37.7711,  2.3920, 59.6196, 62.9398,  2.8202,\n",
            "        21.5395, 44.1743, 45.7455, 32.3974, 36.3063, 61.9982, 33.6351, 66.5355,\n",
            "        61.2519, 66.7575,  1.2160, 67.8953], device='cuda:0',\n",
            "       grad_fn=<SliceBackward>)\n",
            "pred int ['5', '5.8', '4.7', '5.11', '3.6', '6.10', '3.7.10', '3.9', '3.5.9', '6', '4.5.7.10.0', '5', '2.5', '7.10', '3.7', '3.6', '2.8', '7', '4', '5.7', '2.4', '7.10.2', '3.7', '3.7.10', '2.8', '7', '4', '5', '2', '7.10.2', '3.7.10', '3.6', '2.8', '7.0', '4', '5.7', '2.5', '7.10.2', '3.7', '3.7.10', '2.8', '6.10', '4', '5', '2', '7.10.2', '3.9', '3.5.9', '2.8', '6.10', '4.5.7.10.0', '5.11', '2.8', '7', '3.9', '3.7.10', '3.5.9', '5.9', '5', '5', '3.7', '5.8.0', '5.11', '5.10', '5', '7.10', '10.0.4', 'B-3', '9.11', 'B-5', '1', 'B-5', '4.5.7.10.0', 'B-3', '0.3', 'B3', 'B-4', 'B3', '0.3.5', 'B3', '3', 'B-5', '0', 'B3', 'B-5', 'B3', '0.3.5', 'B3', '4.5.7.10.0', 'B-5', '0', 'B3', 'B-5', 'B3', '0.3.5', 'B3', '2.8', 'B-5', '0', 'B3', 'B-5', 'B3', '0.3.5', 'B3', '4', 'B-5', '0', 'B3', 'B-5', 'B3', '0.3.5', 'B3', '2.8', 'B-5', '0', 'B3', 'B-4', 'B2', '0.5', 'B-5', '4.5.7.10.0', 'B-2', '0.4', 'B-3', '9.11', '9.11', '2.5', '5.9', '4', '9.11', '8.0', '0.4', '3.7.10', 'B-1', 'A4', '5.9.0', '0.3.5', 'B-4', 'B-5', '0', '2', 'B-5', 'B-2', '5.7', '0', 'B-5', 'B-5', '0', '2.4', 'B-5', 'B-4', '5.9.0', '0', 'B-5', 'B2', '0', '11.2', 'B-5', 'B-2', '5.11', '0', 'B-5', 'B-5', '0', '2', 'B-5', 'B-4', '5.9.0', '0', 'B-5', 'B2', '0', '11.0', 'B-5', 'B-3', '5.7', '0', 'B-5', 'B-5', '0', '2.8', 'B-2', 'B-1', '5.8.0', '0.3.5', 'A4', 'B-2', '0.3.5', '2.8', '7.0', '7.10', '5', '5.8', 'B-1', '5.10', 'B2', 'B-1', 'B2', '0.3', 'B3', 'B-3', 'B3', '9.0', 'B3', 'B2', 'B3', '0', 'B3', 'B-5', 'B3', 'A2', 'B3', 'B3', 'B3', '0', 'B3', 'B-5', 'B3', 'A3', 'B3', 'B3', 'B3', '0', 'B3', 'B-5', 'B3', 'A3', 'B3', 'B3', 'B3', '0', 'B3', 'B2', 'B3', 'A2', 'B3', 'B3', 'B3', '0', 'B3', 'B-5', 'B3', 'A5', 'B3', 'B3', 'B3', '0', 'B3', 'B-3', 'B3', 'A2', 'B3', 'B-2', 'B-3', '11.0', '6', '3.5', '7', '5.8.0', '11.0', '0', '4.7', '4.5.7.10.0', '0.5', '0', '11.0', 'B-3', '10.1', '0', '5.11', '4', '0.3', '0', '11.0', 'B-3', '10', '0', '4', '5.10', '0.3', '0', '10.0.4', 'B-5', '10.0.4', '0', '5.7', '4.7', '0.3', '0', '11.0', 'B-3', '10', '0', '4.5.7.10.0', '4.7', '0.3', '0', '10.0.4', 'B-5', '10.1', '0', '4.7', '4.5.7.10.0', '0.3', '0', '10.3', 'B-3', '10.1', '0', '4.5.7.10.0', '5.10', '0.4', '0', '10.1', 'A5', '3', '0.3', '3.7.10', '5.7', '3.7.10', '3.5', 'B-5', '0.3.5', 'B3', '0.3', 'B3', '0', 'B3', '0', 'B3', '0', 'B3', '0', 'B3', '0', 'B3', '0', 'B3', '0', 'B3', '0', 'B3', '0', 'B3', '0', 'B3', '0', 'B3', '0', 'B3', '0', 'B3', '0', 'B3', '0', 'B3', '0', 'B3', '0', 'B3', '0', 'B3', '0', 'B3', '0', 'B3', '0', 'B3', '0', 'B3', '0', 'B3', '0', 'B3', '0', 'B3', '0', 'B3', '0', 'B2', '0.3', 'B-5', '0.4', '8', '3.7', 'A5', 'A5', 'B-2', '0.3', 'B3', 'B2', '7.0', '0', 'B2', 'B3', 'B3', '0', 'B3', 'B3', '7.0', '0', 'B3', 'B3', 'B3', '0', 'B3', 'B3', '9', '0', 'B3', 'B3', 'B3', '0', 'B3', 'B3', '7.10', '0', 'B3', 'B3', 'B3', '0', 'B3', 'B3', '9', '0', 'B3', 'B3', 'B3', '0', 'B3', 'B3', '7.0', '0', 'B3', 'B3', 'B3', '0', 'B3', 'B2', '7.0', '0', 'B-5', 'B3', 'B-5', '0', 'A5', '8.11', '4.7', '3.7', 'A2', '0.4', 'B3', '4', '3.5.9', '0.3', 'B3', '0', 'B3', '0', 'B3', '5.7', '9.0.3', '0', 'B3', '0', 'B3', '0', 'B3', '5.11', '9.1', '0', 'B3', '0', 'B3', '0', 'B3', '5.9.0', 'A5', '0', 'B3', '0', 'B3', '0', 'B3', '5', '9.2', '0', 'B3', '0', 'B3', '0', 'B3', '5.8.0', 'A4', '0', 'B3', '0', 'B3', '0', 'B3', '5.7', 'A4', '0', 'B3', '0', 'B3', '0', 'B3', '5.9', 'B-2', '3', '7.0', '3', 'A2', '1.5', '3.5.9', '0', 'B2', '0', '0.3', '0', 'B3', '0', '5.8', '0', 'B3', '0', '0', '0', 'B3', '0', '2.8', '0', 'B3', '0', '0', '0', 'B3', '0', '5.11', '0', 'B3', '0', '0', '0', 'B3', '0', '2.5', '0', 'B3', '0', '0', '0', 'B3', '0', '5.7', '0', 'B3', '0', '0', '0', 'B3', '0', '3', '0', 'B3', '0', '0.3', '0', 'B2', '0.3.5', '5.10', '0', '9.1', '2.8', '3.5', '5', 'B-3', '0', 'B3', 'B-4', 'B3', '0', 'B3', '1.5', 'B3', '0', 'B3', 'B3', 'B3', '0', 'B3', '0.4', 'B3', '0', 'B3', 'B3', 'B3', '0', 'B3', '0.4', 'B3', '0', 'B3', 'B3', 'B3', '0', 'B3', '0.4', 'B3', '0', 'B3', 'B3', 'B3', '0', 'B3', '0.3.5', 'B3', '0', 'B3', 'B3', 'B3', '0', 'B3', '0.5', 'B3', '0', 'B3', 'B3', 'B3', '0', 'B3', '0.5', 'B3', '0', 'B3', 'B-3', 'B3', '0.4', '8', '3.5.9', 'B2', 'B-3', '0', '10.0', 'B3', 'B3', 'A5', '0', 'B3', 'B3', '0', '0', 'B3', 'B3', 'B-2', '0', 'B3', 'B3', '0', '0', 'B3', 'B3', 'B-2', '0', 'B3', 'B3', '0', '0', 'B3', 'B3', 'B-2', '0', 'B3', 'B3', '0', '0', 'B3', 'B3', 'B-2', '0', 'B3', 'B3', '0', '0', 'B3', 'B3', 'B-2', '0', 'B3', 'B3', '0', '0', 'B3', 'B3', 'A2', '0', 'B3', 'B3', '0', '0.3.5', 'A5', 'A5', '5', '5.8.0', 'B2', '4.5.7.10.0', 'B3', 'B-5', 'B3', '0', 'B3', 'B2', 'B3', 'B-2', 'B3', 'B3', 'B3', '0', 'B3', 'B3', 'B3', 'B-3', 'B3', 'B3', 'B3', '0', 'B3', 'B3', 'B3', 'B2', 'B3', 'B3', 'B3', '0', 'B3', 'B3', 'B3', 'B-3', 'B3', 'B3', 'B3', '0', 'B3', 'B3', 'B3', 'B-5', 'B3', 'B3', 'B3', '0', 'B3', 'B3', 'B3', 'B-4', 'B3', 'B3', 'B3', '0', 'B3', 'B-5', 'B3', 'B-5', 'B3', 'B3', 'B3', '10', '8', '2.8', '8.11', '7.10.2', '10.2.5', '0', '3.7', '4.5.7.10.0', '0.3', '0', '1.5', 'B3', '3.6', '0', '3.5.9', 'B-1', '0', '0', '10', 'B3', '10.0.4', '0', '2.4', '5.8', '0', '0', '0.3.5', 'B3', '3.7.10', '0', '3.5.9', 'B-3', '0', '0', '10', 'B3', '10.0.4', '0', '11.0', '5.8', '0', '0', '0.3', 'B3', '4', '0', '3', 'B-3', '0', '0', '1.5', 'B3', '11', '0', '2', '5.8.0', '0', '0', '0.3.5', 'B-5', '5.9', '0', '3', '8', '3.5', '2.4', 'B3', '0', 'B3', '0', 'B3', '0', 'B3', '0', 'B3', '0', 'B3', '0', 'B3', '0', 'B3', '0', 'B3', '0', 'B3', '0', 'B3', '0', 'B4', '0', 'B4', '0', 'B3', '0', 'B3', '0', 'B4', '0', 'B4', '0', 'B3', '0', 'B3', '0', 'B4', '0', 'B4', '0', 'B3', '0', 'B3', '0', 'B3', '0', 'B3', '0', 'B3', '0', 'B3', '0', 'B3', '0', 'B3', '0', 'B3', '0', 'B3', '0', '9.1', '3.6', 'B-3', 'B-3', 'B2', '0', 'B3', 'B3', '8.0', '0', 'B3', 'B3', 'B3', '0', 'B3', 'B3', '7.10', '0', 'B3', 'B3', 'B3', '0', 'B3', 'B3', '9.1', '0', 'B3', 'B3', 'B3', '0', 'B3', 'B3', '7.0', '0', 'B3', 'B3', 'B3', '0', 'B3', 'B3', '9.0.3', '0', 'B3', 'B3', 'B3', '0', 'B3', 'B3', '7.10.2', '0', 'B3', 'B3', 'B3', '0', 'B3', 'B-3', '8.0', '0', 'B3', 'B3', 'B3', '0', 'B-3', '8', '5', '3.6', 'A2', '0.3.5', 'B3', '3.7.10', '10.0.4', '0', 'B3', '0', 'B3', '0', 'B3', '7.10', 'B-3', '0', 'B3', '0', 'B3', '0', 'B4', '5', '7.10.2', '0', 'B4', '0', 'B3', '0', 'B4', '8.0', 'B2', '0', 'B3', '0', 'B3', '0', 'B4', '5', '8.0', '0', 'B4', '0', 'B3', '0', 'B4', '9', 'B2', '0', 'B3', '0', 'B3', '0', 'B3', '5.7', 'A4', '0', 'B3', '0', 'B3', '0', 'B3', '8.0', 'B-5', '10.2', '8.11', '2.4', 'B-2', '0.3.5', '9.1', '0', 'B2', '0', '0', '0', 'B3', '0', '3.7', '0', 'B3', '0', '0', '0', 'B3', '0', 'A5', '0', 'B3', '0', '0', '0', 'B3', '0', '3.5', '0', 'B3', '0', '0', '0', 'B3', '0', 'A5', '0', 'B3', '0', '0', '0', 'B3', '0', '3', '0', 'B3', '0', '0', '0', 'B3', '0', 'A2', '0', 'B3', '0', '0', '0', 'B3', '0', '3', '0', 'B-3', '10.1.5', '2.8', '4.7', 'B-5', '0', 'B3', 'B2', 'B3', '0', 'B3', '0.4', 'B3', '0', 'B3', 'B3', 'B4', '0', 'B3', '0', 'B3', '0', 'B3', 'B3', 'B4', '0', 'B3', '0.3.5', 'B3', '0', 'B3', 'B3', 'B4', '0', 'B3', '0', 'B3', '0', 'B4', 'B3', 'B4', '0', 'B3', '0.4', 'B3', '0', 'B3', 'B3', 'B4', '0', 'B3', '0', 'B3', '0', 'B3', 'B3', 'B3', '0', 'B3', '10', 'B3', '0', 'B3', 'B-4', 'B3', '0.3.5', '8.11', '3', 'B2', 'B-4', '0', '0.4', 'B3', 'B3', 'B-5', '0', 'B3', 'B3', '0', '0', 'B3', 'B3', 'B-4', '0', 'B3', 'B3', '0', '0', 'B3', 'B3', 'B2', '0', 'B3', 'B3', '0', '0', 'B3', 'B3', 'B-4', '0', 'B3', 'B3', '0', '0', 'B3', 'B3', 'B2', '0', 'B3', 'B3', '0', '0', 'B3', 'B3', 'B-4', '0', 'B3', 'B3', '0', '0', 'B3', 'B3', 'B-2', '0', 'B3', 'B3', '0', '0.3', 'B-2', 'B-3', '5', '5.8.0', 'B3', '4.5.7.10.0', 'B3', 'B2', 'B3', '0', 'B3', 'B3', 'B3', 'A5', 'B3', 'B3', 'B3', '0', 'B3', 'B3', 'B3', 'B-5', 'B4', 'B3', 'B3', '0', 'B4', 'B3', 'B3', 'B-5', 'B3', 'B3', 'B3', '0', 'B3', 'B3', 'B3', 'B-5', 'B4', 'B3', 'B3', '0', 'B4', 'B3', 'B3', 'B-4', 'B3', 'B3', 'B3', '0', 'B3', 'B3', 'B3', 'B2', 'B3', 'B3', 'B3', '0', 'B3', 'B3', 'B3', 'B-3', 'B3', 'B3', 'B3', '1', '8.0', '2.4', '9.2', '9.0', '11.2', '0', '4', '5.10', '0', '0', '10.1', 'B3', '2.8', '0', '3.7.10', '7.0', '0', '0', '2.4', 'B3', '2.8', '0', '4.7', '5.9', '0', '0', '0.4', 'B3', '3.7.10', '0', '3.7.10', '8', '0', '0', '2.8', 'B3', '3.5.9', '0', '3.9', '6.10', '0', '0', '0.5', 'B3', '4', '0', '3.6', '8', '0', '0', '2', 'B3', '4.7', '0', '4.5.7.10.0', '7.0', '0', '0', '0.4', 'B3', '5.9', '0', '2.8', '7.10.2', '2.8', '2.4', 'B3', '0', 'B3', '0', 'B3', '0', 'B3', '0', 'B3', '0', 'B3', '0', 'B3', '0', 'B4', '0', 'B4', '0', 'B3', '0', 'B3', '0', 'B4', '0', 'B4', '0', 'B3', '0', 'B3', '0', 'B4', '0', 'B4', '0', 'B3', '0', 'B3', '0', 'B4', '0', 'B4', '0', 'B3', '0', 'B3', '0', 'B4', '0', 'B4', '0', 'B3', '0', 'B3', '0', 'B3', '0', 'B3', '0', 'B3', '0', 'B3', '0', '9.1', '3.5', 'B-5', 'B-5', 'B2', '0', 'B3', 'B3', '9.2', '0', 'B3', 'B3', 'B3', '0', 'B3', 'B3', '9.11', '0', 'B3', 'B3', 'B3', '0', 'B3', 'B3', 'A4', '0', 'B3', 'B3', 'B3', '0', 'B3', 'B3', 'A4', '0', 'B3', 'B3', 'B3', '0', 'B3', 'B3', 'A4', '0', 'B3', 'B3', 'B3', '0', 'B3', 'B3', 'A3', '0', 'B3', 'B3', 'B3', '0', 'B3', 'B2', '9.10.0.3.5', '0', 'B3', 'B3', 'B3', '0', 'B-4', '7.0', '5.10', '3.5', 'A5', '0.3', 'B3', '4', '3.5', '0', 'B3', '0', 'B3', '0', 'B3', '5.9', '9.2', '0', 'B3', '0', 'B3', '0', 'B4', '5.11', 'A4', '0', 'B4', '0', 'B3', '0', 'B4', '6', 'B-3', '0', 'B3', '0', 'B3', '0', 'B4', '5.7', 'A5', '0', 'B4', '0', 'B3', '0', 'B4', '6', 'B-3', '0', 'B3', '0', 'B3', '0', 'B3', '5.9', 'B-1', '0', 'B3', '0', 'B3', '0', 'B3', '7', 'B-4', '2.4', '8', '2.4', 'B-1', '0.3.5', '3.6', '0', 'B3', '0', '0', '0', 'B3', '0', '5.9', '0', 'B3', '0', '0', '0', 'B3', '0', '2', '0', 'B3', '0', '0', '0', 'B3', '0', '7', '0', 'B3', '0', '0', '0', 'B3', '0', '2.5', '0', 'B3', '0', '0', '0', 'B3', '0', '6.10', '0', 'B3', '0', '0', '0', 'B3', '0', '2', '0', 'B3', '0', '0', '0', 'B3', '0', '5.11', '0', '9.2', '11.2', '2.8', '4.7', 'B-5', '0', 'B3', 'B-5', 'B3', '0', 'B3', '0.5', 'B3', '0', 'B3', 'B3', 'B4', '0', 'B3', '0.3', 'B3', '0', 'B4', 'B3', 'B4', '0', 'B3', '0.3', 'B3', '0', 'B4', 'B3', 'B4', '0', 'B3', '0.3', 'B3', '0', 'B4', 'B3', 'B4', '0', 'B3', '0.3', 'B3', '0', 'B3', 'B3', 'B4', '0', 'B3', '0.3', 'B3', '0', 'B3', 'B3', 'B3', '0', 'B3', '0.3.5', 'B3', '0', 'B3', 'B-4', 'B3', '0.3', '8.11', '3.5.9', 'B2', 'B-5', '0', '0.5', 'B3', 'B3', 'B-4', '0', 'B3', 'B3', '0', '0', 'B3', 'B3', 'B2', '0', 'B3', 'B3', '0', '0', 'B3', 'B3', 'B2', '0', 'B3', 'B3', '0', '0', 'B3', 'B3', 'B2', '0', 'B3', 'B3', '0', '0', 'B3', 'B3', 'B2', '0', 'B3', 'B3', '0', '0', 'B3', 'B3', 'B-5', '0', 'B3', 'B3', '0', '0', 'B3', 'B3', 'B-2', '0', 'B3', 'B3', '0', '0', 'B-2', 'B-2', '5.10', '5.8.0', 'B3', '4', 'B3', 'B2', 'B3', '0', 'B3', 'B2', 'B3', 'B-3', 'B3', 'B3', 'B3', '0', 'B3', 'B3', 'B3', 'B-4', 'B4', 'B3', 'B3', '0', 'B4', 'B3', 'B3', 'B2', 'B4', 'B3', 'B3', '0', 'B3', 'B3', 'B3', 'B-4', 'B4', 'B3', 'B3', '0', 'B4', 'B3', 'B3', 'B2', 'B3', 'B3', 'B3', '0', 'B3', 'B3', 'B3', 'B-5', 'B3', 'B3', 'B3', '0', 'B3', 'B2', 'B3', 'B-5', 'B3', 'B3', 'B3', '10', '8.11', '2.8', '9.0.3', '9', '10.3', '0', '2.8', '4', '0.3', '0', '1', 'B3', '5.11', '0', '2.8', 'B-3', '0', '0', '10.0', 'B3', '10.2.5', '0', '10.2', '5.9.0', '0', '0', '0.3', 'B3', '6', '0', '2.5', 'B-4', '0', '0', '10', 'B3', '11', '0', '10.1', '6', '0', '0', '0.3', 'B3', '7.0', '0', '3', 'B-4', '0', '0', '1.5', 'B3', '2.8', '0', '10.2.5', '7', '0', '0', '0.3', 'B2', '8.0', '0', '2.8', '9', '3', '2.4', 'B3', '0', 'B3', '0', 'B3', '0', 'B3', '0', 'B3', '0', 'B3', '0', 'B3', '0', 'B4', '0', 'B4', '0', 'B3', '0', 'B3', '0', 'B4', '0', 'B4', '0', 'B3', '0', 'B3', '0', 'B4', '0', 'B4', '0', 'B3', '0', 'B3', '0', 'B4', '0', 'B4', '0', 'B3', '0', 'B3', '0', 'B4', '0', 'B3', '0', 'B3', '0', 'B3', '0', 'B3', '0', 'B3', '0', 'B3', '0', 'B3', '0', '9.1', '3.6', 'B-3', 'B-4', 'B2', '0', 'B3', 'B2', '9.0.3', '0', 'B3', 'B3', 'B3', '0', 'B3', 'B3', '9.0', '0', 'B3', 'B3', 'B3', '0', 'B3', 'B2', 'A2', '0', 'B3', 'B3', 'B3', '0', 'B3', 'B3', '9.1', '0', 'B3', 'B3', 'B3', '0', 'B3', 'B2', 'A2', '0', 'B3', 'B3', 'B3', '0', 'B3', 'B3', '9.0', '0', 'B3', 'B3', 'B3', '0', 'B3', 'A5', '9.1', '0', 'B3', 'B3', 'B3', '0', 'B-3', '5.9.0', '5.10', '3.6', 'A2', '0.3.5', 'B3', '3.9', '10.0', '0', 'B3', '0', 'B3', '0', 'B3', '7.0', 'B-3', '0', 'B3', '0', 'B3', '0', 'B4', '4.5.7.10.0', '8.0', '0', 'B4', '0', 'B3', '0', 'B4', '8.0', 'B2', '0', 'B3', '0', 'B3', '0', 'B4', '4.7', '8.0', '0', 'B4', '0', 'B3', '0', 'B4', '8', 'B2', '0', 'B3', '0', 'B3', '0', 'B3', '5.10', 'A4', '0', 'B3', '0', 'B3', '0', 'B3', '8.0', 'B-4', '10.2.5', '8.0', '2.4', 'B-2', '0.3.5', '9.0.3', '0', 'B3', '0', '0', '0', 'B3', '0', '3.7.10', '0', 'B3', '0', '0', '0', 'B3', '0', 'A5', '0', 'B3', '0', '0', '0', 'B3', '0', '3.6', '0', 'B3', '0', '0', '0', 'B3', '0', 'B-1', '0', 'B3', '0', '0', '0', 'B3', '0', '3.5.9', '0', 'B3', '0', '0', '0', 'B3', '0', '9.2', '0', 'B3', '0', '0', '0', 'B3', '0', '3.5.9', '0', 'B-2', '10.2.5', '2.8', '5', 'B-5', '0', 'B3', 'B2', 'B3', '0', 'B3', '0.5', 'B3', '0', 'B3', 'B3', 'B4', '0', 'B3', '0', 'B3', '0', 'B3', 'B3', 'B4', '0', 'B3', '0.4', 'B3', '0', 'B3', 'B3', 'B4', '0', 'B3', '0', 'B3', '0', 'B3', 'B3', 'B4', '0', 'B3', '0.4', 'B3', '0', 'B3', 'B3', 'B4', '0', 'B3', '0', 'B3', '0', 'B3', 'B3', 'B3', '0', 'B3', '10', 'B3', '0', 'B3', 'B-4', 'B3', '0.3.5', '8.0', '3', 'B2', 'B-3', '0', '0.5', 'B3', 'B3', 'B-4', '0', 'B3', 'B3', '0', '0', 'B3', 'B3', 'B-5', '0', 'B3', 'B3', '0', '0', 'B3', 'B3', 'B2', '0', 'B3', 'B3', '0', '0', 'B3', 'B3', 'B-4', '0', 'B3', 'B3', '0', '0', 'B3', 'B3', 'B-5', '0', 'B3', 'B3', '0', '0', 'B3', 'B3', 'B-4', '0', 'B3', 'B3', '0', '0', 'B3', 'B3', 'B-2', '0', 'B3', 'B3', '0', '0.3', 'B-1', 'B-2', '5', '5.8.0', 'B3', '4.5.7.10.0', 'B3', 'B2', 'B3', '0', 'B3', 'B3', 'B3', 'B-1', 'B3', 'B3', 'B3', '0', 'B3', 'B3', 'B3', 'B-5', 'B4', 'B3', 'B3', '0', 'B4', 'B3', 'B3', 'B-4', 'B3', 'B3', 'B3', '0', 'B3', 'B3', 'B3', 'B-5', 'B3', 'B3', 'B3', '0', 'B4', 'B3', 'B3', 'B-4', 'B3', 'B3', 'B3', '0', 'B3', 'B3', 'B3', 'B-5', 'B3', 'B3', 'B3', '0', 'B3', 'B3', 'B3', 'B-3', 'B3', 'B3', 'B3', '1.5', '8.0', '2.5', '9.2', '9.0.3', '2', '0', '4.5.7.10.0', '5.11', '0', '0', '10.1', 'B3', '3.5.9', '0', '3.7.10', '7.10', '0', '0', '3', 'B3', '3.5.9', '0', '4.5.7.10.0', '7.0', '0', '0', '0.4', 'B3', '4.5.7.10.0', '0', '3.6', '8', '0', '0', '2.8', 'B3', '3.7', '0', '4', '6.10', '0', '0', '0.5', 'B3', '4', '0', '3.6', '7.10.2', '0', '0', '11.2', 'B3', '5', '0', '4', '6.10', '0', '0', '0.5', 'B2', '5.8.10', '0', '2.5', '7.10.2', '3', '2.4', 'B3', '0', 'B3', '0', 'B3', '0', 'B3', '0', 'B3', '0', 'B3', '0', 'B3', '0', 'B4', '0', 'B4', '0', 'B3', '0', 'B3', '0', 'B4', '0', 'B4', '0', 'B3', '0', 'B3', '0', 'B4', '0', 'B4', '0', 'B3', '0', 'B3', '0', 'B4', '0', 'B4', '0', 'B3', '0', 'B3', '0', 'B4', '0', 'B4', '0', 'B3', '0', 'B3', '0', 'B3', '0', 'B3', '0', 'B3', '0', 'B3', '0', '9.1', '3.5', 'B-5', 'B-4', 'B2', '0', 'B3', 'B3', '9.11', '0', 'B3', 'B3', 'B3', '0', 'B3', 'B3', 'A2', '0', 'B3', 'B3', 'B3', '0', 'B3', 'B3', 'A4', '0', 'B3', 'B3', 'B3', '0', 'B3', 'B3', 'A3', '0', 'B3', 'B3', 'B3', '0', 'B3', 'B3', 'A4', '0', 'B3', 'B3', 'B3', '0', 'B3', 'B3', 'A2', '0', 'B3', 'B3', 'B3', '0', 'B3', 'B2', '9.10.0.3.5', '0', 'B3', 'B3', 'B3', '0', 'B-3', '7.0', '5', '3.5.9', 'A5', '0.3', 'B3', '4', '3', '0', 'B3', '0', 'B3', '0', 'B3', '6', '9.10.0.3.5', '0', 'B3', '0', 'B3', '0', 'B4', '5.8', 'A4', '0', 'B4', '0', 'B3', '0', 'B4', '6', 'B-3', '0', 'B3', '0', 'B3', '0', 'B4', '5.8', 'A4', '0', 'B4', '0', 'B3', '0', 'B4', '6.10', 'B-3', '0', 'B3', '0', 'B3', '0', 'B3', '5.9', 'B-1', '0', 'B3', '0', 'B3', '0', 'B3', '6.10', 'B-4', '2.5', '7.10.2', '2.4', 'B-1', '0.3.5', '3.6', '0', 'B3', '0', '0', '0', 'B3', '0', '5.9', '0', 'B3', '0', '0', '0', 'B3', '0', '2', '0', 'B3', '0', '0', '0', 'B3', '0', '5.9.0', '0', 'B3', '0', '0', '0', 'B3', '0', '11.2', '0', 'B3', '0', '0', '0', 'B3', '0', '5.8.10', '0', 'B3', '0', '0', '0', 'B3', '0', '2.8', '0', 'B3', '0', '0', '0', 'B3', '0', '5.11', '0', '9.11', '2.5', '2.8', '5', 'B-5', '0', 'B3', 'B-5', 'B3', '0', 'B3', '0.4', 'B3', '0', 'B3', 'B3', 'B3', '0', 'B3', '0.3', 'B3', '0', 'B4', 'B3', 'B4', '0', 'B3', '0.3', 'B3', '0', 'B4', 'B3', 'B4', '0', 'B3', '0.3', 'B3', '0', 'B4', 'B3', 'B4', '0', 'B3', '0.3', 'B3', '0', 'B3', 'B3', 'B4', '0', 'B3', '0.3.5', 'B3', '0', 'B3', 'B3', 'B3', '0', 'B3', '0.3.5', 'B3', '0', 'B3', 'B-4', 'B3', '0.3', '8.11', '3.5', 'B2', 'B-5', '0', '0.5', 'B3', 'B3', 'B-4', '0', 'B3', 'B3', '0', '0', 'B3', 'B3', 'B2', '0', 'B3', 'B3', '0', '0', 'B3', 'B3', 'B2', '0', 'B3', 'B3', '0', '0', 'B3', 'B3', 'B-5', '0', 'B3', 'B3', '0', '0', 'B3', 'B3', 'B2', '0', 'B3', 'B3', '0', '0', 'B3', 'B3', 'B-5', '0', 'B3', 'B3', '0', '0', 'B3', 'B3', 'B-2', '0', 'B3', 'B3', '0', '0.3', 'B-2', 'B-2', '5.10', '5.8.10', 'B3', '4', 'B3', 'B2', 'B3', '0', 'B3', 'B2', 'B3', 'B-3', 'B3', 'B3', 'B3', '0', 'B3', 'B3', 'B3', 'B-4', 'B4', 'B3', 'B3', '0', 'B4', 'B3', 'B3', 'B2', 'B4', 'B3', 'B3', '0', 'B3', 'B3', 'B3', 'B-4', 'B4', 'B3', 'B3', '0', 'B4', 'B3', 'B3', 'B2', 'B3', 'B3', 'B3', '0', 'B3', 'B3', 'B3', 'B-5', 'B3', 'B3', 'B3', '0', 'B3', 'B2', 'B3', 'B-5', 'B3', 'B3', 'B3', '1.5', '8', '2.5', '9.0.3', '9', '10.3', '0', '2.5', '4', '0.3', '0', '0.5', 'B3', '5.8.0', '0', '2.8', 'B-4', '0', '0', '10', 'B3', '11', '0', '10.1.5', '5.8.10', '0', '0', '0.3', 'B3', '6.10', '0', '2.8', 'B-4', '0', '0', '10', 'B3', '10.2.5', '0', '10.1.5', '6.10', '0', '0', '0.3', 'B3', '6', '0', '2.5', 'B-4', '0', '0', '1', 'B3', '2.8', '0', '10.3', '5.9.0', '0.3', '0', '0.3', 'B2', '8.0', '0', '3', '9', '3', '2.4', 'B3', '0', 'B3', '0', 'B3', '0', 'B3', '0', 'B3', '0', 'B3', '0', 'B3', '0', 'B4', '0', 'B4', '0', 'B3', '0', 'B3', '0', 'B4', '0', 'B4', '0', 'B3', '0', 'B3', '0', 'B4', '0', 'B4', '0', 'B3', '0', 'B3', '0', 'B4', '0', 'B4', '0', 'B3', '0', 'B3', '0', 'B4', '0', 'B3', '0', 'B3', '0', 'B3', '0', 'B3', '0', 'B3', '0', 'B3', '0', 'B3', '0', '9.1', '3.5.9', 'B-3', 'B-4', 'B3', '0', 'B3', 'B2', '9.1', '0', 'B3', 'B3', 'B3', '0', 'B3', 'B3', '9', '0', 'B3', 'B3', 'B3', '0', 'B3', 'B2', 'A2', '0', 'B3', 'B3', 'B3', '0', 'B3', 'B3', '9.0.3', '0', 'B3', 'B3', 'B3', '0', 'B3', 'B2', '9.2', '0', 'B3', 'B3', 'B3', '0', 'B3', 'B3', '9', '0', 'B3', 'B3', 'B3', '0', 'B3', 'B-1', '9.1', '0', 'B3', 'B3', 'B3', '0', 'B-3', '5.9.0', '5.10', '3.6', 'A3', '0.3.5', 'B3', '3.7.10', '10.0', '0', 'B3', '0', 'B3', '0', 'B3', '7.10', 'B-2', '0', 'B3', '0', 'B3', '0', 'B4', '4.7', '7.10.2', '0', 'B4', '0', 'B3', '0', 'B4', '8.0', 'B2', '0', 'B3', '0', 'B3', '0', 'B4', '5', '8.0', '0', 'B4', '0', 'B3', '0', 'B4', '8', 'B2', '0', 'B3', '0', 'B3', '0', 'B3', '5.10', 'A3', '0', 'B3', '0', 'B3', '0', 'B3', '8.0', 'B-4', '10.2.5', '8.0', '2.4', 'B-3', '0.3.5', '9.10.0.3.5', '0', 'B3', '0', '0', '0', 'B3', '0', '3.7.10', '0', 'B3', '0', '0', '0', 'B3', '0', 'A5', '0', 'B3', '0', '0', '0', 'B3', '0', '3.6', '0', 'B3', '0', '0', '0', 'B3', '0', 'A4', '0', 'B3', '0', '0', '0', 'B3', '0', '3', '0', 'B3', '0', '0', '0', 'B3', '0', '9.2', '0', 'B3', '0', '0', '0', 'B3', '0', '3.6', '0', 'B-2', '10.2.5', '3', '4.7', 'B-5', '0', 'B3', 'B-5', 'B3', '0', 'B3', '0.5', 'B3', '0', 'B3', 'B3', 'B3', '0', 'B3', '0.3', 'B3', '0', 'B3', 'B3', 'B4', '0', 'B3', '0.4', 'B3', '0', 'B3', 'B3', 'B4', '0', 'B3', '0.3', 'B3', '0', 'B3', 'B3', 'B4', '0', 'B3', '0.4', 'B3', '0', 'B3', 'B3', 'B4', '0', 'B3', '0.3', 'B3', '0', 'B3', 'B3', 'B3', '0', 'B3', '10.0', 'B3', '0', 'B3', 'B-2', 'B3', '0.3.5', '8', '3', 'B2', 'B-3', '0', '0.4', 'B3', 'B3', 'B-4', '0', 'B3', 'B3', '0', '0', 'B3', 'B3', 'B-4', '0', 'B3', 'B3', '0', '0', 'B3', 'B3', 'B2', '0', 'B3', 'B3', '0', '0', 'B3', 'B3', 'B-5', '0', 'B3', 'B3', '0', '0', 'B3', 'B3', 'B2', '0', 'B3', 'B3', '0', '0', 'B3', 'B3', 'B-4', '0', 'B3', 'B3', '0', '0', 'B3', 'B3', 'B-2', '0', 'B3', 'B3', '0', '0.3', 'B-2', 'B-2', '5', '5.8', 'B2', '4.5.7.10.0', 'B3', 'B-5', 'B3', '0', 'B3', 'B3', 'B3', 'A3', 'B3', 'B3', 'B3', '0', 'B3', 'B3', 'B3', 'B-4', 'B3', 'B3', 'B3', '0', 'B3', 'B3', 'B3', 'B-3', 'B3', 'B3', 'B3', '0', 'B3', 'B3', 'B3', 'B-4', 'B3', 'B3', 'B3', '0', 'B3', 'B3', 'B3', 'B-2', 'B3', 'B3', 'B3', '0', 'B3', 'B3', 'B3', 'B-4', 'B3', 'B3', 'B3', '0', 'B3', 'B2', 'B3', 'B-1', 'B3', 'B2', 'B3', '10', '8', '2.8', '9.11', '9.0', '3.7', '0', '4.5.7.10.0', '5.7', '0.3', '0', '10.2.5', 'B3', '5.11', '0', '3.9', '7.0', '0', '0', '4', 'B3', '5.8.10', '0', '4.7', '6.10', '0', '0', '10', 'B3', '6.10', '0', '3.5', '8.11', '0', '0', '3.9', 'B3', '5.9', '0', '4.5.7.10.0', '7', '0', '0', '1.5', 'B3', '6', '0', '3.5.9', '8', '0', '0', '2.8', 'B3', '6', '0', '4.5.7.10.0', '6.10', '0.3', '0', '1.5', 'B2', '7', '0', '3.5', '8', '3', '2.8', 'B3', '0', 'B3', '0', 'B3', '0', 'B3', '0', 'B3', '0', 'B3', '0', 'B3', '0', 'B3', '0', 'B3', '0', 'B3', '0', 'B3', '0', 'B3', '0', 'B3', '0', 'B3', '0', 'B3', '0', 'B3', '0', 'B3', '0', 'B3', '0', 'B3', '0', 'B3', '0', 'B3', '0', 'B3', '0', 'B3', '0', 'B3', '0', 'B3', '0', 'B3', '0', 'B3', '0', 'B3', '0', 'B3', '0', 'B3', '0', 'B2', '0.3', '9', '3.5.9', 'B-2', 'B-2', 'B-4', '0', 'B3', 'B2', '9.11', '0', 'B3', 'B3', 'B3', '0', 'B3', 'B2', '9.2', '0', 'B3', 'B3', 'B3', '0', 'B3', 'B2', 'A4', '0', 'B3', 'B3', 'B3', '0', 'B3', 'B2', 'A2', '0', 'B3', 'B3', 'B3', '0', 'B3', 'B2', 'A3', '0', 'B3', 'B3', 'B3', '0', 'B3', 'B2', '9.2', '0', 'B3', 'B3', 'B3', '0', 'B3', 'B-3', '9.0.3', '0', 'B-5', 'B3', 'B2', '0', 'A5', '5.9', '5.10', '3.7', 'A2', '0.4', 'B3', '4.5.7.10.0', '4', '0.3', 'B3', '0', 'B3', '0', 'B3', '5.9.0', '9', '0.3', 'B3', '0', 'B3', '0', 'B3', '5.8', 'A2', '0', 'B3', '0', 'B3', '0', 'B3', '6.10', 'A3', '0.3', 'B3', '0', 'B3', '0', 'B3', '5.8.0', '9.11', '0', 'B3', '0', 'B3', '0', 'B3', '6.10', 'A4', '0.3', 'B3', '0', 'B3', '0', 'B3', '6', 'A4', '0.3', 'B3', '0', 'B3', '0', 'B3', '5.9.0', 'B-1', '3.6', '7', '2.8', '9.2', '0.5', '3.7', '0', 'B2', '0', '0.3.5', '0', 'B3', '0', '5.8.10', '0', 'B2', '0', '0', '0', 'B3', '0', '2.5', '0', 'B3', '0', '0', '0', 'B3', '0', '5.9', '0', 'B3', '0', '0', '0', 'B3', '0', '2', '0', 'B3', '0', '0', '0', 'B3', '0', '5.9.0', '0', 'B3', '0', '0', '0', 'B3', '0', '3', '0', 'B3', '0', '0.3.5', '0', 'B-5', '0.3.5', '5.10', '0', '9.0.3', '3.5', '3.5', '5', 'B-2', '0.3', 'B3', 'A3', 'B3', '0', 'B3', '10.0', 'B3', '0', 'B3', 'B-4', 'B3', '0', 'B3', '0.5', 'B3', '0', 'B3', 'B-5', 'B3', '0', 'B3', '0.5', 'B3', '0', 'B3', 'B-5', 'B3', '0', 'B3', '0.5', 'B3', '0', 'B3', 'B-5', 'B3', '0', 'B3', '0.5', 'B3', '0', 'B3', 'B-5', 'B3', '0', 'B3', '0.5', 'B3', '0', 'B3', 'B-3', 'B3', '0', 'B3', '1.5', 'B3', '0', 'B3', '9.10.0.3.5', 'B2', '0.5', '7.0', '3.7', 'B-4', 'A4', '0.3', '1', 'B3', 'B3', 'B-1', '0', 'B3', 'B3', '0', '0', 'B3', 'B3', 'B-4', '0', 'B3', 'B3', '0', '0', 'B3', 'B3', 'B-4', '0', 'B3', 'B3', '0', '0', 'B3', 'B3', 'B-4', '0', 'B3', 'B3', '0', '0', 'B3', 'B3', 'B-5', '0', 'B3', 'B3', '0', '0', 'B3', 'B3', 'B-4', '0', 'B3', 'B3', '0', '0', 'B3', 'B3', 'B-1', '0', 'B3', 'B-5', '0.3', '0.3.5', 'A4', 'A2', '5.11', '5.7', 'B-2', '4.5.7.10.0', 'B3', 'A4', 'B-5', '0.3', 'B3', 'A4', 'B3', '9.1', 'B3', 'B2', 'B3', '0', 'B3', 'B-5', 'B3', '9.11', 'B3', 'B3', 'B3', '0', 'B3', 'B-2', 'B3', 'A3', 'B3', 'B2', 'B3', '0', 'B3', 'B-5', 'B3', '9.10.0.3.5', 'B3', 'B2', 'B3', '0', 'B3', 'B-2', 'B3', 'A4', 'B3', 'B3', 'B3', '0', 'B3', 'B-5', 'B3', '9.11', 'B3', 'B2', 'B3', '0', 'B3', 'A2', 'B3', '9.2', 'B3', 'B-2', 'B-3', '11.0', '6', '3.7', '7.10.2', '7.10', '5.10', '0.3.5', '3.5.9', '3.9', '10.2', '0.3', '11.0', 'B-4', '9.2', '0', '3.7.10', '9.0', '0.5', '0', '11.2', 'B-5', '7.10', '0', '11.2', '5.8.0', '10', '0', '10.0', 'B2', 'A4', '0', '3.9', '9.1', '0.5', '0', '2.4', 'B-5', '7.0', '0', '11.0', '5.7', '10', '0', '10', 'B2', 'A4', '0', '3.7.10', '9.1', '0.5', '0', '11.2', 'B-4', '7.0', '0', '2.8', '5.8.0', '10.0.4', '0', '10.0', 'A5', '9.0.3', '0.3.5', '3.7.10', '7.0', '3.7', '4', 'A5', '10.2', 'B-3', '1', 'B2', '0.3', 'B3', '0.3.5', 'B3', '0.3', 'B2', '0', 'B3', '0', 'B3', '0.3', 'B3', '0', 'B3', '0', 'B3', '0', 'B3', '0', 'B3', '0', 'B3', '0', 'B3', '0', 'B3', '0.3', 'B3', '0', 'B3', '0', 'B3', '0', 'B3', '0', 'B3', '0', 'B3', '0', 'B3', '0', 'B3', '0.3', 'B3', '0', 'B2', '0', 'B3', '0', 'B3', '0.3.5', 'B3', '0.3.5', 'B-2', '0.5', 'A3', '10.1.5', '6', '4', '7.10', '6.10', '9.10.0.3.5', '1', 'B-1', '5.11', '9.0', '0.3.5', '9.2', 'A4', 'B-2', '0.3', 'B-3', '3.6', '9.10.0.3.5', '0.3', 'A4', 'A5', 'B-4', '0', 'B-4', '2.5', '9.2', '0', 'A5', 'B-3', 'B-3', '0', 'B-3', '2.5', '9.10.0.3.5', '0.3', 'A4', 'A5', 'B-4', '0', 'B-5', '3', '9.2', '0.3', 'B-1', 'B-3', 'B-3', '0', 'B-3', '3', '9.11', '0.3', 'A4', 'A4', 'B-3', '0', 'B-2', '2.4', '9.0', '0.3.5', '9.11', 'A3', '9.10.0.3.5', '0.5', '7.0', '3', '5.7', '5', '5.11', '4', '7.0', '4', '5', '4.5.7.10.0', '9.1', '3.7', '5.9', '2.8', '9.0', '3.9', '5.8.0', '3.9', '9.10.0.3.5', '3.7', '5.9.0', '2.4', '9.1', '3.9', '5.8.0', '3.9', '9.2', '3.6', '5.9.0', '2.4', '9.10.0.3.5', '3.9', '5.8.10', '3.7.10', '9.11', '3.7', '5.9.0', '2.4', '9.0.3', '3.9', '5.8.0', '3.9', 'A2', '3.5.9', '6', '2', '9.10.0.3.5', '3.9', '5.8.10', '3.9', '9.11', '3.6', '5.9.0', '2.5', '9.0', '4', '5.8.0', '4', '9.0.3', '3.7', '5.8.0', '3.5', '7.10', '4.7', '5.8.10', '4.7', '5.11']\n"
          ],
          "name": "stdout"
        },
        {
          "output_type": "stream",
          "text": [
            "/usr/local/lib/python3.7/dist-packages/torch/tensor.py:474: UserWarning: non-inplace resize is deprecated\n",
            "  warnings.warn(\"non-inplace resize is deprecated\")\n"
          ],
          "name": "stderr"
        }
      ]
    },
    {
      "cell_type": "markdown",
      "metadata": {
        "id": "rHnde72CLQ9B"
      },
      "source": [
        "# Export"
      ]
    },
    {
      "cell_type": "code",
      "metadata": {
        "id": "6zovNZmXLV5Q",
        "outputId": "fa5f76d8-8e85-447d-d350-260104481082",
        "colab": {
          "base_uri": "https://localhost:8080/"
        }
      },
      "source": [
        "#tracing\n",
        "\n",
        "traced_model = torch.jit.trace(gen.cuda(), fixed_noise)\n",
        "traced_model.save('gen.zip')"
      ],
      "execution_count": 30,
      "outputs": [
        {
          "output_type": "stream",
          "text": [
            "/usr/local/lib/python3.7/dist-packages/torch/jit/_trace.py:966: TracerWarning: Output nr 1. of the traced function does not match the corresponding output of the Python function. Detailed error:\n",
            "With rtol=1e-05 and atol=1e-05, found 118703 element(s) (out of 131072) whose difference(s) exceeded the margin of error (including 0 nan comparisons). The greatest difference was 0.20057490468025208 (0.6767550706863403 vs. 0.47618016600608826), which occurred at index (18, 0, 39, 13).\n",
            "  _module_class,\n"
          ],
          "name": "stderr"
        }
      ]
    },
    {
      "cell_type": "code",
      "metadata": {
        "id": "JCKGC7whLiLf",
        "outputId": "1e0aa3ee-d40e-4007-d0e2-e82e6fefb33e",
        "colab": {
          "base_uri": "https://localhost:8080/"
        }
      },
      "source": [
        "loaded_model = torch.jit.load('gen.zip')\n",
        "loaded_model.eval()"
      ],
      "execution_count": 32,
      "outputs": [
        {
          "output_type": "execute_result",
          "data": {
            "text/plain": [
              "RecursiveScriptModule(\n",
              "  original_name=Generator\n",
              "  (dropout): RecursiveScriptModule(original_name=Dropout)\n",
              "  (net): RecursiveScriptModule(\n",
              "    original_name=Sequential\n",
              "    (0): RecursiveScriptModule(\n",
              "      original_name=Sequential\n",
              "      (0): RecursiveScriptModule(original_name=ConvTranspose2d)\n",
              "      (1): RecursiveScriptModule(original_name=ReLU)\n",
              "    )\n",
              "    (1): RecursiveScriptModule(\n",
              "      original_name=Sequential\n",
              "      (0): RecursiveScriptModule(original_name=ConvTranspose2d)\n",
              "      (1): RecursiveScriptModule(original_name=ReLU)\n",
              "    )\n",
              "    (2): RecursiveScriptModule(\n",
              "      original_name=Sequential\n",
              "      (0): RecursiveScriptModule(original_name=ConvTranspose2d)\n",
              "      (1): RecursiveScriptModule(original_name=ReLU)\n",
              "    )\n",
              "    (3): RecursiveScriptModule(\n",
              "      original_name=Sequential\n",
              "      (0): RecursiveScriptModule(original_name=ConvTranspose2d)\n",
              "      (1): RecursiveScriptModule(original_name=ReLU)\n",
              "    )\n",
              "    (4): RecursiveScriptModule(original_name=ConvTranspose2d)\n",
              "    (5): RecursiveScriptModule(original_name=Tanh)\n",
              "  )\n",
              ")"
            ]
          },
          "metadata": {
            "tags": []
          },
          "execution_count": 32
        }
      ]
    }
  ]
}