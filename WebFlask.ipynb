{
  "nbformat": 4,
  "nbformat_minor": 0,
  "metadata": {
    "colab": {
      "name": "WebFlask.ipynb",
      "provenance": []
    },
    "kernelspec": {
      "name": "python3",
      "display_name": "Python 3"
    },
    "language_info": {
      "name": "python"
    },
    "accelerator": "GPU"
  },
  "cells": [
    {
      "cell_type": "markdown",
      "metadata": {
        "id": "dxpU1580DP4m"
      },
      "source": [
        "Link del Modelo:\n",
        "[https://drive.google.com/file/d/1ht8KFE5BXdcv87D90K5eC6yVuOv3IIq6/view?usp=sharing](https://)"
      ]
    },
    {
      "cell_type": "code",
      "metadata": {
        "colab": {
          "base_uri": "https://localhost:8080/"
        },
        "id": "YcSYqqfyjdOm",
        "outputId": "93fabd25-68cb-41fa-edb4-56bee98a6185"
      },
      "source": [
        "from google.colab import drive\n",
        "drive.mount('/content/drive')"
      ],
      "execution_count": 1,
      "outputs": [
        {
          "output_type": "stream",
          "text": [
            "Mounted at /content/drive\n"
          ],
          "name": "stdout"
        }
      ]
    },
    {
      "cell_type": "code",
      "metadata": {
        "colab": {
          "base_uri": "https://localhost:8080/"
        },
        "id": "NPEwMKGzjevL",
        "outputId": "97700b87-ba2a-4819-ec35-23794b41cd73"
      },
      "source": [
        "!pip install flask-ngrok"
      ],
      "execution_count": 2,
      "outputs": [
        {
          "output_type": "stream",
          "text": [
            "Collecting flask-ngrok\n",
            "  Downloading https://files.pythonhosted.org/packages/af/6c/f54cb686ad1129e27d125d182f90f52b32f284e6c8df58c1bae54fa1adbc/flask_ngrok-0.0.25-py3-none-any.whl\n",
            "Requirement already satisfied: requests in /usr/local/lib/python3.7/dist-packages (from flask-ngrok) (2.23.0)\n",
            "Requirement already satisfied: Flask>=0.8 in /usr/local/lib/python3.7/dist-packages (from flask-ngrok) (1.1.4)\n",
            "Requirement already satisfied: idna<3,>=2.5 in /usr/local/lib/python3.7/dist-packages (from requests->flask-ngrok) (2.10)\n",
            "Requirement already satisfied: chardet<4,>=3.0.2 in /usr/local/lib/python3.7/dist-packages (from requests->flask-ngrok) (3.0.4)\n",
            "Requirement already satisfied: certifi>=2017.4.17 in /usr/local/lib/python3.7/dist-packages (from requests->flask-ngrok) (2021.5.30)\n",
            "Requirement already satisfied: urllib3!=1.25.0,!=1.25.1,<1.26,>=1.21.1 in /usr/local/lib/python3.7/dist-packages (from requests->flask-ngrok) (1.24.3)\n",
            "Requirement already satisfied: click<8.0,>=5.1 in /usr/local/lib/python3.7/dist-packages (from Flask>=0.8->flask-ngrok) (7.1.2)\n",
            "Requirement already satisfied: Jinja2<3.0,>=2.10.1 in /usr/local/lib/python3.7/dist-packages (from Flask>=0.8->flask-ngrok) (2.11.3)\n",
            "Requirement already satisfied: itsdangerous<2.0,>=0.24 in /usr/local/lib/python3.7/dist-packages (from Flask>=0.8->flask-ngrok) (1.1.0)\n",
            "Requirement already satisfied: Werkzeug<2.0,>=0.15 in /usr/local/lib/python3.7/dist-packages (from Flask>=0.8->flask-ngrok) (1.0.1)\n",
            "Requirement already satisfied: MarkupSafe>=0.23 in /usr/local/lib/python3.7/dist-packages (from Jinja2<3.0,>=2.10.1->Flask>=0.8->flask-ngrok) (2.0.1)\n",
            "Installing collected packages: flask-ngrok\n",
            "Successfully installed flask-ngrok-0.0.25\n"
          ],
          "name": "stdout"
        }
      ]
    },
    {
      "cell_type": "code",
      "metadata": {
        "id": "EXMmk9KOExZ4"
      },
      "source": [
        "import os\n",
        "import tarfile\n",
        "tar = tarfile.open('/content/drive/MyDrive/Proyect_Music/midi.tar', 'r:')\n",
        "tar.extractall()\n",
        "tar.close()\n",
        "#Comprobar las carpetas\n",
        "os.listdir()\n",
        "\n",
        "def all_notes():\n",
        "    #Obtiene las notas de los archivos midi\n",
        "    dicc = []\n",
        "    for file in glob.glob(\"/content/midi/*.mid\"):\n",
        "      midi = converter.parse(file)\n",
        "    for element in midi.recurse():\n",
        "        if isinstance(element, note.Note):\n",
        "          dicc.append(str(element.pitch)) #Obtiene el tono de la nota\n",
        "        elif isinstance(element, chord.Chord):\n",
        "          dicc.append('.'.join(str(n) for n in element.normalOrder))\n",
        "    # Obtiene el nombre de los tonos\n",
        "    pitchnames = sorted(set(item for item in dicc))\n",
        "    # Crea un diccionario de tonos y numeros enteros\n",
        "    note_to_int = dict((note, number) for number, note in enumerate(pitchnames))\n",
        "    return note_to_int\n",
        "  \n",
        "def create_midi(prediction_output, idx):\n",
        "    offset = 0\n",
        "    output_notes = []\n",
        "    for item in prediction_output:\n",
        "        pattern = item[0]\n",
        "        if ('.' in pattern) or pattern.isdigit():\n",
        "            notes_in_chord = pattern.split('.')\n",
        "            notes = []\n",
        "            for current_note in notes_in_chord:\n",
        "                new_note = note.Note(int(current_note))\n",
        "                new_note.storedInstrument = instrument.Piano()\n",
        "                notes.append(new_note)\n",
        "            new_chord = chord.Chord(notes)\n",
        "            new_chord.offset = offset\n",
        "            output_notes.append(new_chord)\n",
        "        else:\n",
        "            new_note = note.Note(pattern)\n",
        "            new_note.offset = offset\n",
        "            new_note.storedInstrument = instrument.Piano()\n",
        "            output_notes.append(new_note)\n",
        "        offset += 0.5\n",
        "    midi_stream = stream.Stream(output_notes)\n",
        "    midi_stream.write('midi', fp='gan{}.mid'.format(idx))\n",
        "\n",
        "def generate(preds):\n",
        "        idx = 0\n",
        "        dicc = all_notes()\n",
        "        pitchnames = dicc.keys()\n",
        "        print(\"len pitchnames\", len(pitchnames))\n",
        "        int_to_note = dict((number, note) for number, note in enumerate(pitchnames))\n",
        "        #fake = gen(fixed_noise)\n",
        "        fake = preds\n",
        "        fake = fake[0].resize(1, 64*64)\n",
        "        print(\"fake\", fake[0,100:200])\n",
        "        pred_notes = fake[0]*34+34\n",
        "        print(\"pred desnorm\", pred_notes[100:200])\n",
        "        pred_notes = [int_to_note[int(x)] for x in pred_notes]\n",
        "        print(\"pred int\", pred_notes)\n",
        "        create_midi(pred_notes, idx)"
      ],
      "execution_count": 10,
      "outputs": []
    },
    {
      "cell_type": "code",
      "metadata": {
        "colab": {
          "base_uri": "https://localhost:8080/"
        },
        "id": "1GIG3oyKje85",
        "outputId": "2025c9d3-692c-4629-8c87-e0927e96d45c"
      },
      "source": [
        "from flask import Flask, request, jsonify\n",
        "from flask_ngrok import run_with_ngrok\n",
        "import torch\n",
        "\n",
        "app = Flask(__name__)\n",
        "run_with_ngrok(app)\n",
        "\n",
        "device = torch.device(\"cuda\" if torch.cuda.is_available() else \"cpu\")\n",
        "model = torch.jit.load('/content/drive/MyDrive/Proyect_Music/gen.zip')\n",
        "\n",
        "@app.route(\"/\", methods=['GET','POST'])\n",
        "def predict():\n",
        "    preds = model(torch.randn(3, 100, 1, 1).to(device))\n",
        "    generate(preds)\n",
        "    return \"\"\"\n",
        "        <!doctype html>\n",
        "          <head><title>Music GAN</title></head>\n",
        "          <body>\n",
        "            <div>\n",
        "              <a href=\"gan0.mid\" download=\"DCGANmusic.mid\">Descargar el audio generado</a>\n",
        "            </div>\n",
        "          </body>\n",
        "        </html>\n",
        "        \"\"\"\n",
        "\n",
        "@app.route('/hola', methods=['GET','POST'])\n",
        "def hello_world():\n",
        "    return jsonify('Bienvenido')\n",
        "\n",
        "if __name__ == \"__main__\":\n",
        "    app.run()"
      ],
      "execution_count": 12,
      "outputs": [
        {
          "output_type": "stream",
          "text": [
            " * Serving Flask app \"__main__\" (lazy loading)\n",
            " * Environment: production\n",
            "\u001b[31m   WARNING: This is a development server. Do not use it in a production deployment.\u001b[0m\n",
            "\u001b[2m   Use a production WSGI server instead.\u001b[0m\n",
            " * Debug mode: off\n"
          ],
          "name": "stdout"
        },
        {
          "output_type": "stream",
          "text": [
            " * Running on http://127.0.0.1:5000/ (Press CTRL+C to quit)\n"
          ],
          "name": "stderr"
        },
        {
          "output_type": "stream",
          "text": [
            " * Running on http://08c356f42280.ngrok.io\n",
            " * Traffic stats available on http://127.0.0.1:4040\n"
          ],
          "name": "stdout"
        },
        {
          "output_type": "stream",
          "text": [
            "127.0.0.1 - - [16/Jun/2021 18:54:08] \"\u001b[31m\u001b[1mGET / HTTP/1.1\u001b[0m\" 405 -\n",
            "127.0.0.1 - - [16/Jun/2021 18:54:09] \"\u001b[33mGET /favicon.ico HTTP/1.1\u001b[0m\" 404 -\n",
            "127.0.0.1 - - [16/Jun/2021 18:54:10] \"\u001b[31m\u001b[1mGET / HTTP/1.1\u001b[0m\" 405 -\n"
          ],
          "name": "stderr"
        }
      ]
    },
    {
      "cell_type": "code",
      "metadata": {
        "colab": {
          "base_uri": "https://localhost:8080/"
        },
        "id": "QIPGQWzLk8WK",
        "outputId": "16259d67-54b3-44fd-cba8-d6a56faa2afc"
      },
      "source": [
        "device = torch.device(\"cuda\" if torch.cuda.is_available() else \"cpu\")\n",
        "model = torch.jit.load('/content/drive/MyDrive/Proyect_Music/gen.zip')\n",
        "print(model)\n",
        "preds = model(torch.randn(3, 100, 1, 1).to(device))\n",
        "print(preds)"
      ],
      "execution_count": 7,
      "outputs": [
        {
          "output_type": "stream",
          "text": [
            "RecursiveScriptModule(\n",
            "  original_name=Generator\n",
            "  (dropout): RecursiveScriptModule(original_name=Dropout)\n",
            "  (net): RecursiveScriptModule(\n",
            "    original_name=Sequential\n",
            "    (0): RecursiveScriptModule(\n",
            "      original_name=Sequential\n",
            "      (0): RecursiveScriptModule(original_name=ConvTranspose2d)\n",
            "      (1): RecursiveScriptModule(original_name=ReLU)\n",
            "    )\n",
            "    (1): RecursiveScriptModule(\n",
            "      original_name=Sequential\n",
            "      (0): RecursiveScriptModule(original_name=ConvTranspose2d)\n",
            "      (1): RecursiveScriptModule(original_name=ReLU)\n",
            "    )\n",
            "    (2): RecursiveScriptModule(\n",
            "      original_name=Sequential\n",
            "      (0): RecursiveScriptModule(original_name=ConvTranspose2d)\n",
            "      (1): RecursiveScriptModule(original_name=ReLU)\n",
            "    )\n",
            "    (3): RecursiveScriptModule(\n",
            "      original_name=Sequential\n",
            "      (0): RecursiveScriptModule(original_name=ConvTranspose2d)\n",
            "      (1): RecursiveScriptModule(original_name=ReLU)\n",
            "    )\n",
            "    (4): RecursiveScriptModule(original_name=ConvTranspose2d)\n",
            "    (5): RecursiveScriptModule(original_name=Tanh)\n",
            "  )\n",
            ")\n",
            "tensor([[[[ 0.1628,  0.1754,  0.3222,  ...,  0.1100,  0.1420,  0.1686],\n",
            "          [ 0.1758, -0.3261,  0.6932,  ...,  0.5907,  0.5614,  0.2753],\n",
            "          [ 0.3208, -0.2215,  0.6198,  ...,  0.5993,  0.8463,  0.2551],\n",
            "          ...,\n",
            "          [ 0.1818,  0.7777,  0.7036,  ...,  0.8780,  0.6038,  0.4193],\n",
            "          [ 0.2652,  0.1521,  0.7887,  ...,  0.8697,  0.9054,  0.2174],\n",
            "          [ 0.1411,  0.3066,  0.3362,  ...,  0.2547,  0.3270,  0.1085]]],\n",
            "\n",
            "\n",
            "        [[[ 0.1620,  0.1758,  0.3118,  ...,  0.1106,  0.1505,  0.1719],\n",
            "          [ 0.1748, -0.3012,  0.6532,  ...,  0.5463,  0.5448,  0.2613],\n",
            "          [ 0.3167, -0.1594,  0.5867,  ...,  0.5513,  0.7987,  0.2544],\n",
            "          ...,\n",
            "          [ 0.1701,  0.7714,  0.6958,  ...,  0.8370,  0.5523,  0.3838],\n",
            "          [ 0.2610,  0.1208,  0.7839,  ...,  0.8393,  0.8711,  0.2003],\n",
            "          [ 0.1360,  0.3013,  0.3214,  ...,  0.2449,  0.3162,  0.1201]]],\n",
            "\n",
            "\n",
            "        [[[ 0.1654,  0.1722,  0.2865,  ...,  0.1113,  0.1565,  0.1730],\n",
            "          [ 0.1704, -0.2326,  0.5934,  ...,  0.5218,  0.4915,  0.2574],\n",
            "          [ 0.2850, -0.1159,  0.5289,  ...,  0.5354,  0.7701,  0.2340],\n",
            "          ...,\n",
            "          [ 0.1752,  0.7120,  0.6304,  ...,  0.8147,  0.5548,  0.3819],\n",
            "          [ 0.2592,  0.1472,  0.7338,  ...,  0.8140,  0.8564,  0.2078],\n",
            "          [ 0.1450,  0.2812,  0.3066,  ...,  0.2491,  0.3035,  0.1199]]]],\n",
            "       device='cuda:0', grad_fn=<TanhBackward>)\n"
          ],
          "name": "stdout"
        }
      ]
    }
  ]
}