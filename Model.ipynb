{
  "nbformat": 4,
  "nbformat_minor": 0,
  "metadata": {
    "colab": {
      "name": "Proyect.ipynb",
      "provenance": [],
      "toc_visible": true
    },
    "kernelspec": {
      "name": "python3",
      "display_name": "Python 3"
    },
    "language_info": {
      "name": "python"
    },
    "accelerator": "GPU"
  },
  "cells": [
    {
      "cell_type": "markdown",
      "metadata": {
        "id": "BoVsWADhbvl5"
      },
      "source": [
        "Dataset:\n",
        "[https://drive.google.com/file/d/1yL_fysiQE9KZYP8YrRhuRx6RY1LtL14u/view?usp=sharing](Dataset)"
      ]
    },
    {
      "cell_type": "markdown",
      "metadata": {
        "id": "MMqcaKH6FMpS"
      },
      "source": [
        "# Model"
      ]
    },
    {
      "cell_type": "code",
      "metadata": {
        "id": "1s-imZEASVZL"
      },
      "source": [
        "import torch\n",
        "import torch.nn as nn"
      ],
      "execution_count": 1,
      "outputs": []
    },
    {
      "cell_type": "code",
      "metadata": {
        "id": "8P38R3ZSFK0j"
      },
      "source": [
        "class Discriminator(nn.Module):\n",
        "    def __init__(self, input_dimension, features_d):\n",
        "        super(Discriminator, self).__init__()\n",
        "        self.disc = nn.Sequential(\n",
        "            # input: N x input_dimention x 64 x 64\n",
        "            nn.Conv2d(\n",
        "                input_dimension, features_d, kernel_size=4, stride=2, padding=1\n",
        "            ),\n",
        "            nn.LeakyReLU(0.2),\n",
        "            # _block(in_channels, out_channels, kernel_size, stride, padding)\n",
        "            self._block(features_d, features_d * 2, 4, 2, 1),\n",
        "            self._block(features_d * 2, features_d * 4,4, 2, 1),\n",
        "            self._block(features_d * 4, features_d * 8, 4, 2, 1),\n",
        "            # After all _block output is 4x4 (Conv2d below makes into 1x1)\n",
        "            nn.Conv2d(features_d * 8, 1, kernel_size=4, stride=2, padding=0),\n",
        "            nn.Sigmoid(),\n",
        "        )\n",
        "\n",
        "    def _block(self, in_channels, out_channels, kernel_size, stride, padding):\n",
        "        return nn.Sequential(\n",
        "            nn.Conv2d(\n",
        "                in_channels,\n",
        "                out_channels,\n",
        "                kernel_size,\n",
        "                stride,\n",
        "                padding,\n",
        "                bias=False,\n",
        "            ),\n",
        "            #nn.BatchNorm2d(out_channels),\n",
        "            nn.LeakyReLU(0.2),\n",
        "        )\n",
        "\n",
        "    def forward(self, x):\n",
        "      return self.disc(x)"
      ],
      "execution_count": 2,
      "outputs": []
    },
    {
      "cell_type": "code",
      "metadata": {
        "id": "2Yuihf-gFK38"
      },
      "source": [
        "class Generator(nn.Module):\n",
        "  def __init__(self, channels_noise, input_dimension, features_g):\n",
        "    super(Generator, self).__init__()\n",
        "    self.dropout = nn.Dropout(p=0.5) #Valor por default\n",
        "    self.net = nn.Sequential(\n",
        "        # Input: N x channels_noise x 1 x 1\n",
        "        self._block(channels_noise, features_g * 16, 4, 1, 0),\n",
        "        self._block(features_g * 16, features_g * 8, 4, 2, 1), #1024\n",
        "        self._block(features_g * 8, features_g * 4, 4, 2, 1),\n",
        "        self._block(features_g * 4, features_g * 2, 4, 2, 1),\n",
        "        nn.ConvTranspose2d(\n",
        "            features_g * 2, input_dimension, kernel_size=4, stride=2, padding=1\n",
        "        ),\n",
        "        nn.Tanh(),\n",
        "    )\n",
        "  def _block(self, in_channels, out_channels, kernel_size, stride, padding):\n",
        "    return nn.Sequential(\n",
        "        nn.ConvTranspose2d(\n",
        "            in_channels,\n",
        "            out_channels,\n",
        "            kernel_size,\n",
        "            stride,\n",
        "            padding,\n",
        "            bias=False,\n",
        "        ),\n",
        "        nn.ReLU(),\n",
        "    )\n",
        "  def forward(self, x):\n",
        "    x = self.dropout(x)\n",
        "    return self.net(x)"
      ],
      "execution_count": 3,
      "outputs": []
    },
    {
      "cell_type": "code",
      "metadata": {
        "id": "YsXRGye0Fd90"
      },
      "source": [
        "def initialize_weights(model):\n",
        "    # Initializes weights according to the DCGAN paper\n",
        "    for m in model.modules():\n",
        "        if isinstance(m, (nn.Conv2d, nn.ConvTranspose2d, nn.BatchNorm2d)):\n",
        "            nn.init.normal_(m.weight.data, 0.0, 0.02)"
      ],
      "execution_count": 4,
      "outputs": []
    },
    {
      "cell_type": "code",
      "metadata": {
        "colab": {
          "base_uri": "https://localhost:8080/"
        },
        "id": "Y1gLehk1FeA_",
        "outputId": "1ce107af-ae73-45fb-cb6c-adb5ad5aca97"
      },
      "source": [
        "device = torch.device(\"cuda\" if torch.cuda.is_available() else \"cpu\")\n",
        "def test():\n",
        "  #Batch, channels, height, width\n",
        "  x = torch.randn((8, 1, 64, 64)).to(device)\n",
        "  # Discriminador(input_dimention, features_d)\n",
        "  disc = Discriminator(1,8).to(device)\n",
        "  print(\"disc.shape = \", disc(x).shape)\n",
        "  gen = Generator(100, 1, 8).to(device)\n",
        "  z = torch.randn((8, 100, 1, 1)).to(device)\n",
        "  print(\"gen.shape = \", gen(z).shape) #(N, in_channels, H, W)\n",
        "\n",
        "test()"
      ],
      "execution_count": null,
      "outputs": [
        {
          "output_type": "stream",
          "text": [
            "disc.shape =  torch.Size([8, 1, 1, 1])\n",
            "gen.shape =  torch.Size([8, 1, 64, 64])\n"
          ],
          "name": "stdout"
        }
      ]
    },
    {
      "cell_type": "markdown",
      "metadata": {
        "id": "c3JUJV9AFpoO"
      },
      "source": [
        "# Preprocessing"
      ]
    },
    {
      "cell_type": "code",
      "metadata": {
        "colab": {
          "base_uri": "https://localhost:8080/"
        },
        "id": "pp85bcS2FeEY",
        "outputId": "3b5ed48d-a240-4f41-ea7c-b3c117b5042f"
      },
      "source": [
        "from google.colab import drive\n",
        "drive.mount('/content/drive')"
      ],
      "execution_count": 5,
      "outputs": [
        {
          "output_type": "stream",
          "text": [
            "Mounted at /content/drive\n"
          ],
          "name": "stdout"
        }
      ]
    },
    {
      "cell_type": "code",
      "metadata": {
        "colab": {
          "base_uri": "https://localhost:8080/"
        },
        "id": "SlmDLO-MF7kn",
        "outputId": "c73e3a68-59c6-4c66-f311-109f6dfa7a00"
      },
      "source": [
        "import os\n",
        "\n",
        "#Descomprimir\n",
        "import tarfile\n",
        "tar = tarfile.open('/content/drive/MyDrive/midi.tar', 'r:')\n",
        "tar.extractall()\n",
        "tar.close()\n",
        "\n",
        "#Comprobar las carpetas\n",
        "os.listdir()"
      ],
      "execution_count": 6,
      "outputs": [
        {
          "output_type": "execute_result",
          "data": {
            "text/plain": [
              "['.config', 'midi', 'drive', 'sample_data']"
            ]
          },
          "metadata": {
            "tags": []
          },
          "execution_count": 6
        }
      ]
    },
    {
      "cell_type": "code",
      "metadata": {
        "id": "aGvQ0Ga7F7oo"
      },
      "source": [
        "from music21 import *\n",
        "import glob"
      ],
      "execution_count": 7,
      "outputs": []
    },
    {
      "cell_type": "code",
      "metadata": {
        "id": "88an7MbZF7sz"
      },
      "source": [
        "class MidiDataset(torch.utils.data.Dataset):\n",
        "  def __init__(self, transform=None):\n",
        "    self.transform = transform\n",
        "    self.midi = []\n",
        "    self.diccionario = self.all_notes()\n",
        "    for file in glob.glob(\"/content/midi/*.mid\"):\n",
        "      self.midi.append(converter.parse(file))\n",
        "        \n",
        "  def __len__(self):\n",
        "    return len(self.midi)\n",
        "\n",
        "  def __getitem__(self, idx):\n",
        "    notes = []\n",
        "    val = self.midi[idx]\n",
        "    for element in val.recurse():\n",
        "      if isinstance(element, note.Note):\n",
        "        notes.append(str(element.pitch)) #Obtiene el tono de la nota\n",
        "      elif isinstance(element, chord.Chord):\n",
        "        notes.append('.'.join(str(n) for n in element.normalOrder))\n",
        "    \n",
        "    notes = self.get_notes(notes)\n",
        "    #notes = notes[notes != np.array(None)]   notes = np.asarray(notes)\n",
        "    notes = [x for x in notes if x != None]\n",
        "    if len(notes) < 4097:\n",
        "      for i in range(4096-len(notes)):\n",
        "        notes.append(notes[i])\n",
        "    notes = notes[:4096]\n",
        "\n",
        "    notes = np.asarray(notes)\n",
        "    notes = notes.reshape(64,64)\n",
        "    #print(\"dtype\", notes.dtype)\n",
        "\n",
        "    if self.transform:\n",
        "      notes = self.transform(notes)\n",
        "\n",
        "    return notes\n",
        "\n",
        "  def all_notes(self):\n",
        "    #Obtiene las notas de los archivos midi\n",
        "    dicc = []\n",
        "    for file in glob.glob(\"/content/midi/*.mid\"):\n",
        "      midi = converter.parse(file)\n",
        "    for element in midi.recurse():\n",
        "        if isinstance(element, note.Note):\n",
        "          dicc.append(str(element.pitch)) #Obtiene el tono de la nota\n",
        "        elif isinstance(element, chord.Chord):\n",
        "          dicc.append('.'.join(str(n) for n in element.normalOrder))\n",
        "    # Obtiene el nombre de los tonos\n",
        "    pitchnames = sorted(set(item for item in dicc))\n",
        "    # Crea un diccionario de tonos y numeros enteros\n",
        "    note_to_int = dict((note, number) for number, note in enumerate(pitchnames))\n",
        "    print(\"note_to_int all_notes\", note_to_int)\n",
        "    return note_to_int\n",
        "\n",
        "  def get_notes(self, tonos):\n",
        "    notes = []\n",
        "    for char in tonos:\n",
        "      notes.append(self.diccionario.get(char))\n",
        "    return notes\n"
      ],
      "execution_count": 8,
      "outputs": []
    },
    {
      "cell_type": "markdown",
      "metadata": {
        "id": "oqJbeG6IGEje"
      },
      "source": [
        "# Métrica"
      ]
    },
    {
      "cell_type": "code",
      "metadata": {
        "id": "SsUsJz8JNoJu"
      },
      "source": [
        "import torchvision.models as models\n",
        "import torch.nn.functional as F"
      ],
      "execution_count": null,
      "outputs": []
    },
    {
      "cell_type": "code",
      "metadata": {
        "id": "Kl18mOiWGG_Q"
      },
      "source": [
        "class InceptionV3(nn.Module):\n",
        "    \"\"\"Pretrained InceptionV3 network returning feature maps\"\"\"\n",
        "\n",
        "    # Index of default block of inception to return,\n",
        "    # corresponds to output of final average pooling\n",
        "    DEFAULT_BLOCK_INDEX = 3\n",
        "\n",
        "    # Maps feature dimensionality to their output blocks indices\n",
        "    BLOCK_INDEX_BY_DIM = {\n",
        "        64: 0,   # First max pooling features\n",
        "        192: 1,  # Second max pooling featurs\n",
        "        768: 2,  # Pre-aux classifier features\n",
        "        2048: 3  # Final average pooling features\n",
        "    }\n",
        "\n",
        "    def __init__(self,\n",
        "                 output_blocks=[DEFAULT_BLOCK_INDEX],\n",
        "                 resize_input=True,\n",
        "                 normalize_input=True,\n",
        "                 requires_grad=False):\n",
        "        \n",
        "        super(InceptionV3, self).__init__()\n",
        "\n",
        "        self.resize_input = resize_input\n",
        "        self.normalize_input = normalize_input\n",
        "        self.output_blocks = sorted(output_blocks)\n",
        "        self.last_needed_block = max(output_blocks)\n",
        "\n",
        "        assert self.last_needed_block <= 3, \\\n",
        "            'Last possible output block index is 3'\n",
        "\n",
        "        self.blocks = nn.ModuleList()\n",
        "\n",
        "        \n",
        "        inception = models.inception_v3(pretrained=True)\n",
        "\n",
        "        # Block 0: input to maxpool1\n",
        "        block0 = [\n",
        "            inception.Conv2d_1a_3x3,\n",
        "            inception.Conv2d_2a_3x3,\n",
        "            inception.Conv2d_2b_3x3,\n",
        "            nn.MaxPool2d(kernel_size=3, stride=2)\n",
        "        ]\n",
        "        self.blocks.append(nn.Sequential(*block0))\n",
        "\n",
        "        # Block 1: maxpool1 to maxpool2\n",
        "        if self.last_needed_block >= 1:\n",
        "            block1 = [\n",
        "                inception.Conv2d_3b_1x1,\n",
        "                inception.Conv2d_4a_3x3,\n",
        "                nn.MaxPool2d(kernel_size=3, stride=2)\n",
        "            ]\n",
        "            self.blocks.append(nn.Sequential(*block1))\n",
        "\n",
        "        # Block 2: maxpool2 to aux classifier\n",
        "        if self.last_needed_block >= 2:\n",
        "            block2 = [\n",
        "                inception.Mixed_5b,\n",
        "                inception.Mixed_5c,\n",
        "                inception.Mixed_5d,\n",
        "                inception.Mixed_6a,\n",
        "                inception.Mixed_6b,\n",
        "                inception.Mixed_6c,\n",
        "                inception.Mixed_6d,\n",
        "                inception.Mixed_6e,\n",
        "            ]\n",
        "            self.blocks.append(nn.Sequential(*block2))\n",
        "\n",
        "        # Block 3: aux classifier to final avgpool\n",
        "        if self.last_needed_block >= 3:\n",
        "            block3 = [\n",
        "                inception.Mixed_7a,\n",
        "                inception.Mixed_7b,\n",
        "                inception.Mixed_7c,\n",
        "                nn.AdaptiveAvgPool2d(output_size=(1, 1))\n",
        "            ]\n",
        "            self.blocks.append(nn.Sequential(*block3))\n",
        "\n",
        "        for param in self.parameters():\n",
        "            param.requires_grad = requires_grad\n",
        "\n",
        "    def forward(self, inp):\n",
        "        \"\"\"Get Inception feature maps\n",
        "        Parameters\n",
        "        ----------\n",
        "        inp : torch.autograd.Variable\n",
        "            Input tensor of shape Bx3xHxW. Values are expected to be in\n",
        "            range (0, 1)\n",
        "        Returns\n",
        "        -------\n",
        "        List of torch.autograd.Variable, corresponding to the selected output\n",
        "        block, sorted ascending by index\n",
        "        \"\"\"\n",
        "        outp = []\n",
        "        x = inp\n",
        "\n",
        "        if self.resize_input:\n",
        "            x = F.interpolate(x,\n",
        "                              size=(299, 299),\n",
        "                              mode='bilinear',\n",
        "                              align_corners=False)\n",
        "\n",
        "        if self.normalize_input:\n",
        "            x = 2 * x - 1  # Scale from range (0, 1) to range (-1, 1)\n",
        "\n",
        "        for idx, block in enumerate(self.blocks):\n",
        "            x = block(x)\n",
        "            if idx in self.output_blocks:\n",
        "                outp.append(x)\n",
        "\n",
        "            if idx == self.last_needed_block:\n",
        "                break\n",
        "\n",
        "        return outp\n"
      ],
      "execution_count": null,
      "outputs": []
    },
    {
      "cell_type": "code",
      "metadata": {
        "id": "Bc3AU-jWkBYp"
      },
      "source": [
        "block_idx = InceptionV3.BLOCK_INDEX_BY_DIM[2048]\n",
        "model = InceptionV3([block_idx])\n",
        "model=model.cuda()"
      ],
      "execution_count": null,
      "outputs": []
    },
    {
      "cell_type": "code",
      "metadata": {
        "id": "34HWo5YkGN6v"
      },
      "source": [
        "import numpy as np\n",
        "def calculate_activation_statistics(images,model,batch_size=128, dims=2048,\n",
        "                    cuda=False):\n",
        "    model.eval()\n",
        "    act=np.empty((len(images), dims))\n",
        "    \n",
        "    if cuda:\n",
        "        batch=images.cuda()\n",
        "    else:\n",
        "        batch=images\n",
        "    pred = model(batch)[0]\n",
        "\n",
        "        # If model output is not scalar, apply global spatial average pooling.\n",
        "        # This happens if you choose a dimensionality not equal 2048.\n",
        "    if pred.size(2) != 1 or pred.size(3) != 1:\n",
        "        pred = adaptive_avg_pool2d(pred, output_size=(1, 1))\n",
        "\n",
        "    act= pred.cpu().data.numpy().reshape(pred.size(0), -1)\n",
        "    mu = np.mean(act, axis=0)\n",
        "    sigma = np.cov(act, rowvar=False)\n",
        "    return mu, sigma"
      ],
      "execution_count": null,
      "outputs": []
    },
    {
      "cell_type": "code",
      "metadata": {
        "id": "zgvnrcPmGQ9a"
      },
      "source": [
        "def calculate_frechet_distance(mu1, sigma1, mu2, sigma2, eps=1e-6):\n",
        "    \"\"\"Numpy implementation of the Frechet Distance.\n",
        "    The Frechet distance between two multivariate Gaussians X_1 ~ N(mu_1, C_1)\n",
        "    and X_2 ~ N(mu_2, C_2) is\n",
        "            d^2 = ||mu_1 - mu_2||^2 + Tr(C_1 + C_2 - 2*sqrt(C_1*C_2)).\n",
        "    \"\"\"\n",
        "\n",
        "    mu1 = np.atleast_1d(mu1)\n",
        "    mu2 = np.atleast_1d(mu2)\n",
        "\n",
        "    sigma1 = np.atleast_2d(sigma1)\n",
        "    sigma2 = np.atleast_2d(sigma2)\n",
        "\n",
        "    assert mu1.shape == mu2.shape, \\\n",
        "        'Training and test mean vectors have different lengths'\n",
        "    assert sigma1.shape == sigma2.shape, \\\n",
        "        'Training and test covariances have different dimensions'\n",
        "\n",
        "    diff = mu1 - mu2\n",
        "\n",
        "    \n",
        "    covmean, _ = linalg.sqrtm(sigma1.dot(sigma2), disp=False)\n",
        "    if not np.isfinite(covmean).all():\n",
        "        msg = ('fid calculation produces singular product; '\n",
        "               'adding %s to diagonal of cov estimates') % eps\n",
        "        print(msg)\n",
        "        offset = np.eye(sigma1.shape[0]) * eps\n",
        "        covmean = linalg.sqrtm((sigma1 + offset).dot(sigma2 + offset))\n",
        "\n",
        "    \n",
        "    if np.iscomplexobj(covmean):\n",
        "        if not np.allclose(np.diagonal(covmean).imag, 0, atol=1e-3):\n",
        "            m = np.max(np.abs(covmean.imag))\n",
        "            raise ValueError('Imaginary component {}'.format(m))\n",
        "        covmean = covmean.real\n",
        "\n",
        "    tr_covmean = np.trace(covmean)\n",
        "\n",
        "    return (diff.dot(diff) + np.trace(sigma1) +\n",
        "            np.trace(sigma2) - 2 * tr_covmean)"
      ],
      "execution_count": null,
      "outputs": []
    },
    {
      "cell_type": "code",
      "metadata": {
        "id": "XBceiVgkGRAR"
      },
      "source": [
        "def calculate_fretchet(images_real,images_fake,model):\n",
        "     mu_1,std_1=calculate_activation_statistics(images_real,model,cuda=True)\n",
        "     mu_2,std_2=calculate_activation_statistics(images_fake,model,cuda=True)\n",
        "    \n",
        "     \"\"\"get fretched distance\"\"\"\n",
        "     fid_value = calculate_frechet_distance(mu_1, std_1, mu_2, std_2)\n",
        "     return fid_value"
      ],
      "execution_count": null,
      "outputs": []
    },
    {
      "cell_type": "markdown",
      "metadata": {
        "id": "pALeXbQqG_ia"
      },
      "source": [
        "# Training"
      ]
    },
    {
      "cell_type": "code",
      "metadata": {
        "id": "aRbw0mchHFjj"
      },
      "source": [
        "import torch.optim as optim\n",
        "import torchvision\n",
        "import torchvision.transforms as transforms\n",
        "from torch.utils.data import DataLoader\n",
        "import numpy as np"
      ],
      "execution_count": 31,
      "outputs": []
    },
    {
      "cell_type": "code",
      "metadata": {
        "id": "HgNbv3fPlobS"
      },
      "source": [
        "torch.cuda.empty_cache()"
      ],
      "execution_count": 10,
      "outputs": []
    },
    {
      "cell_type": "code",
      "metadata": {
        "id": "UYHQeDVaHcBj"
      },
      "source": [
        "# Hyperparameters etc.\n",
        "device = torch.device(\"cuda\" if torch.cuda.is_available() else \"cpu\")\n",
        "learning_rate = 2e-4\n",
        "batch_size = 128\n",
        "dimension = 1\n",
        "noise_dim = 100\n",
        "num_epochs = 5\n",
        "features_dic = 64\n",
        "features_gen = 64"
      ],
      "execution_count": 11,
      "outputs": []
    },
    {
      "cell_type": "code",
      "metadata": {
        "id": "MNawp_AmHcE6"
      },
      "source": [
        "def get_transform():\n",
        "    transforms_midi = []\n",
        "    transforms_midi.append(transforms.ToTensor())\n",
        "    return transforms.Compose(transforms_midi)"
      ],
      "execution_count": 12,
      "outputs": []
    },
    {
      "cell_type": "code",
      "metadata": {
        "id": "Y0ExE5bE72If",
        "colab": {
          "base_uri": "https://localhost:8080/"
        },
        "outputId": "fd3040ec-c719-4df4-883f-4bed9bf2e04c"
      },
      "source": [
        "dataset = MidiDataset(transform=get_transform())\n",
        "print(\"len dataset\", len(dataset))"
      ],
      "execution_count": 13,
      "outputs": [
        {
          "output_type": "stream",
          "text": [
            "note_to_int all_notes {'0': 0, '0.3.7': 1, '0.4': 2, '0.5': 3, '0.6': 4, '1': 5, '1.5.8': 6, '1.6': 7, '10': 8, '10.0': 9, '10.0.3': 10, '10.1.4': 11, '10.2': 12, '10.2.5': 13, '10.3': 14, '11': 15, '11.2': 16, '11.3.6': 17, '2': 18, '2.3.5.8.10': 19, '2.3.7': 20, '2.5': 21, '2.5.8': 22, '2.5.8.10': 23, '2.6': 24, '2.6.9': 25, '2.7': 26, '2.8': 27, '3': 28, '3.5': 29, '3.5.8': 30, '3.5.8.10': 31, '3.5.8.11': 32, '3.5.9': 33, '3.6': 34, '3.6.8': 35, '3.6.9': 36, '3.7': 37, '3.7.10': 38, '3.7.11': 39, '4': 40, '4.6': 41, '4.6.10': 42, '4.7.10.0': 43, '5': 44, '5.10': 45, '5.8': 46, '5.8.0': 47, '5.8.10': 48, '5.9.0': 49, '6': 50, '6.10': 51, '6.10.1': 52, '6.11': 53, '7': 54, '7.0': 55, '7.10': 56, '7.10.0': 57, '7.10.1.3': 58, '7.10.2': 59, '7.11': 60, '7.11.2': 61, '7.8.0': 62, '8': 63, '8.0': 64, '8.0.3': 65, '8.10': 66, '8.10.2': 67, '9': 68, '9.0.3': 69, '9.2': 70, 'A2': 71, 'A3': 72, 'A4': 73, 'A5': 74, 'A6': 75, 'B-1': 76, 'B-2': 77, 'B-3': 78, 'B-4': 79, 'B-5': 80, 'B-6': 81, 'B2': 82, 'B3': 83, 'B4': 84, 'B5': 85, 'B6': 86, 'C#3': 87, 'C#4': 88, 'C#5': 89, 'C#6': 90, 'C#7': 91, 'C2': 92, 'C3': 93, 'C4': 94, 'C5': 95, 'C6': 96, 'C7': 97, 'D2': 98, 'D3': 99, 'D4': 100, 'D5': 101, 'D6': 102, 'D7': 103, 'E-2': 104, 'E-3': 105, 'E-4': 106, 'E-5': 107, 'E-6': 108, 'E-7': 109, 'E2': 110, 'E3': 111, 'E4': 112, 'E5': 113, 'E6': 114, 'F#2': 115, 'F#3': 116, 'F#4': 117, 'F#5': 118, 'F#6': 119, 'F1': 120, 'F2': 121, 'F3': 122, 'F4': 123, 'F5': 124, 'F6': 125, 'F7': 126, 'G#1': 127, 'G#2': 128, 'G#3': 129, 'G#4': 130, 'G#5': 131, 'G#6': 132, 'G1': 133, 'G2': 134, 'G3': 135, 'G4': 136, 'G5': 137, 'G6': 138}\n",
            "len dataset 328\n"
          ],
          "name": "stdout"
        }
      ]
    },
    {
      "cell_type": "code",
      "metadata": {
        "id": "U9rG7M6c75cE"
      },
      "source": [
        "dataloader = torch.utils.data.DataLoader(dataset, batch_size=batch_size, shuffle=True)\n",
        "gen = Generator(noise_dim, dimension, features_gen).to(device)\n",
        "disc = Discriminator(dimension, features_dic).to(device)\n",
        "initialize_weights(gen)\n",
        "initialize_weights(disc)"
      ],
      "execution_count": 14,
      "outputs": []
    },
    {
      "cell_type": "code",
      "metadata": {
        "id": "kPxwtM0UHjgx"
      },
      "source": [
        "opt_gen = optim.Adam(gen.parameters(), lr=learning_rate, betas=(0.5, 0.999))\n",
        "opt_disc = optim.Adam(disc.parameters(), lr=learning_rate, betas=(0.5, 0.999))\n",
        "criterion = nn.BCELoss()\n",
        "\n",
        "fixed_noise = torch.randn(32, noise_dim, 1, 1).to(device)\n",
        "step = 0"
      ],
      "execution_count": 15,
      "outputs": []
    },
    {
      "cell_type": "code",
      "metadata": {
        "colab": {
          "base_uri": "https://localhost:8080/"
        },
        "id": "5UQv7ylTHt5N",
        "outputId": "260c8a3b-71a5-4d08-e238-61b7c43db1e4"
      },
      "source": [
        "disc.train()"
      ],
      "execution_count": 16,
      "outputs": [
        {
          "output_type": "execute_result",
          "data": {
            "text/plain": [
              "Discriminator(\n",
              "  (disc): Sequential(\n",
              "    (0): Conv2d(1, 64, kernel_size=(4, 4), stride=(2, 2), padding=(1, 1))\n",
              "    (1): LeakyReLU(negative_slope=0.2)\n",
              "    (2): Sequential(\n",
              "      (0): Conv2d(64, 128, kernel_size=(4, 4), stride=(2, 2), padding=(1, 1), bias=False)\n",
              "      (1): LeakyReLU(negative_slope=0.2)\n",
              "    )\n",
              "    (3): Sequential(\n",
              "      (0): Conv2d(128, 256, kernel_size=(4, 4), stride=(2, 2), padding=(1, 1), bias=False)\n",
              "      (1): LeakyReLU(negative_slope=0.2)\n",
              "    )\n",
              "    (4): Sequential(\n",
              "      (0): Conv2d(256, 512, kernel_size=(4, 4), stride=(2, 2), padding=(1, 1), bias=False)\n",
              "      (1): LeakyReLU(negative_slope=0.2)\n",
              "    )\n",
              "    (5): Conv2d(512, 1, kernel_size=(4, 4), stride=(2, 2))\n",
              "    (6): Sigmoid()\n",
              "  )\n",
              ")"
            ]
          },
          "metadata": {
            "tags": []
          },
          "execution_count": 16
        }
      ]
    },
    {
      "cell_type": "code",
      "metadata": {
        "colab": {
          "base_uri": "https://localhost:8080/"
        },
        "id": "GxXy_FRYHjj_",
        "outputId": "5621fce8-6bb4-401f-fded-85238021ac38"
      },
      "source": [
        "gen.train()"
      ],
      "execution_count": 17,
      "outputs": [
        {
          "output_type": "execute_result",
          "data": {
            "text/plain": [
              "Generator(\n",
              "  (dropout): Dropout(p=0.5, inplace=False)\n",
              "  (net): Sequential(\n",
              "    (0): Sequential(\n",
              "      (0): ConvTranspose2d(100, 1024, kernel_size=(4, 4), stride=(1, 1), bias=False)\n",
              "      (1): ReLU()\n",
              "    )\n",
              "    (1): Sequential(\n",
              "      (0): ConvTranspose2d(1024, 512, kernel_size=(4, 4), stride=(2, 2), padding=(1, 1), bias=False)\n",
              "      (1): ReLU()\n",
              "    )\n",
              "    (2): Sequential(\n",
              "      (0): ConvTranspose2d(512, 256, kernel_size=(4, 4), stride=(2, 2), padding=(1, 1), bias=False)\n",
              "      (1): ReLU()\n",
              "    )\n",
              "    (3): Sequential(\n",
              "      (0): ConvTranspose2d(256, 128, kernel_size=(4, 4), stride=(2, 2), padding=(1, 1), bias=False)\n",
              "      (1): ReLU()\n",
              "    )\n",
              "    (4): ConvTranspose2d(128, 1, kernel_size=(4, 4), stride=(2, 2), padding=(1, 1))\n",
              "    (5): Tanh()\n",
              "  )\n",
              ")"
            ]
          },
          "metadata": {
            "tags": []
          },
          "execution_count": 17
        }
      ]
    },
    {
      "cell_type": "code",
      "metadata": {
        "colab": {
          "base_uri": "https://localhost:8080/"
        },
        "id": "LQZcDhlvHt8a",
        "outputId": "713578cb-04f5-410a-db2f-403a53778329"
      },
      "source": [
        "list_loss_disc = []\n",
        "list_loss_gen = []\n",
        "for epoch in range(num_epochs):\n",
        "  for batch_idx, real in enumerate(dataloader):\n",
        "    #print(\"real dtype\", real.dtype)\n",
        "    real = real.to(device)\n",
        "    noise = torch.randn(batch_size, noise_dim, 1, 1).to(device)\n",
        "    fake = gen(noise)\n",
        "\n",
        "    #El modelo Inception está entrenado para manejar 3 canales\n",
        "    #real_inception = torch.cat((real, real, real),1)\n",
        "    #fake_inception = torch.cat((fake, fake, fake),1)\n",
        "\n",
        "    ### Train Discriminator: max log(D(x)) + log(1 - D(G(z)))\n",
        "    disc_real = disc(real.float()).reshape(-1)\n",
        "    loss_disc_real = criterion(disc_real, torch.ones_like(disc_real))\n",
        "    disc_fake = disc(fake.detach()).reshape(-1)\n",
        "    loss_disc_fake = criterion(disc_fake, torch.zeros_like(disc_fake))\n",
        "    loss_disc = (loss_disc_real + loss_disc_fake) / 2\n",
        "    disc.zero_grad()\n",
        "    loss_disc.backward()\n",
        "    opt_disc.step()\n",
        "\n",
        "    ### Train Generator: min log(1 - D(G(z))) <-> max log(D(G(z))\n",
        "    output = disc(fake).reshape(-1)\n",
        "    loss_gen = criterion(output, torch.ones_like(output))\n",
        "    gen.zero_grad()\n",
        "    loss_gen.backward()\n",
        "    opt_gen.step()\n",
        "\n",
        "    # Print losses occasionally and print to tensorboard\n",
        "    if batch_idx % 10 == 0:\n",
        "      list_loss_disc.append(loss_disc)\n",
        "      list_loss_gen.append(loss_gen)\n",
        "      #fretchet_dist=calculate_fretchet(real_inception,fake_inception,model)   #Calcula la métrica\n",
        "      print(\n",
        "        f\"Epoch [{epoch}/{num_epochs}] Batch {batch_idx}/{len(dataloader)} \\\n",
        "        Loss D: {loss_disc:.4f}, loss G: {loss_gen:.4f}\"\n",
        "        )\n",
        "      #, Fretchet_Distance: {fretchet_dist:.4f}\n",
        "\n",
        "      with torch.no_grad():\n",
        "        new = gen(fixed_noise)\n",
        "        #generate(dicc, epoch)\n",
        "      step += 1"
      ],
      "execution_count": 18,
      "outputs": [
        {
          "output_type": "stream",
          "text": [
            "Epoch [0/5] Batch 0/3         Loss D: 0.4211, loss G: 0.6600\n",
            "Epoch [1/5] Batch 0/3         Loss D: 0.2276, loss G: 1.4206\n",
            "Epoch [2/5] Batch 0/3         Loss D: 0.0307, loss G: 3.8698\n",
            "Epoch [3/5] Batch 0/3         Loss D: 0.0195, loss G: 2.8767\n",
            "Epoch [4/5] Batch 0/3         Loss D: 0.0156, loss G: 4.0731\n"
          ],
          "name": "stdout"
        }
      ]
    },
    {
      "cell_type": "code",
      "metadata": {
        "id": "vGmZPhIRs8nV"
      },
      "source": [
        "#fretchet_dist=calculate_fretchet(real_inception,fake_inception,model)"
      ],
      "execution_count": null,
      "outputs": []
    },
    {
      "cell_type": "code",
      "metadata": {
        "colab": {
          "base_uri": "https://localhost:8080/",
          "height": 294
        },
        "id": "obOQBt3HHt-_",
        "outputId": "e52a6776-4435-4c95-9aac-cfa144f1623a"
      },
      "source": [
        "import numpy as np\n",
        "import matplotlib.pyplot as plt\n",
        "def plot_loss():\n",
        "        plt.plot(list_loss_disc, c='red')\n",
        "        plt.plot(list_loss_gen, c='blue')\n",
        "        plt.title(\"GAN Loss per Epoch\")\n",
        "        plt.legend(['Discriminator', 'Generator'])\n",
        "        plt.xlabel('Epoch')\n",
        "        plt.ylabel('Loss')\n",
        "        #plt.savefig('GAN_Loss_per_Epoch_final.png', transparent=True)\n",
        "        plt.show()\n",
        "        #plt.close()\n",
        "plot_loss()"
      ],
      "execution_count": 19,
      "outputs": [
        {
          "output_type": "display_data",
          "data": {
            "image/png": "[encoded data removed]",
            "text/plain": [
              "<Figure size 432x288 with 1 Axes>"
            ]
          },
          "metadata": {
            "tags": [],
            "image/png": {
              "width": 385,
              "height": 277
            },
            "needs_background": "light"
          }
        }
      ]
    },
    {
      "cell_type": "markdown",
      "metadata": {
        "id": "U2dBhYn-IBkq"
      },
      "source": [
        "# Generate"
      ]
    },
    {
      "cell_type": "code",
      "metadata": {
        "id": "zPteo-7pIDRc"
      },
      "source": [
        "def create_midi(prediction_output, filename):\n",
        "    offset = 0\n",
        "    output_notes = []\n",
        "\n",
        "    for item in prediction_output:\n",
        "        pattern = item[0]\n",
        "        if ('.' in pattern) or pattern.isdigit():\n",
        "            notes_in_chord = pattern.split('.')\n",
        "            notes = []\n",
        "            for current_note in notes_in_chord:\n",
        "                new_note = note.Note(int(current_note))\n",
        "                new_note.storedInstrument = instrument.Piano()\n",
        "                notes.append(new_note)\n",
        "            new_chord = chord.Chord(notes)\n",
        "            new_chord.offset = offset\n",
        "            output_notes.append(new_chord)\n",
        "        else:\n",
        "            new_note = note.Note(pattern)\n",
        "            new_note.offset = offset\n",
        "            new_note.storedInstrument = instrument.Piano()\n",
        "            output_notes.append(new_note)\n",
        "\n",
        "        offset += 0.5\n",
        "\n",
        "    midi_stream = stream.Stream(output_notes)\n",
        "    midi_stream.write('midi', fp='{}.mid'.format(filename))"
      ],
      "execution_count": 20,
      "outputs": []
    },
    {
      "cell_type": "code",
      "metadata": {
        "id": "IU2Lcj7p8uFs"
      },
      "source": [
        "def generate(dicc):\n",
        "  pitchnames = dicc.keys()\n",
        "  print(\"len pitchnames\", len(pitchnames))\n",
        "  int_to_note = dict((number, note) for number, note in enumerate(pitchnames))\n",
        "  fixed_noise = torch.randn(32, noise_dim, 1, 1).to(device)\n",
        "  fake = gen(fixed_noise)\n",
        "  print(\"fake shape: \", fake.shape)\n",
        "  fake = fake[0].resize(1, 64*64)\n",
        "  print(\"fake\", fake[0,100:200])\n",
        "  pred_notes = fake[0]*34+34\n",
        "  print(\"pred desnorm\", pred_notes[100:200])\n",
        "  pred_notes = [int_to_note[int(x)] for x in pred_notes]\n",
        "  print(\"pred int\", pred_notes)\n",
        "      \n",
        "  create_midi(pred_notes, 'gan_final')"
      ],
      "execution_count": 21,
      "outputs": []
    },
    {
      "cell_type": "code",
      "metadata": {
        "id": "03GX44Ad8xQm",
        "colab": {
          "base_uri": "https://localhost:8080/"
        },
        "outputId": "fc0e6cc8-a851-400e-ae63-bd3406a57390"
      },
      "source": [
        "dicc = dataset.diccionario\n",
        "print(dicc)\n",
        "generate(dicc)"
      ],
      "execution_count": 22,
      "outputs": [
        {
          "output_type": "stream",
          "text": [
            "{'0': 0, '0.3.7': 1, '0.4': 2, '0.5': 3, '0.6': 4, '1': 5, '1.5.8': 6, '1.6': 7, '10': 8, '10.0': 9, '10.0.3': 10, '10.1.4': 11, '10.2': 12, '10.2.5': 13, '10.3': 14, '11': 15, '11.2': 16, '11.3.6': 17, '2': 18, '2.3.5.8.10': 19, '2.3.7': 20, '2.5': 21, '2.5.8': 22, '2.5.8.10': 23, '2.6': 24, '2.6.9': 25, '2.7': 26, '2.8': 27, '3': 28, '3.5': 29, '3.5.8': 30, '3.5.8.10': 31, '3.5.8.11': 32, '3.5.9': 33, '3.6': 34, '3.6.8': 35, '3.6.9': 36, '3.7': 37, '3.7.10': 38, '3.7.11': 39, '4': 40, '4.6': 41, '4.6.10': 42, '4.7.10.0': 43, '5': 44, '5.10': 45, '5.8': 46, '5.8.0': 47, '5.8.10': 48, '5.9.0': 49, '6': 50, '6.10': 51, '6.10.1': 52, '6.11': 53, '7': 54, '7.0': 55, '7.10': 56, '7.10.0': 57, '7.10.1.3': 58, '7.10.2': 59, '7.11': 60, '7.11.2': 61, '7.8.0': 62, '8': 63, '8.0': 64, '8.0.3': 65, '8.10': 66, '8.10.2': 67, '9': 68, '9.0.3': 69, '9.2': 70, 'A2': 71, 'A3': 72, 'A4': 73, 'A5': 74, 'A6': 75, 'B-1': 76, 'B-2': 77, 'B-3': 78, 'B-4': 79, 'B-5': 80, 'B-6': 81, 'B2': 82, 'B3': 83, 'B4': 84, 'B5': 85, 'B6': 86, 'C#3': 87, 'C#4': 88, 'C#5': 89, 'C#6': 90, 'C#7': 91, 'C2': 92, 'C3': 93, 'C4': 94, 'C5': 95, 'C6': 96, 'C7': 97, 'D2': 98, 'D3': 99, 'D4': 100, 'D5': 101, 'D6': 102, 'D7': 103, 'E-2': 104, 'E-3': 105, 'E-4': 106, 'E-5': 107, 'E-6': 108, 'E-7': 109, 'E2': 110, 'E3': 111, 'E4': 112, 'E5': 113, 'E6': 114, 'F#2': 115, 'F#3': 116, 'F#4': 117, 'F#5': 118, 'F#6': 119, 'F1': 120, 'F2': 121, 'F3': 122, 'F4': 123, 'F5': 124, 'F6': 125, 'F7': 126, 'G#1': 127, 'G#2': 128, 'G#3': 129, 'G#4': 130, 'G#5': 131, 'G#6': 132, 'G1': 133, 'G2': 134, 'G3': 135, 'G4': 136, 'G5': 137, 'G6': 138}\n",
            "len pitchnames 139\n",
            "fake shape:  torch.Size([32, 1, 64, 64])\n",
            "fake tensor([-0.9725,  0.9984,  0.9841,  0.9957, -0.9570,  0.9967,  0.9922,  0.9951,\n",
            "        -0.9750,  0.9984,  0.9844,  0.9962, -0.9627,  0.9953,  0.9878,  0.9903,\n",
            "        -0.9510,  0.9944,  0.9647,  0.9839, -0.8934,  0.9755,  0.9471,  0.9280,\n",
            "        -0.7719,  0.8471,  0.7387,  0.3013,  0.2616,  0.8438,  0.9470,  0.9579,\n",
            "         0.9468,  0.9817,  0.9944,  0.9937,  0.9863,  0.9947,  0.9984,  0.9967,\n",
            "         0.9945,  0.9980,  0.9994,  0.9987,  0.9958,  0.9983,  0.9994,  0.9987,\n",
            "         0.9963,  0.9984,  0.9996,  0.9984,  0.9959,  0.9981,  0.9994,  0.9984,\n",
            "         0.9966,  0.9984,  0.9995,  0.9985,  0.9953,  0.9981,  0.9993,  0.9986,\n",
            "         0.9964,  0.9984,  0.9996,  0.9985,  0.9958,  0.9981,  0.9993,  0.9983,\n",
            "         0.9968,  0.9984,  0.9994,  0.9984,  0.9951,  0.9970,  0.9985,  0.9968,\n",
            "         0.9918,  0.9947,  0.9982,  0.9921,  0.9813,  0.9749,  0.9777,  0.9603,\n",
            "         0.9267,  0.8564,  0.8214,  0.1795,  0.3123,  0.8318, -0.8553,  0.9942,\n",
            "         0.9777,  0.9886, -0.9768,  0.9990], device='cuda:0',\n",
            "       grad_fn=<SliceBackward>)\n",
            "pred desnorm tensor([ 0.9341, 67.9470, 67.4603, 67.8528,  1.4618, 67.8867, 67.7332, 67.8347,\n",
            "         0.8490, 67.9455, 67.4701, 67.8716,  1.2688, 67.8413, 67.5844, 67.6692,\n",
            "         1.6668, 67.8081, 66.7981, 67.4526,  3.6230, 67.1670, 66.1998, 65.5510,\n",
            "         7.7538, 62.8025, 59.1153, 44.2428, 42.8958, 62.6889, 66.1978, 66.5686,\n",
            "        66.1905, 67.3783, 67.8079, 67.7853, 67.5350, 67.8214, 67.9471, 67.8879,\n",
            "        67.8126, 67.9328, 67.9781, 67.9545, 67.8569, 67.9407, 67.9801, 67.9551,\n",
            "        67.8731, 67.9452, 67.9856, 67.9452, 67.8604, 67.9348, 67.9788, 67.9458,\n",
            "        67.8829, 67.9471, 67.9824, 67.9492, 67.8387, 67.9339, 67.9755, 67.9527,\n",
            "        67.8784, 67.9473, 67.9857, 67.9488, 67.8567, 67.9353, 67.9754, 67.9436,\n",
            "        67.8906, 67.9460, 67.9803, 67.9457, 67.8339, 67.8995, 67.9483, 67.8896,\n",
            "        67.7207, 67.8209, 67.9381, 67.7304, 67.3637, 67.1468, 67.2401, 66.6510,\n",
            "        65.5092, 63.1173, 61.9280, 40.1040, 44.6190, 62.2824,  4.9185, 67.8031,\n",
            "        67.2433, 67.6118,  0.7903, 67.9669], device='cuda:0',\n",
            "       grad_fn=<SliceBackward>)\n",
            "pred int ['3.7', '5', '4.7.10.0', '4.6', '5.9.0', '6.11', '5.9.0', '5.8.0', '6.11', '7', '6.10', '5', '7.0', '7.10.1.3', '6.11', '5.9.0', '7.0', '7.0', '6.10', '5', '7.10.1.3', '7.10.1.3', '7', '5.9.0', '7.10', '7.0', '6.10.1', '5', '7.10.0', '7.10.1.3', '7', '5.8.10', '7.0', '7.0', '6.10', '5', '7.10.1.3', '7.10.1.3', '7', '5.9.0', '7.10', '7.0', '6.10.1', '5', '7.10.0', '7.10.1.3', '7', '5.8.10', '7', '7', '6.10', '4.6.10', '7.10', '7.0', '6.10', '5.10', '6.10.1', '5.8.10', '5', '3.7.11', '5.8.0', '5', '3.7.11', '3.6.9', '3.5.8', '7.10.1.3', '7.10.0', '8.0.3', '1.5.8', '8.10.2', '8.0', '8.10.2', '0.5', '8.10.2', '8.10.2', '8.10.2', '0.3.7', '8.10.2', '8.10.2', '8.10.2', '0.3.7', '8.10.2', '8.10.2', '8.10.2', '0', '8.10.2', '8.10.2', '8.10.2', '0.3.7', '8.10.2', '8.10.2', '8.10.2', '0', '8.10.2', '8.10.2', '8.10.2', '0.3.7', '8.10.2', '8.10.2', '8.10.2', '0', '8.10.2', '8.10.2', '8.10.2', '0.3.7', '8.10.2', '8.10.2', '8.10.2', '0', '8.10.2', '8.10.2', '8.10.2', '0.3.7', '8.10.2', '8.10.2', '8.10.2', '0.3.7', '8.10.2', '8.10', '8.10.2', '0.5', '8.10.2', '8.10', '8.0.3', '1.6', '7.8.0', '7.10.2', '5', '4.6.10', '7.8.0', '8.10', '8.10', '8.10', '8.10.2', '8.10.2', '8.10.2', '8.10.2', '8.10.2', '8.10.2', '8.10.2', '8.10.2', '8.10.2', '8.10.2', '8.10.2', '8.10.2', '8.10.2', '8.10.2', '8.10.2', '8.10.2', '8.10.2', '8.10.2', '8.10.2', '8.10.2', '8.10.2', '8.10.2', '8.10.2', '8.10.2', '8.10.2', '8.10.2', '8.10.2', '8.10.2', '8.10.2', '8.10.2', '8.10.2', '8.10.2', '8.10.2', '8.10.2', '8.10.2', '8.10.2', '8.10.2', '8.10.2', '8.10.2', '8.10.2', '8.10.2', '8.10.2', '8.10.2', '8.10.2', '8.10.2', '8.10.2', '8.10.2', '8.10.2', '8.10.2', '8.10.2', '8.10.2', '8.10.2', '8.10.2', '8.10.2', '8.10', '8.0.3', '8', '7.11.2', '4', '5', '7.8.0', '0.6', '8.10.2', '8.10.2', '8.10.2', '0', '8.10.2', '8.10.2', '8.10.2', '0', '8.10.2', '8.10.2', '8.10.2', '0', '8.10.2', '8.10.2', '8.10.2', '0', '8.10.2', '8.10.2', '8.10.2', '0', '8.10.2', '8.10.2', '8.10.2', '0', '8.10.2', '8.10.2', '8.10.2', '0', '8.10.2', '8.10.2', '8.10.2', '0', '8.10.2', '8.10.2', '8.10.2', '0', '8.10.2', '8.10.2', '8.10.2', '0', '8.10.2', '8.10.2', '8.10.2', '0', '8.10.2', '8.10.2', '8.10.2', '0', '8.10.2', '8.10.2', '8.10.2', '0.3.7', '8.10.2', '8.10.2', '8.10.2', '0.3.7', '8.10.2', '8.10.2', '8.0', '2.7', '5.10', '5', '8.10.2', '8.10', '8.10', '8.10.2', '8.10.2', '8.10.2', '8.10.2', '8.10.2', '8.10.2', '8.10.2', '8.10.2', '8.10.2', '8.10.2', '8.10.2', '8.10.2', '8.10.2', '8.10.2', '8.10.2', '8.10.2', '8.10.2', '8.10.2', '8.10.2', '8.10.2', '8.10.2', '8.10.2', '8.10.2', '8.10.2', '8.10.2', '8.10.2', '8.10.2', '8.10.2', '8.10.2', '8.10.2', '8.10.2', '8.10.2', '8.10.2', '8.10.2', '8.10.2', '8.10.2', '8.10.2', '8.10.2', '8.10.2', '8.10.2', '8.10.2', '8.10.2', '8.10.2', '8.10.2', '8.10.2', '8.10.2', '8.10.2', '8.10.2', '8.10.2', '8.10.2', '8.10.2', '8.10.2', '8.10.2', '8.10.2', '8.10.2', '8.10', '8.10.2', '8.0', '7.8.0', '4', '2.6.9', '8.10.2', '8.0.3', '8.10.2', '0.3.7', '8.10.2', '8.10.2', '8.10.2', '0', '8.10.2', '8.10.2', '8.10.2', '0', '8.10.2', '8.10.2', '8.10.2', '0', '8.10.2', '8.10.2', '8.10.2', '0', '8.10.2', '8.10.2', '8.10.2', '0', '8.10.2', '8.10.2', '8.10.2', '0', '8.10.2', '8.10.2', '8.10.2', '0', '8.10.2', '8.10.2', '8.10.2', '0', '8.10.2', '8.10.2', '8.10.2', '0', '8.10.2', '8.10.2', '8.10.2', '0', '8.10.2', '8.10.2', '8.10.2', '0', '8.10.2', '8.10.2', '8.10.2', '0', '8.10.2', '8.10.2', '8.10.2', '0', '8.10.2', '8.10.2', '8.10.2', '0.5', '8.10', '8.0.3', '5.8.10', '5.8', '8.10', '8.10.2', '8.10.2', '8.10.2', '8.10.2', '8.10.2', '8.10.2', '8.10.2', '8.10.2', '8.10.2', '8.10.2', '8.10.2', '8.10.2', '8.10.2', '8.10.2', '8.10.2', '8.10.2', '8.10.2', '8.10.2', '8.10.2', '8.10.2', '8.10.2', '8.10.2', '8.10.2', '8.10.2', '8.10.2', '8.10.2', '8.10.2', '8.10.2', '8.10.2', '8.10.2', '8.10.2', '8.10.2', '8.10.2', '8.10.2', '8.10.2', '8.10.2', '8.10.2', '8.10.2', '8.10.2', '8.10.2', '8.10.2', '8.10.2', '8.10.2', '8.10.2', '8.10.2', '8.10.2', '8.10.2', '8.10.2', '8.10.2', '8.10.2', '8.10.2', '8.10.2', '8.10.2', '8.10.2', '8.10.2', '8.10.2', '8.10.2', '8.10.2', '8.10.2', '8.10', '8.10', '4.6.10', '6.11', '8.10', '0.3.7', '8.10.2', '8.10.2', '8.10.2', '0', '8.10.2', '8.10.2', '8.10.2', '0', '8.10.2', '8.10.2', '8.10.2', '0', '8.10.2', '8.10.2', '8.10.2', '0', '8.10.2', '8.10.2', '8.10.2', '0', '8.10.2', '8.10.2', '8.10.2', '0', '8.10.2', '8.10.2', '8.10.2', '0', '8.10.2', '8.10.2', '8.10.2', '0', '8.10.2', '8.10.2', '8.10.2', '0', '8.10.2', '8.10.2', '8.10.2', '0', '8.10.2', '8.10.2', '8.10.2', '0', '8.10.2', '8.10.2', '8.10.2', '0', '8.10.2', '8.10.2', '8.10.2', '0', '8.10.2', '8.10.2', '8.10.2', '0', '8.10.2', '8.10.2', '8.0', '10.0.3', '5.8.0', '5.8.10', '8.10.2', '8.10.2', '8.10', '8.10.2', '8.10.2', '8.10.2', '8.10.2', '8.10.2', '8.10.2', '8.10.2', '8.10.2', '8.10.2', '8.10.2', '8.10.2', '8.10.2', '8.10.2', '8.10.2', '8.10.2', '8.10.2', '8.10.2', '8.10.2', '8.10.2', '8.10.2', '8.10.2', '8.10.2', '8.10.2', '8.10.2', '8.10.2', '8.10.2', '8.10.2', '8.10.2', '8.10.2', '8.10.2', '8.10.2', '8.10.2', '8.10.2', '8.10.2', '8.10.2', '8.10.2', '8.10.2', '8.10.2', '8.10.2', '8.10.2', '8.10.2', '8.10.2', '8.10.2', '8.10.2', '8.10.2', '8.10.2', '8.10.2', '8.10.2', '8.10.2', '8.10.2', '8.10.2', '8.10.2', '8.10.2', '8.10.2', '8.10.2', '7.11', '8.10.2', '8.10', '8.0.3', '4.6', '2.5', '8.10.2', '8.10.2', '8.10.2', '0', '8.10.2', '8.10.2', '8.10.2', '0', '8.10.2', '8.10.2', '8.10.2', '0', '8.10.2', '8.10.2', '8.10.2', '0', '8.10.2', '8.10.2', '8.10.2', '0', '8.10.2', '8.10.2', '8.10.2', '0', '8.10.2', '8.10.2', '8.10.2', '0', '8.10.2', '8.10.2', '8.10.2', '0', '8.10.2', '8.10.2', '8.10.2', '0', '8.10.2', '8.10.2', '8.10.2', '0', '8.10.2', '8.10.2', '8.10.2', '0', '8.10.2', '8.10.2', '8.10.2', '0', '8.10.2', '8.10.2', '8.10.2', '0', '8.10.2', '8.10.2', '8.10.2', '0', '8.10.2', '8.10.2', '8.10.2', '0', '8.10.2', '8.0.3', '5.8.10', '6.11', '8.10.2', '8.10.2', '8.10.2', '8.10.2', '8.10.2', '8.10.2', '8.10.2', '8.10.2', '8.10.2', '8.10.2', '8.10.2', '8.10.2', '8.10.2', '9', '8.10.2', '8.10.2', '8.10.2', '9', '8.10.2', '8.10.2', '8.10.2', '9', '8.10.2', '8.10.2', '8.10.2', '9', '8.10.2', '8.10.2', '8.10.2', '9', '8.10.2', '8.10.2', '8.10.2', '9', '8.10.2', '8.10.2', '8.10.2', '9', '8.10.2', '8.10.2', '8.10.2', '9', '8.10.2', '8.10.2', '8.10.2', '9', '8.10.2', '8.10.2', '8.10.2', '8.10.2', '8.10.2', '8.10.2', '8.10.2', '8.10.2', '8.10.2', '8.10.2', '8.10.2', '8.10.2', '8.10.2', '8.10.2', '8.10.2', '8.10.2', '4.7.10.0', '5.8.10', '8.10', '0', '8.10.2', '8.10.2', '8.10.2', '0', '8.10.2', '8.10.2', '8.10.2', '0', '8.10.2', '8.10.2', '8.10.2', '0', '8.10.2', '8.10.2', '8.10.2', '0', '8.10.2', '8.10.2', '8.10.2', '0', '8.10.2', '8.10.2', '8.10.2', '0', '8.10.2', '8.10.2', '8.10.2', '0', '8.10.2', '8.10.2', '8.10.2', '0', '8.10.2', '8.10.2', '8.10.2', '0', '8.10.2', '8.10.2', '8.10.2', '0', '8.10.2', '8.10.2', '8.10.2', '0', '8.10.2', '8.10.2', '8.10.2', '0', '8.10.2', '8.10.2', '8.10.2', '0', '8.10.2', '8.10.2', '8.10.2', '0', '8.10.2', '8.10.2', '8.10.2', '10.3', '6', '5.9.0', '8.10.2', '8.10.2', '8.10.2', '8.10.2', '8.10.2', '8.10.2', '8.10.2', '8.10.2', '8.10.2', '8.10.2', '8.10.2', '8.10.2', '8.10.2', '8.10.2', '8.10.2', '8.10.2', '8.10.2', '8.10.2', '8.10.2', '9', '8.10.2', '8.10.2', '8.10.2', '8.10.2', '8.10.2', '8.10.2', '8.10.2', '9', '8.10.2', '8.10.2', '8.10.2', '8.10.2', '8.10.2', '8.10.2', '8.10.2', '9', '8.10.2', '8.10.2', '8.10.2', '8.10.2', '8.10.2', '8.10.2', '8.10.2', '9', '8.10.2', '8.10.2', '8.10.2', '8.10.2', '8.10.2', '8.10.2', '8.10.2', '8.10.2', '8.10.2', '8.10.2', '8.10.2', '8.10.2', '8.10.2', '8.10.2', '8.10.2', '8.10.2', '8.10.2', '8.10', '4.7.10.0', '2.3.5.8.10', '8.10.2', '8.10', '8.10.2', '0', '8.10.2', '8.10.2', '8.10.2', '0', '8.10.2', '8.10.2', '8.10.2', '0', '9', '8.10.2', '8.10.2', '0', '9', '8.10.2', '8.10.2', '0', '9', '8.10.2', '8.10.2', '0', '9', '8.10.2', '8.10.2', '0', '9', '8.10.2', '8.10.2', '0', '9', '8.10.2', '8.10.2', '0', '9', '8.10.2', '8.10.2', '0', '9', '8.10.2', '8.10.2', '0', '9', '8.10.2', '8.10.2', '0', '8.10.2', '8.10.2', '8.10.2', '0', '8.10.2', '8.10.2', '8.10.2', '0', '8.10.2', '8.10.2', '8.10.2', '0', '8.10.2', '8.10.2', '6.10.1', '6', '8.10.2', '8.10.2', '8.10.2', '8.10.2', '8.10.2', '8.10.2', '8.10.2', '8.10.2', '8.10.2', '9', '8.10.2', '8.10.2', '9', '9', '9', '8.10.2', '9', '9', '9', '8.10.2', '9', '9', '9', '8.10.2', '9', '9', '9', '8.10.2', '9', '9', '9', '8.10.2', '9', '9', '9', '8.10.2', '9', '9', '9', '8.10.2', '9', '9', '9', '8.10.2', '9', '9', '9', '8.10.2', '9', '9', '8.10.2', '8.10.2', '8.10.2', '9', '8.10.2', '8.10.2', '8.10.2', '8.10.2', '8.10.2', '8.10.2', '8.10.2', '8.10.2', '5.10', '7.10', '8.10.2', '0', '8.10.2', '8.10.2', '8.10.2', '0', '8.10.2', '8.10.2', '8.10.2', '0', '8.10.2', '8.10.2', '8.10.2', '0', '9', '9', '8.10.2', '0', '9', '9', '8.10.2', '0', '9', '8.10.2', '8.10.2', '0', '9', '9', '8.10.2', '0', '9', '8.10.2', '8.10.2', '0', '9', '9', '8.10.2', '0', '9', '8.10.2', '8.10.2', '0', '9', '9', '8.10.2', '0', '9', '9', '8.10.2', '0', '8.10.2', '8.10.2', '8.10.2', '0', '8.10.2', '8.10.2', '8.10.2', '0', '8.10.2', '8.10.2', '8.10', '1.5.8', '5.9.0', '6.10', '8.10.2', '8.10.2', '8.10.2', '8.10.2', '8.10.2', '8.10.2', '8.10.2', '8.10.2', '8.10.2', '8.10.2', '8.10.2', '9', '9', '8.10.2', '8.10.2', '8.10.2', '9', '9', '8.10.2', '9', '9', '8.10.2', '8.10.2', '8.10.2', '9', '8.10.2', '8.10.2', '9', '9', '8.10.2', '8.10.2', '8.10.2', '9', '8.10.2', '8.10.2', '9', '9', '8.10.2', '8.10.2', '8.10.2', '9', '8.10.2', '8.10.2', '9', '9', '8.10.2', '8.10.2', '8.10.2', '8.10.2', '8.10.2', '8.10.2', '9', '8.10.2', '8.10.2', '8.10.2', '8.10.2', '8.10.2', '8.10.2', '8', '8.10.2', '8.10.2', '8.10', '4.6.10', '2', '8.10.2', '8.10.2', '8.10.2', '0', '8.10.2', '8.10.2', '8.10.2', '0', '8.10.2', '8.10.2', '8.10.2', '0', '9', '8.10.2', '8.10.2', '0', '9', '8.10.2', '8.10.2', '0', '9', '8.10.2', '8.10.2', '0', '9', '8.10.2', '8.10.2', '0', '9', '8.10.2', '8.10.2', '0', '9', '8.10.2', '8.10.2', '0', '9', '8.10.2', '8.10.2', '0', '9', '8.10.2', '8.10.2', '0', '9', '8.10.2', '8.10.2', '0', '9', '8.10.2', '8.10.2', '0', '8.10.2', '8.10.2', '8.10.2', '0', '8.10.2', '8.10.2', '8.10.2', '0', '8.10.2', '8.10.2', '6', '7.0', '8.10.2', '8.10.2', '8.10.2', '8.10.2', '8.10.2', '8.10.2', '8.10.2', '8.10.2', '8.10.2', '9', '8.10.2', '8.10.2', '9', '9', '9', '9', '9', '9', '9', '9', '9', '9', '9', '9', '9', '9', '9', '9', '9', '9', '9', '9', '9', '9', '9', '9', '9', '9', '9', '9', '9', '9', '9', '9', '9', '9', '9', '9', '9', '9', '8.10.2', '8.10.2', '8.10.2', '9', '8.10.2', '8.10.2', '8.10.2', '8.10.2', '8.10.2', '8.10.2', '8.10.2', '8.10.2', '4.7.10.0', '6.10.1', '8.10.2', '0', '8.10.2', '8.10.2', '8.10.2', '0', '8.10.2', '8.10.2', '8.10.2', '0', '9', '8.10.2', '8.10.2', '0', '9', '8.10.2', '8.10.2', '0', '9', '8.10.2', '8.10.2', '0', '9', '8.10.2', '8.10.2', '0', '9', '8.10.2', '8.10.2', '0', '9', '8.10.2', '8.10.2', '0', '9', '8.10.2', '8.10.2', '0', '9', '8.10.2', '8.10.2', '0', '9', '8.10.2', '8.10.2', '0', '9', '8.10.2', '8.10.2', '0', '8.10.2', '8.10.2', '8.10.2', '0', '8.10.2', '8.10.2', '8.10.2', '0', '8.10.2', '8.10.2', '8.10.2', '11.3.6', '6.10', '6', '8.10.2', '8.10.2', '8.10.2', '8.10.2', '8.10.2', '8.10.2', '8.10.2', '8.10.2', '8.10.2', '8.10.2', '8.10.2', '9', '9', '8.10.2', '8.10.2', '8.10.2', '9', '8.10.2', '8.10.2', '9', '9', '8.10.2', '8.10.2', '8.10.2', '9', '8.10.2', '8.10.2', '9', '9', '8.10.2', '8.10.2', '8.10.2', '9', '8.10.2', '8.10.2', '9', '9', '8.10.2', '8.10.2', '8.10.2', '9', '8.10.2', '8.10.2', '9', '9', '8.10.2', '8.10.2', '8.10.2', '9', '8.10.2', '8.10.2', '9', '8.10.2', '8.10.2', '8.10.2', '8.10.2', '8.10.2', '8.10.2', '8.10.2', '8.10.2', '8.10.2', '8.10.2', '4.7.10.0', '2.3.5.8.10', '8.10.2', '8.10.2', '8.10.2', '0', '8.10.2', '8.10.2', '8.10.2', '0', '8.10.2', '8.10.2', '8.10.2', '0', '9', '8.10.2', '8.10.2', '0', '9', '8.10.2', '8.10.2', '0', '9', '8.10.2', '8.10.2', '0', '9', '8.10.2', '8.10.2', '0', '9', '8.10.2', '8.10.2', '0', '9', '8.10.2', '8.10.2', '0', '9', '8.10.2', '8.10.2', '0', '9', '8.10.2', '8.10.2', '0', '9', '8.10.2', '8.10.2', '0', '9', '8.10.2', '8.10.2', '0', '8.10.2', '8.10.2', '8.10.2', '0', '8.10.2', '8.10.2', '8.10.2', '0', '8.10.2', '8.10.2', '6.10.1', '6.10', '8.10.2', '8.10.2', '8.10.2', '8.10.2', '8.10.2', '8.10.2', '8.10.2', '8.10.2', '8.10.2', '9', '9', '8.10.2', '9', '9', '9', '8.10.2', '9', '9', '9', '8.10.2', '9', '9', '9', '8.10.2', '9', '9', '9', '8.10.2', '9', '9', '9', '8.10.2', '9', '9', '9', '8.10.2', '9', '9', '9', '8.10.2', '9', '9', '9', '8.10.2', '9', '9', '9', '8.10.2', '9', '9', '9', '8.10.2', '8.10.2', '9', '8.10.2', '8.10.2', '8.10.2', '8.10.2', '8.10.2', '8.10.2', '8.10.2', '8.10.2', '5', '7.10', '8.10.2', '0', '8.10.2', '8.10.2', '8.10.2', '0', '8.10.2', '8.10.2', '8.10.2', '0', '8.10.2', '8.10.2', '8.10.2', '0', '9', '9', '8.10.2', '0', '9', '9', '8.10.2', '0', '9', '8.10.2', '8.10.2', '0', '9', '8.10.2', '8.10.2', '0', '9', '8.10.2', '8.10.2', '0', '9', '9', '8.10.2', '0', '9', '8.10.2', '8.10.2', '0', '9', '9', '8.10.2', '0', '9', '9', '8.10.2', '0', '8.10.2', '8.10.2', '8.10.2', '0', '8.10.2', '8.10.2', '8.10.2', '0', '8.10.2', '8.10.2', '8.10', '1.6', '6', '6.10.1', '8.10.2', '8.10.2', '8.10.2', '8.10.2', '8.10.2', '8.10.2', '8.10.2', '8.10.2', '8.10.2', '8.10.2', '8.10.2', '9', '9', '8.10.2', '8.10.2', '8.10.2', '9', '9', '8.10.2', '9', '9', '8.10.2', '8.10.2', '8.10.2', '9', '9', '8.10.2', '9', '9', '8.10.2', '8.10.2', '8.10.2', '9', '8.10.2', '8.10.2', '9', '9', '8.10.2', '8.10.2', '8.10.2', '9', '9', '8.10.2', '9', '9', '8.10.2', '8.10.2', '8.10.2', '8.10.2', '8.10.2', '8.10.2', '9', '8.10.2', '8.10.2', '8.10.2', '8.10.2', '8.10.2', '8.10.2', '8.0', '8.10.2', '8.10.2', '8.10', '4.7.10.0', '2.3.5.8.10', '8.10.2', '8.10.2', '8.10.2', '0', '8.10.2', '8.10.2', '8.10.2', '0', '8.10.2', '8.10.2', '8.10.2', '0', '9', '8.10.2', '8.10.2', '0', '9', '8.10.2', '8.10.2', '0', '9', '8.10.2', '8.10.2', '0', '9', '8.10.2', '8.10.2', '0', '9', '8.10.2', '8.10.2', '0', '9', '8.10.2', '8.10.2', '0', '9', '8.10.2', '8.10.2', '0', '9', '8.10.2', '8.10.2', '0', '9', '8.10.2', '8.10.2', '0', '9', '8.10.2', '8.10.2', '0', '8.10.2', '8.10.2', '8.10.2', '0', '8.10.2', '8.10.2', '8.10.2', '0', '8.10.2', '8.10', '5.9.0', '7.10', '8.10.2', '8.10.2', '8.10.2', '8.10.2', '8.10.2', '8.10.2', '8.10.2', '8.10.2', '8.10.2', '9', '8.10.2', '8.10.2', '9', '9', '9', '9', '9', '9', '9', '9', '9', '9', '9', '9', '9', '9', '9', '9', '9', '9', '9', '9', '9', '9', '9', '9', '9', '9', '9', '9', '9', '9', '9', '9', '9', '9', '9', '9', '9', '9', '8.10.2', '8.10.2', '8.10.2', '9', '8.10.2', '8.10.2', '8.10.2', '8.10.2', '8.10.2', '8.10.2', '8.10.2', '8.10.2', '5', '5.9.0', '8.10.2', '0', '8.10.2', '8.10.2', '8.10.2', '0', '8.10.2', '8.10.2', '8.10.2', '0', '9', '8.10.2', '8.10.2', '0', '9', '8.10.2', '8.10.2', '0', '9', '8.10.2', '8.10.2', '0', '9', '8.10.2', '8.10.2', '0', '9', '9', '8.10.2', '0', '8.10.2', '8.10.2', '8.10.2', '0', '9', '8.10.2', '8.10.2', '0', '9', '8.10.2', '8.10.2', '0', '9', '9', '8.10.2', '0', '9', '8.10.2', '8.10.2', '0', '8.10.2', '8.10.2', '8.10.2', '0', '8.10.2', '8.10.2', '8.10.2', '0', '8.10.2', '8.10.2', '8.10.2', '10.3', '6.10', '6.10', '8.10.2', '8.10.2', '8.10.2', '8.10.2', '8.10.2', '8.10.2', '8.10.2', '8.10.2', '8.10.2', '8.10.2', '8.10.2', '9', '9', '8.10.2', '8.10.2', '8.10.2', '9', '8.10.2', '8.10.2', '9', '9', '8.10.2', '8.10.2', '8.10.2', '9', '8.10.2', '8.10.2', '9', '9', '8.10.2', '8.10.2', '8.10.2', '9', '8.10.2', '8.10.2', '9', '9', '8.10.2', '8.10.2', '8.10.2', '9', '8.10.2', '8.10.2', '9', '9', '8.10.2', '8.10.2', '8.10.2', '9', '8.10.2', '8.10.2', '9', '8.10.2', '8.10.2', '8.10.2', '8.10.2', '8.10.2', '8.10.2', '8.10.2', '8.10.2', '8.10.2', '8.10', '4.7.10.0', '2', '8.10.2', '8.10.2', '8.10.2', '0', '8.10.2', '8.10.2', '8.10.2', '0', '8.10.2', '8.10.2', '8.10.2', '0', '9', '8.10.2', '8.10.2', '0', '9', '8.10.2', '8.10.2', '0', '9', '8.10.2', '8.10.2', '0', '9', '8.10.2', '8.10.2', '0', '9', '8.10.2', '8.10.2', '0', '9', '8.10.2', '8.10.2', '0', '9', '8.10.2', '8.10.2', '0', '9', '8.10.2', '8.10.2', '0', '9', '8.10.2', '8.10.2', '0', '9', '8.10.2', '8.10.2', '0', '8.10.2', '8.10.2', '8.10.2', '0', '8.10.2', '8.10.2', '8.10.2', '0', '8.10.2', '8.10.2', '6.11', '6', '8.10.2', '8.10.2', '8.10.2', '8.10.2', '8.10.2', '8.10.2', '8.10.2', '8.10.2', '8.10.2', '9', '9', '8.10.2', '9', '9', '9', '8.10.2', '9', '9', '9', '8.10.2', '9', '9', '9', '8.10.2', '9', '9', '9', '8.10.2', '9', '9', '9', '8.10.2', '9', '9', '9', '8.10.2', '9', '9', '9', '8.10.2', '9', '9', '9', '8.10.2', '9', '9', '9', '8.10.2', '9', '9', '9', '8.10.2', '8.10.2', '9', '8.10.2', '8.10.2', '8.10.2', '8.10.2', '8.10.2', '8.10.2', '8.10.2', '8.10.2', '5.10', '7.10', '8.10.2', '0', '8.10.2', '8.10.2', '8.10.2', '0', '8.10.2', '8.10.2', '8.10.2', '0', '8.10.2', '8.10.2', '8.10.2', '0', '9', '9', '8.10.2', '0', '9', '9', '8.10.2', '0', '9', '8.10.2', '8.10.2', '0', '9', '9', '8.10.2', '0', '9', '8.10.2', '8.10.2', '0', '9', '9', '8.10.2', '0', '9', '8.10.2', '8.10.2', '0', '9', '9', '8.10.2', '0', '9', '9', '8.10.2', '0', '8.10.2', '8.10.2', '8.10.2', '0', '8.10.2', '8.10.2', '8.10.2', '0', '8.10.2', '8.10.2', '8.10', '1.6', '6', '6.10', '8.10.2', '8.10.2', '8.10.2', '8.10.2', '8.10.2', '8.10.2', '8.10.2', '8.10.2', '8.10.2', '8.10.2', '8.10.2', '9', '9', '8.10.2', '8.10.2', '8.10.2', '9', '9', '8.10.2', '9', '9', '8.10.2', '8.10.2', '8.10.2', '9', '8.10.2', '8.10.2', '9', '9', '8.10.2', '8.10.2', '8.10.2', '9', '9', '8.10.2', '9', '9', '8.10.2', '8.10.2', '8.10.2', '9', '9', '8.10.2', '9', '9', '8.10.2', '8.10.2', '8.10.2', '8.10.2', '8.10.2', '8.10.2', '9', '8.10.2', '8.10.2', '8.10.2', '8.10.2', '8.10.2', '8.10.2', '8', '8.10.2', '8.10.2', '8.10', '4.6.10', '2', '8.10.2', '8.10.2', '8.10.2', '0', '8.10.2', '8.10.2', '8.10.2', '0', '8.10.2', '8.10.2', '8.10.2', '0', '9', '8.10.2', '8.10.2', '0', '9', '8.10.2', '8.10.2', '0', '9', '8.10.2', '8.10.2', '0', '9', '8.10.2', '8.10.2', '0', '9', '8.10.2', '8.10.2', '0', '9', '8.10.2', '8.10.2', '0', '9', '8.10.2', '8.10.2', '0', '9', '8.10.2', '8.10.2', '0', '9', '8.10.2', '8.10.2', '0', '9', '8.10.2', '8.10.2', '0', '8.10.2', '8.10.2', '8.10.2', '0', '8.10.2', '8.10.2', '8.10.2', '0', '8.10.2', '8.10.2', '6', '7.0', '8.10.2', '8.10.2', '8.10.2', '8.10.2', '8.10.2', '8.10.2', '8.10.2', '8.10.2', '8.10.2', '9', '8.10.2', '8.10.2', '9', '9', '9', '9', '9', '9', '9', '9', '9', '9', '9', '9', '9', '9', '9', '9', '9', '9', '9', '9', '9', '9', '9', '9', '9', '9', '9', '9', '9', '9', '9', '9', '9', '9', '9', '9', '9', '9', '8.10.2', '8.10.2', '8.10.2', '9', '8.10.2', '8.10.2', '8.10.2', '8.10.2', '8.10.2', '8.10.2', '8.10.2', '8.10.2', '4.7.10.0', '6.10', '8.10.2', '0', '8.10.2', '8.10.2', '8.10.2', '0', '8.10.2', '8.10.2', '8.10.2', '0', '9', '8.10.2', '8.10.2', '0', '9', '8.10.2', '8.10.2', '0', '9', '8.10.2', '8.10.2', '0', '9', '8.10.2', '8.10.2', '0', '9', '8.10.2', '8.10.2', '0', '9', '8.10.2', '8.10.2', '0', '9', '8.10.2', '8.10.2', '0', '9', '8.10.2', '8.10.2', '0', '9', '8.10.2', '8.10.2', '0', '9', '8.10.2', '8.10.2', '0', '8.10.2', '8.10.2', '8.10.2', '0', '8.10.2', '8.10.2', '8.10.2', '0', '8.10.2', '8.10.2', '8.10.2', '11.2', '6.10', '6', '8.10.2', '8.10.2', '8.10.2', '8.10.2', '8.10.2', '8.10.2', '8.10.2', '8.10.2', '8.10.2', '8.10.2', '8.10.2', '9', '9', '8.10.2', '8.10.2', '8.10.2', '9', '8.10.2', '8.10.2', '9', '9', '8.10.2', '8.10.2', '8.10.2', '9', '8.10.2', '8.10.2', '9', '9', '8.10.2', '8.10.2', '8.10.2', '9', '8.10.2', '8.10.2', '9', '9', '8.10.2', '8.10.2', '8.10.2', '9', '8.10.2', '8.10.2', '9', '9', '8.10.2', '8.10.2', '8.10.2', '9', '8.10.2', '8.10.2', '9', '8.10.2', '8.10.2', '8.10.2', '8.10.2', '8.10.2', '8.10.2', '8.10.2', '8.10.2', '8.10.2', '8.10.2', '4.7.10.0', '2', '8.10.2', '8.10.2', '8.10.2', '0', '8.10.2', '8.10.2', '8.10.2', '0', '8.10.2', '8.10.2', '8.10.2', '0', '9', '8.10.2', '8.10.2', '0', '9', '8.10.2', '8.10.2', '0', '9', '8.10.2', '8.10.2', '0', '9', '8.10.2', '8.10.2', '0', '9', '8.10.2', '8.10.2', '0', '9', '8.10.2', '8.10.2', '0', '9', '8.10.2', '8.10.2', '0', '9', '8.10.2', '8.10.2', '0', '9', '8.10.2', '8.10.2', '0', '9', '8.10.2', '8.10.2', '0', '8.10.2', '8.10.2', '8.10.2', '0', '8.10.2', '8.10.2', '8.10.2', '0', '8.10.2', '8.10.2', '6.10', '6.10', '8.10.2', '8.10.2', '8.10.2', '8.10.2', '8.10.2', '8.10.2', '8.10.2', '8.10.2', '8.10.2', '9', '9', '8.10.2', '9', '9', '9', '8.10.2', '9', '9', '9', '8.10.2', '9', '9', '9', '8.10.2', '9', '9', '9', '8.10.2', '9', '9', '9', '8.10.2', '9', '9', '9', '8.10.2', '9', '9', '9', '8.10.2', '9', '9', '9', '8.10.2', '9', '9', '9', '8.10.2', '9', '9', '9', '8.10.2', '8.10.2', '9', '8.10.2', '8.10.2', '8.10.2', '8.10.2', '8.10.2', '8.10.2', '8.10.2', '8.10.2', '5', '7.10', '8.10.2', '0', '8.10.2', '8.10.2', '8.10.2', '0', '8.10.2', '8.10.2', '8.10.2', '0', '8.10.2', '8.10.2', '8.10.2', '0', '9', '9', '8.10.2', '0', '9', '9', '8.10.2', '0', '9', '8.10.2', '8.10.2', '0', '9', '8.10.2', '8.10.2', '0', '9', '8.10.2', '8.10.2', '0', '9', '9', '8.10.2', '0', '9', '8.10.2', '8.10.2', '0', '9', '9', '8.10.2', '0', '9', '9', '8.10.2', '0', '8.10.2', '8.10.2', '8.10.2', '0', '8.10.2', '8.10.2', '8.10.2', '0', '8.10.2', '8.10.2', '8.10', '1.5.8', '6', '6.10', '8.10.2', '8.10.2', '8.10.2', '8.10.2', '8.10.2', '8.10.2', '8.10.2', '8.10.2', '8.10.2', '8.10.2', '8.10.2', '9', '9', '8.10.2', '8.10.2', '8.10.2', '9', '9', '8.10.2', '9', '9', '8.10.2', '8.10.2', '8.10.2', '9', '9', '8.10.2', '9', '9', '8.10.2', '8.10.2', '8.10.2', '9', '8.10.2', '8.10.2', '9', '9', '8.10.2', '8.10.2', '8.10.2', '9', '9', '8.10.2', '9', '9', '8.10.2', '8.10.2', '8.10.2', '8.10.2', '8.10.2', '8.10.2', '9', '8.10.2', '8.10.2', '8.10.2', '8.10.2', '8.10.2', '8.10.2', '8.0', '8.10.2', '8.10.2', '8.10', '4.6.10', '2.3.5.8.10', '8.10.2', '8.10.2', '8.10.2', '0', '8.10.2', '8.10.2', '8.10.2', '0', '8.10.2', '8.10.2', '8.10.2', '0', '9', '8.10.2', '8.10.2', '0', '9', '8.10.2', '8.10.2', '0', '9', '8.10.2', '8.10.2', '0', '9', '8.10.2', '8.10.2', '0', '9', '8.10.2', '8.10.2', '0', '9', '8.10.2', '8.10.2', '0', '9', '8.10.2', '8.10.2', '0', '9', '8.10.2', '8.10.2', '0', '9', '8.10.2', '8.10.2', '0', '9', '8.10.2', '8.10.2', '0', '8.10.2', '8.10.2', '8.10.2', '0', '8.10.2', '8.10.2', '8.10.2', '0', '8.10.2', '8.10', '5.9.0', '7.0', '8.10.2', '8.10.2', '8.10.2', '8.10.2', '8.10.2', '8.10.2', '8.10.2', '8.10.2', '8.10.2', '9', '8.10.2', '8.10.2', '9', '9', '9', '9', '9', '9', '9', '9', '9', '9', '9', '9', '9', '9', '9', '9', '9', '9', '9', '9', '9', '9', '9', '9', '9', '9', '9', '9', '9', '9', '9', '9', '9', '9', '9', '9', '9', '9', '8.10.2', '8.10.2', '8.10.2', '9', '8.10.2', '8.10.2', '8.10.2', '8.10.2', '8.10.2', '8.10.2', '8.10.2', '8.10.2', '4.7.10.0', '5.9.0', '8.10.2', '0', '8.10.2', '8.10.2', '8.10.2', '0', '8.10.2', '8.10.2', '8.10.2', '0', '9', '8.10.2', '8.10.2', '0', '9', '8.10.2', '8.10.2', '0', '9', '8.10.2', '8.10.2', '0', '9', '8.10.2', '8.10.2', '0', '9', '9', '8.10.2', '0', '8.10.2', '8.10.2', '8.10.2', '0', '9', '8.10.2', '8.10.2', '0', '9', '8.10.2', '8.10.2', '0', '9', '9', '8.10.2', '0', '9', '8.10.2', '8.10.2', '0', '8.10.2', '8.10.2', '8.10.2', '0', '8.10.2', '8.10.2', '8.10.2', '0', '8.10.2', '8.10.2', '8.10.2', '10.3', '6', '6.10', '8.10.2', '8.10.2', '8.10.2', '8.10.2', '8.10.2', '8.10.2', '8.10.2', '8.10.2', '8.10.2', '8.10.2', '8.10.2', '9', '9', '8.10.2', '8.10.2', '8.10.2', '9', '8.10.2', '8.10.2', '9', '9', '8.10.2', '8.10.2', '8.10.2', '9', '8.10.2', '8.10.2', '9', '9', '8.10.2', '8.10.2', '8.10.2', '9', '8.10.2', '8.10.2', '9', '9', '8.10.2', '8.10.2', '8.10.2', '9', '8.10.2', '8.10.2', '9', '9', '8.10.2', '8.10.2', '8.10.2', '9', '8.10.2', '8.10.2', '9', '8.10.2', '8.10.2', '8.10.2', '8.10.2', '8.10.2', '8.10.2', '8.10.2', '8.10.2', '8.10.2', '8.10', '4.7.10.0', '2', '8.10.2', '8.10.2', '8.10.2', '0', '8.10.2', '8.10.2', '8.10.2', '0', '8.10.2', '8.10.2', '8.10.2', '0', '9', '8.10.2', '8.10.2', '0', '9', '8.10.2', '8.10.2', '0', '9', '8.10.2', '8.10.2', '0', '9', '8.10.2', '8.10.2', '0', '9', '8.10.2', '8.10.2', '0', '9', '8.10.2', '8.10.2', '0', '9', '8.10.2', '8.10.2', '0', '9', '8.10.2', '8.10.2', '0', '9', '8.10.2', '8.10.2', '0', '9', '8.10.2', '8.10.2', '0', '8.10.2', '8.10.2', '8.10.2', '0', '8.10.2', '8.10.2', '8.10.2', '0', '8.10.2', '8.10.2', '6.10.1', '6.10', '8.10.2', '8.10.2', '8.10.2', '8.10.2', '8.10.2', '8.10.2', '8.10.2', '8.10.2', '8.10.2', '9', '9', '8.10.2', '9', '9', '9', '8.10.2', '9', '9', '9', '8.10.2', '9', '9', '9', '8.10.2', '9', '9', '9', '8.10.2', '9', '9', '9', '8.10.2', '9', '9', '9', '8.10.2', '9', '9', '9', '8.10.2', '9', '9', '9', '8.10.2', '9', '9', '9', '8.10.2', '9', '9', '9', '8.10.2', '8.10.2', '9', '8.10.2', '8.10.2', '8.10.2', '8.10.2', '8.10.2', '8.10.2', '8.10.2', '8.10.2', '5.10', '7.10', '8.10.2', '0', '8.10.2', '8.10.2', '8.10.2', '0', '8.10.2', '8.10.2', '8.10.2', '0', '8.10.2', '8.10.2', '8.10.2', '0', '9', '9', '8.10.2', '0', '9', '9', '8.10.2', '0', '9', '8.10.2', '8.10.2', '0', '9', '9', '8.10.2', '0', '9', '9', '8.10.2', '0', '9', '9', '8.10.2', '0', '9', '8.10.2', '8.10.2', '0', '9', '9', '8.10.2', '0', '9', '9', '8.10.2', '0', '8.10.2', '8.10.2', '8.10.2', '0', '8.10.2', '8.10.2', '8.10.2', '0', '8.10.2', '8.10.2', '8.10', '1.6', '6', '6', '8.10.2', '8.10.2', '8.10.2', '8.10.2', '8.10.2', '8.10.2', '8.10.2', '8.10.2', '8.10.2', '8.10.2', '8.10.2', '9', '9', '8.10.2', '8.10.2', '8.10.2', '9', '9', '8.10.2', '9', '9', '8.10.2', '8.10.2', '8.10.2', '9', '9', '8.10.2', '9', '9', '8.10.2', '8.10.2', '8.10.2', '9', '9', '8.10.2', '9', '9', '8.10.2', '8.10.2', '8.10.2', '9', '9', '8.10.2', '9', '9', '8.10.2', '8.10.2', '8.10.2', '8.10.2', '8.10.2', '8.10.2', '9', '8.10.2', '8.10.2', '8.10.2', '8.10.2', '8.10.2', '8.10.2', '8', '8.10.2', '8.10.2', '8.10', '4.6.10', '2.3.5.8.10', '8.10.2', '8.10.2', '8.10.2', '0', '8.10.2', '8.10.2', '8.10.2', '0', '8.10.2', '8.10.2', '8.10.2', '0', '9', '8.10.2', '8.10.2', '0', '9', '8.10.2', '8.10.2', '0', '9', '8.10.2', '8.10.2', '0', '9', '8.10.2', '8.10.2', '0', '9', '8.10.2', '8.10.2', '0', '9', '8.10.2', '8.10.2', '0', '9', '8.10.2', '8.10.2', '0', '9', '8.10.2', '8.10.2', '0', '9', '8.10.2', '8.10.2', '0', '8.10.2', '8.10.2', '8.10.2', '0', '8.10.2', '8.10.2', '8.10.2', '0', '8.10.2', '8.10.2', '8.10.2', '0', '8.10.2', '8.10', '5.8.10', '7', '8.10.2', '8.10.2', '8.10.2', '8.10.2', '8.10.2', '8.10.2', '8.10.2', '8.10.2', '8.10.2', '8.10.2', '8.10.2', '8.10.2', '9', '9', '8.10.2', '9', '9', '9', '8.10.2', '9', '9', '9', '8.10.2', '9', '9', '9', '8.10.2', '9', '9', '9', '8.10.2', '9', '9', '9', '8.10.2', '8.10.2', '9', '9', '8.10.2', '9', '9', '9', '8.10.2', '9', '9', '9', '8.10.2', '9', '9', '9', '8.10.2', '8.10.2', '8.10.2', '8.10.2', '8.10.2', '8.10.2', '8.10.2', '8.10.2', '8.10.2', '8.10.2', '8.10.2', '8.10.2', '4.6.10', '5.9.0', '8.10', '0', '8.10.2', '8.10.2', '8.10.2', '0', '8.10.2', '8.10.2', '8.10.2', '0', '8.10.2', '8.10.2', '8.10.2', '0', '8.10.2', '8.10.2', '8.10.2', '0', '8.10.2', '8.10.2', '8.10.2', '0', '8.10.2', '8.10.2', '8.10.2', '0', '8.10.2', '8.10.2', '8.10.2', '0', '8.10.2', '8.10.2', '8.10.2', '0', '8.10.2', '8.10.2', '8.10.2', '0', '8.10.2', '8.10.2', '8.10.2', '0', '8.10.2', '8.10.2', '8.10.2', '0', '8.10.2', '8.10.2', '8.10.2', '0', '8.10.2', '8.10.2', '8.10.2', '0', '8.10.2', '8.10.2', '8.10.2', '0', '8.10.2', '8.10.2', '8.10.2', '11.2', '6', '5.9.0', '8.10.2', '8.10.2', '8.10.2', '8.10.2', '8.10.2', '8.10.2', '8.10.2', '8.10.2', '8.10.2', '8.10.2', '8.10.2', '8.10.2', '8.10.2', '8.10.2', '8.10.2', '8.10.2', '9', '8.10.2', '8.10.2', '9', '9', '8.10.2', '8.10.2', '8.10.2', '9', '8.10.2', '8.10.2', '8.10.2', '8.10.2', '8.10.2', '8.10.2', '8.10.2', '9', '8.10.2', '8.10.2', '9', '8.10.2', '8.10.2', '8.10.2', '8.10.2', '8.10.2', '8.10.2', '8.10.2', '8.10.2', '8.10.2', '8.10.2', '8.10.2', '8.10.2', '8.10.2', '8.10.2', '8.10.2', '8.10.2', '8.10.2', '8.10.2', '8.10.2', '8.10.2', '8.10.2', '8.10.2', '8.10.2', '8.10.2', '8.10.2', '8.10', '4.6.10', '2.5', '8.10.2', '8.10', '8.10.2', '0', '8.10.2', '8.10.2', '8.10.2', '0', '8.10.2', '8.10.2', '8.10.2', '0', '8.10.2', '8.10.2', '8.10.2', '0', '8.10.2', '8.10.2', '8.10.2', '0', '8.10.2', '8.10.2', '8.10.2', '0', '8.10.2', '8.10.2', '8.10.2', '0', '8.10.2', '8.10.2', '8.10.2', '0', '8.10.2', '8.10.2', '8.10.2', '0', '8.10.2', '8.10.2', '8.10.2', '0', '8.10.2', '8.10.2', '8.10.2', '0', '8.10.2', '8.10.2', '8.10.2', '0', '8.10.2', '8.10.2', '8.10.2', '0', '8.10.2', '8.10.2', '8.10.2', '0', '8.10.2', '8.10.2', '8.10.2', '0.3.7', '8.10.2', '8.10', '5.8.10', '5.9.0', '8.10.2', '8.10.2', '8.10.2', '8.10.2', '8.10.2', '8.10.2', '8.10.2', '8.10.2', '8.10.2', '8.10.2', '8.10.2', '8.10.2', '8.10.2', '9', '8.10.2', '8.10.2', '8.10.2', '9', '8.10.2', '8.10.2', '8.10.2', '9', '8.10.2', '8.10.2', '8.10.2', '9', '8.10.2', '8.10.2', '8.10.2', '9', '8.10.2', '8.10.2', '8.10.2', '9', '8.10.2', '8.10.2', '8.10.2', '9', '8.10.2', '8.10.2', '8.10.2', '9', '8.10.2', '8.10.2', '8.10.2', '9', '8.10.2', '8.10.2', '8.10.2', '8.10.2', '8.10.2', '8.10.2', '8.10.2', '8.10.2', '8.10.2', '8.10.2', '8.10.2', '8.10.2', '8.10.2', '8.10.2', '8.10.2', '8.10.2', '4.7.10.0', '6.10.1', '8.10', '0.3.7', '8.10.2', '8.10.2', '8.10.2', '0', '8.10.2', '8.10.2', '8.10.2', '0', '8.10.2', '8.10.2', '8.10.2', '0', '8.10.2', '8.10.2', '8.10.2', '0', '8.10.2', '8.10.2', '8.10.2', '0', '8.10.2', '8.10.2', '8.10.2', '0', '8.10.2', '8.10.2', '8.10.2', '0', '8.10.2', '8.10.2', '8.10.2', '0', '8.10.2', '8.10.2', '8.10.2', '0', '8.10.2', '8.10.2', '8.10.2', '0', '8.10.2', '8.10.2', '8.10.2', '0', '8.10.2', '8.10.2', '8.10.2', '0', '8.10.2', '8.10.2', '8.10.2', '0', '8.10.2', '8.10.2', '8.10.2', '0', '8.10.2', '8.10.2', '8.0.3', '10.0.3', '5.8.0', '5.8.10', '8.10.2', '8.10.2', '8.10', '8.10.2', '8.10.2', '8.10.2', '8.10.2', '8.10.2', '8.10.2', '8.10.2', '8.10.2', '8.10.2', '8.10.2', '8.10.2', '8.10.2', '8.10.2', '8.10.2', '8.10.2', '8.10.2', '8.10.2', '8.10.2', '8.10.2', '8.10.2', '8.10.2', '8.10.2', '8.10.2', '8.10.2', '8.10.2', '8.10.2', '8.10.2', '8.10.2', '8.10.2', '8.10.2', '8.10.2', '8.10.2', '8.10.2', '8.10.2', '8.10.2', '8.10.2', '8.10.2', '8.10.2', '8.10.2', '8.10.2', '8.10.2', '8.10.2', '8.10.2', '8.10.2', '8.10.2', '8.10.2', '8.10.2', '8.10.2', '8.10.2', '8.10.2', '8.10.2', '8.10.2', '8.10.2', '8.10.2', '8.10.2', '7.11.2', '8.10.2', '8.10', '8.0', '3.7.11', '2.5.8.10', '8.10', '8.10', '8.10.2', '0', '8.10.2', '8.10.2', '8.10.2', '0', '8.10.2', '8.10.2', '8.10.2', '0', '8.10.2', '8.10.2', '8.10.2', '0', '8.10.2', '8.10.2', '8.10.2', '0', '8.10.2', '8.10.2', '8.10.2', '0', '8.10.2', '8.10.2', '8.10.2', '0', '8.10.2', '8.10.2', '8.10.2', '0', '8.10.2', '8.10.2', '8.10.2', '0', '8.10.2', '8.10.2', '8.10.2', '0', '8.10.2', '8.10.2', '8.10.2', '0', '8.10.2', '8.10.2', '8.10.2', '0', '8.10.2', '8.10.2', '8.10.2', '0', '8.10.2', '8.10.2', '8.10.2', '0', '8.10.2', '8.10.2', '8.10.2', '0.3.7', '8.10', '7.11.2', '4.6.10', '5.9.0', '8.10.2', '8.10.2', '8.10.2', '8.10.2', '8.10.2', '8.10.2', '8.10.2', '8.10.2', '8.10.2', '8.10.2', '8.10.2', '8.10.2', '8.10.2', '8.10.2', '8.10.2', '8.10.2', '8.10.2', '8.10.2', '8.10.2', '8.10.2', '8.10.2', '8.10.2', '8.10.2', '8.10.2', '8.10.2', '8.10.2', '8.10.2', '8.10.2', '8.10.2', '8.10.2', '8.10.2', '8.10.2', '8.10.2', '8.10.2', '8.10.2', '8.10.2', '8.10.2', '8.10.2', '8.10.2', '8.10.2', '8.10.2', '8.10.2', '8.10.2', '8.10.2', '8.10.2', '8.10.2', '8.10.2', '8.10.2', '8.10.2', '8.10.2', '8.10.2', '8.10.2', '8.10.2', '8.10.2', '8.10.2', '8.10.2', '8.10.2', '8.10.2', '8.10.2', '8.10.2', '8.10', '8.10', '3.7.11', '4.7.10.0', '7.8.0', '0.6', '8.10.2', '8.10.2', '8.10.2', '0.3.7', '8.10.2', '8.10.2', '8.10.2', '0', '8.10.2', '8.10.2', '8.10.2', '0', '8.10.2', '8.10.2', '8.10.2', '0', '8.10.2', '8.10.2', '8.10.2', '0', '8.10.2', '8.10.2', '8.10.2', '0', '8.10.2', '8.10.2', '8.10.2', '0', '8.10.2', '8.10.2', '8.10.2', '0', '8.10.2', '8.10.2', '8.10.2', '0', '8.10.2', '8.10.2', '8.10.2', '0', '8.10.2', '8.10.2', '8.10.2', '0', '8.10.2', '8.10.2', '8.10.2', '0', '8.10.2', '8.10.2', '8.10.2', '0.4', '8.10.2', '8.10.2', '8.10', '0.3.7', '8.10.2', '8.10.2', '7.8.0', '2.5.8.10', '4.7.10.0', '5', '8.10', '8.0.3', '8.10', '8.10.2', '8.10.2', '8.10.2', '8.10.2', '8.10', '8.10.2', '8.10.2', '8.10.2', '8.10.2', '8.10.2', '8.10.2', '8.10.2', '8.10.2', '8.10.2', '8.10.2', '8.10.2', '8.10.2', '8.10.2', '8.10.2', '8.10.2', '8.10.2', '8.10.2', '8.10.2', '8.10.2', '8.10.2', '8.10.2', '8.10.2', '8.10.2', '8.10.2', '8.10.2', '8.10.2', '8.10.2', '8.10.2', '8.10.2', '8.10.2', '8.10.2', '8.10.2', '8.10.2', '8.10.2', '8.10.2', '8.10.2', '8.10.2', '8.10.2', '8.10.2', '8.10.2', '8.10.2', '8.10.2', '8.10.2', '8.10.2', '8.10.2', '8.10.2', '8.10.2', '8.10', '8.10.2', '8.10.2', '8.0', '8.10.2', '8', '7.10.0', '3.7.11', '3', '7.11.2', '7.10', '6.11', '10', '8.10', '8', '7.10.1.3', '0.3.7', '8.10.2', '8.0', '7.8.0', '0.4', '8.10.2', '8.10', '7.11', '0', '8.10.2', '8.10', '7.8.0', '0.3.7', '8.10.2', '8.10', '7.11.2', '0', '8.10.2', '8.0.3', '8', '0.3.7', '8.10.2', '8.10', '7.11', '0', '8.10.2', '8.0.3', '7.8.0', '0.3.7', '8.10.2', '8.10', '7.11.2', '0', '8.10.2', '8.0.3', '8', '0.3.7', '8.10.2', '8.10', '7.10.1.3', '0', '8.10.2', '8.0.3', '7.11', '0.5', '8.10.2', '8', '7.10.0', '0.3.7', '8.0.3', '7.10.2', '6.11', '10.0', '7.10', '6.10', '3.7', '4', '7.10.1.3', '7.10.2', '8.0', '8.0.3', '8.10', '8.10', '8.10', '8.0.3', '8.10.2', '8.10.2', '8.10.2', '8.10.2', '8.10.2', '8.10.2', '8.10.2', '8.10', '8.10.2', '8.10.2', '8.10.2', '8.10.2', '8.10.2', '8.10.2', '8.10.2', '8.10.2', '8.10.2', '8.10.2', '8.10.2', '8.10.2', '8.10.2', '8.10.2', '8.10.2', '8.10', '8.10.2', '8.10.2', '8.10.2', '8.10.2', '8.10.2', '8.10.2', '8.10.2', '8.10', '8.10.2', '8.10.2', '8.10.2', '8.10.2', '8.10.2', '8.10.2', '8.10.2', '8.10', '8.10.2', '8.10.2', '8.10.2', '8.10.2', '8.10', '8.10.2', '8.10', '8.0.3', '8.10', '8.10', '8.0', '7.11.2', '7.10', '7.11.2', '3.7.10', '3.7', '4.6', '3', '4.6.10', '4.7.10.0', '5.10', '2.3.7', '5.8', '5.8.0', '5.10', '2.5.8', '5.8.0', '5.8.0', '5.8.0', '11.3.6', '5.9.0', '6', '5.8', '2.3.5.8.10', '5.9.0', '5.9.0', '5.8.10', '11.2', '5.9.0', '6', '5.8', '2.3.5.8.10', '5.9.0', '5.9.0', '5.8.0', '11.2', '5.9.0', '5.9.0', '5.8', '2.3.7', '5.8.10', '5.9.0', '5.8.0', '11.2', '5.9.0', '5.9.0', '5.10', '2.3.7', '5.9.0', '5.9.0', '5.8', '11.3.6', '5.8.10', '5.9.0', '5', '2.5', '5.8.0', '5.8.0', '5', '2.3.7', '5.10', '5.8', '4', '2.7', '4.7.10.0', '4.6.10', '3.7', '3.5.8', '3.6.9']\n"
          ],
          "name": "stdout"
        },
        {
          "output_type": "stream",
          "text": [
            "/usr/local/lib/python3.7/dist-packages/torch/_tensor.py:490: UserWarning: non-inplace resize is deprecated\n",
            "  warnings.warn(\"non-inplace resize is deprecated\")\n"
          ],
          "name": "stderr"
        }
      ]
    },
    {
      "cell_type": "markdown",
      "metadata": {
        "id": "rHnde72CLQ9B"
      },
      "source": [
        "# Export"
      ]
    },
    {
      "cell_type": "code",
      "metadata": {
        "id": "otbtkSAeR9ho",
        "outputId": "c3b2b4c9-9669-4fd9-b62a-c013d60a2482",
        "colab": {
          "base_uri": "https://localhost:8080/"
        }
      },
      "source": [
        "# exportando el diccionario\n",
        "import pickle\n",
        "import numpy as np\n",
        "import json\n",
        "\n",
        "print(type(dicc))\n",
        "\n",
        "# pickle\n",
        "with open(\"diccionario.pkl\", \"wb\") as tf:\n",
        "    pickle.dump(dicc,tf)\n",
        "# numpy\n",
        "np.save('diccionario.npy', dicc)\n",
        "# json\n",
        "tf = open(\"diccionario.json\", \"w\")\n",
        "json.dump(dicc,tf)\n",
        "tf.close()"
      ],
      "execution_count": 29,
      "outputs": [
        {
          "output_type": "stream",
          "text": [
            "<class 'dict'>\n"
          ],
          "name": "stdout"
        }
      ]
    },
    {
      "cell_type": "code",
      "metadata": {
        "id": "6zovNZmXLV5Q",
        "colab": {
          "base_uri": "https://localhost:8080/"
        },
        "outputId": "fa5f76d8-8e85-447d-d350-260104481082"
      },
      "source": [
        "#tracing\n",
        "\n",
        "traced_model = torch.jit.trace(gen.cuda(), fixed_noise)\n",
        "traced_model.save('gen.zip')"
      ],
      "execution_count": null,
      "outputs": [
        {
          "output_type": "stream",
          "text": [
            "/usr/local/lib/python3.7/dist-packages/torch/jit/_trace.py:966: TracerWarning: Output nr 1. of the traced function does not match the corresponding output of the Python function. Detailed error:\n",
            "With rtol=1e-05 and atol=1e-05, found 118703 element(s) (out of 131072) whose difference(s) exceeded the margin of error (including 0 nan comparisons). The greatest difference was 0.20057490468025208 (0.6767550706863403 vs. 0.47618016600608826), which occurred at index (18, 0, 39, 13).\n",
            "  _module_class,\n"
          ],
          "name": "stderr"
        }
      ]
    },
    {
      "cell_type": "code",
      "metadata": {
        "id": "JCKGC7whLiLf",
        "colab": {
          "base_uri": "https://localhost:8080/"
        },
        "outputId": "1e0aa3ee-d40e-4007-d0e2-e82e6fefb33e"
      },
      "source": [
        "loaded_model = torch.jit.load('gen.zip')\n",
        "loaded_model.eval()"
      ],
      "execution_count": null,
      "outputs": [
        {
          "output_type": "execute_result",
          "data": {
            "text/plain": [
              "RecursiveScriptModule(\n",
              "  original_name=Generator\n",
              "  (dropout): RecursiveScriptModule(original_name=Dropout)\n",
              "  (net): RecursiveScriptModule(\n",
              "    original_name=Sequential\n",
              "    (0): RecursiveScriptModule(\n",
              "      original_name=Sequential\n",
              "      (0): RecursiveScriptModule(original_name=ConvTranspose2d)\n",
              "      (1): RecursiveScriptModule(original_name=ReLU)\n",
              "    )\n",
              "    (1): RecursiveScriptModule(\n",
              "      original_name=Sequential\n",
              "      (0): RecursiveScriptModule(original_name=ConvTranspose2d)\n",
              "      (1): RecursiveScriptModule(original_name=ReLU)\n",
              "    )\n",
              "    (2): RecursiveScriptModule(\n",
              "      original_name=Sequential\n",
              "      (0): RecursiveScriptModule(original_name=ConvTranspose2d)\n",
              "      (1): RecursiveScriptModule(original_name=ReLU)\n",
              "    )\n",
              "    (3): RecursiveScriptModule(\n",
              "      original_name=Sequential\n",
              "      (0): RecursiveScriptModule(original_name=ConvTranspose2d)\n",
              "      (1): RecursiveScriptModule(original_name=ReLU)\n",
              "    )\n",
              "    (4): RecursiveScriptModule(original_name=ConvTranspose2d)\n",
              "    (5): RecursiveScriptModule(original_name=Tanh)\n",
              "  )\n",
              ")"
            ]
          },
          "metadata": {
            "tags": []
          },
          "execution_count": 32
        }
      ]
    }
  ]
}